{
 "cells": [
  {
   "cell_type": "code",
   "execution_count": 1,
   "id": "5753b376",
   "metadata": {},
   "outputs": [],
   "source": [
    "import pandas as pd\n",
    "import numpy as np\n",
    "import sklearn\n",
    "import seaborn as sns\n",
    "import matplotlib.pyplot as plt\n",
    "from sklearn.pipeline import make_pipeline, Pipeline\n",
    "from sklearn.model_selection import GridSearchCV\n",
    "from sklearn.model_selection import KFold\n",
    "from sklearn.feature_selection import SequentialFeatureSelector\n",
    "from sklearn.feature_selection import VarianceThreshold\n",
    "from sklearn.feature_selection import SelectKBest, f_regression"
   ]
  },
  {
   "cell_type": "code",
   "execution_count": 2,
   "id": "1bc5d5ce",
   "metadata": {},
   "outputs": [],
   "source": [
    "df_high = pd.read_csv('high.csv')\n",
    "df_low = pd.read_csv('low.csv')"
   ]
  },
  {
   "cell_type": "code",
   "execution_count": 3,
   "id": "7c3580ee",
   "metadata": {},
   "outputs": [
    {
     "data": {
      "text/html": [
       "<div>\n",
       "<style scoped>\n",
       "    .dataframe tbody tr th:only-of-type {\n",
       "        vertical-align: middle;\n",
       "    }\n",
       "\n",
       "    .dataframe tbody tr th {\n",
       "        vertical-align: top;\n",
       "    }\n",
       "\n",
       "    .dataframe thead th {\n",
       "        text-align: right;\n",
       "    }\n",
       "</style>\n",
       "<table border=\"1\" class=\"dataframe\">\n",
       "  <thead>\n",
       "    <tr style=\"text-align: right;\">\n",
       "      <th></th>\n",
       "      <th>TRADE_DATE</th>\n",
       "      <th>SEC_CODE</th>\n",
       "      <th>SYMBOL1</th>\n",
       "      <th>MARKET</th>\n",
       "      <th>VOLUME</th>\n",
       "      <th>TRADE_QTY</th>\n",
       "      <th>NO_OF_TRADES</th>\n",
       "      <th>HIGH</th>\n",
       "      <th>BEST_ASK_PRICE</th>\n",
       "      <th>BEST_ASK_QTY</th>\n",
       "      <th>BEST_BID_PRICE</th>\n",
       "      <th>BEST_BID_QTY</th>\n",
       "    </tr>\n",
       "  </thead>\n",
       "  <tbody>\n",
       "    <tr>\n",
       "      <th>11</th>\n",
       "      <td>01/02/2022</td>\n",
       "      <td>111027</td>\n",
       "      <td>BAMB</td>\n",
       "      <td>0</td>\n",
       "      <td>3386.00</td>\n",
       "      <td>12540</td>\n",
       "      <td>11</td>\n",
       "      <td>0.28</td>\n",
       "      <td>1.23</td>\n",
       "      <td>12135.0</td>\n",
       "      <td>1.73</td>\n",
       "      <td>2192.0</td>\n",
       "    </tr>\n",
       "    <tr>\n",
       "      <th>33</th>\n",
       "      <td>01/02/2022</td>\n",
       "      <td>131064</td>\n",
       "      <td>ABLA</td>\n",
       "      <td>0</td>\n",
       "      <td>81.80</td>\n",
       "      <td>1020</td>\n",
       "      <td>2</td>\n",
       "      <td>0.09</td>\n",
       "      <td>1.02</td>\n",
       "      <td>369800.0</td>\n",
       "      <td>1.52</td>\n",
       "      <td>48431.0</td>\n",
       "    </tr>\n",
       "    <tr>\n",
       "      <th>42</th>\n",
       "      <td>01/02/2022</td>\n",
       "      <td>131092</td>\n",
       "      <td>ARED</td>\n",
       "      <td>0</td>\n",
       "      <td>303.80</td>\n",
       "      <td>10120</td>\n",
       "      <td>2</td>\n",
       "      <td>0.04</td>\n",
       "      <td>1.02</td>\n",
       "      <td>231319.0</td>\n",
       "      <td>1.52</td>\n",
       "      <td>675416.0</td>\n",
       "    </tr>\n",
       "    <tr>\n",
       "      <th>45</th>\n",
       "      <td>01/02/2022</td>\n",
       "      <td>131213</td>\n",
       "      <td>RJAL</td>\n",
       "      <td>0</td>\n",
       "      <td>149.50</td>\n",
       "      <td>650</td>\n",
       "      <td>2</td>\n",
       "      <td>0.23</td>\n",
       "      <td>1.02</td>\n",
       "      <td>350.0</td>\n",
       "      <td>1.52</td>\n",
       "      <td>43500.0</td>\n",
       "    </tr>\n",
       "    <tr>\n",
       "      <th>46</th>\n",
       "      <td>01/02/2022</td>\n",
       "      <td>131217</td>\n",
       "      <td>IPRO</td>\n",
       "      <td>0</td>\n",
       "      <td>12694.00</td>\n",
       "      <td>126928</td>\n",
       "      <td>57</td>\n",
       "      <td>0.11</td>\n",
       "      <td>2.29</td>\n",
       "      <td>10.0</td>\n",
       "      <td>2.77</td>\n",
       "      <td>631070.0</td>\n",
       "    </tr>\n",
       "    <tr>\n",
       "      <th>...</th>\n",
       "      <td>...</td>\n",
       "      <td>...</td>\n",
       "      <td>...</td>\n",
       "      <td>...</td>\n",
       "      <td>...</td>\n",
       "      <td>...</td>\n",
       "      <td>...</td>\n",
       "      <td>...</td>\n",
       "      <td>...</td>\n",
       "      <td>...</td>\n",
       "      <td>...</td>\n",
       "      <td>...</td>\n",
       "    </tr>\n",
       "    <tr>\n",
       "      <th>27993</th>\n",
       "      <td>31/10/2022</td>\n",
       "      <td>141059</td>\n",
       "      <td>JNCC</td>\n",
       "      <td>0</td>\n",
       "      <td>20.00</td>\n",
       "      <td>500</td>\n",
       "      <td>2</td>\n",
       "      <td>0.04</td>\n",
       "      <td>1.02</td>\n",
       "      <td>49966.0</td>\n",
       "      <td>1.52</td>\n",
       "      <td>1400.0</td>\n",
       "    </tr>\n",
       "    <tr>\n",
       "      <th>27996</th>\n",
       "      <td>31/10/2022</td>\n",
       "      <td>141072</td>\n",
       "      <td>AEIN</td>\n",
       "      <td>0</td>\n",
       "      <td>1539.50</td>\n",
       "      <td>16000</td>\n",
       "      <td>8</td>\n",
       "      <td>0.10</td>\n",
       "      <td>1.16</td>\n",
       "      <td>32850.0</td>\n",
       "      <td>1.66</td>\n",
       "      <td>6050.0</td>\n",
       "    </tr>\n",
       "    <tr>\n",
       "      <th>27998</th>\n",
       "      <td>31/10/2022</td>\n",
       "      <td>141086</td>\n",
       "      <td>INOH</td>\n",
       "      <td>0</td>\n",
       "      <td>9383.58</td>\n",
       "      <td>8481</td>\n",
       "      <td>45</td>\n",
       "      <td>1.15</td>\n",
       "      <td>2.01</td>\n",
       "      <td>733.0</td>\n",
       "      <td>2.50</td>\n",
       "      <td>500.0</td>\n",
       "    </tr>\n",
       "    <tr>\n",
       "      <th>28000</th>\n",
       "      <td>31/10/2022</td>\n",
       "      <td>141097</td>\n",
       "      <td>MECE</td>\n",
       "      <td>0</td>\n",
       "      <td>3642.33</td>\n",
       "      <td>8671</td>\n",
       "      <td>16</td>\n",
       "      <td>0.43</td>\n",
       "      <td>1.34</td>\n",
       "      <td>1156.0</td>\n",
       "      <td>1.84</td>\n",
       "      <td>34300.0</td>\n",
       "    </tr>\n",
       "    <tr>\n",
       "      <th>28004</th>\n",
       "      <td>31/10/2022</td>\n",
       "      <td>141204</td>\n",
       "      <td>JPHM</td>\n",
       "      <td>0</td>\n",
       "      <td>787.00</td>\n",
       "      <td>2900</td>\n",
       "      <td>11</td>\n",
       "      <td>0.28</td>\n",
       "      <td>1.23</td>\n",
       "      <td>600.0</td>\n",
       "      <td>1.73</td>\n",
       "      <td>850.0</td>\n",
       "    </tr>\n",
       "  </tbody>\n",
       "</table>\n",
       "<p>4569 rows × 12 columns</p>\n",
       "</div>"
      ],
      "text/plain": [
       "       TRADE_DATE  SEC_CODE SYMBOL1  MARKET    VOLUME  TRADE_QTY  \\\n",
       "11     01/02/2022    111027    BAMB       0   3386.00      12540   \n",
       "33     01/02/2022    131064    ABLA       0     81.80       1020   \n",
       "42     01/02/2022    131092    ARED       0    303.80      10120   \n",
       "45     01/02/2022    131213    RJAL       0    149.50        650   \n",
       "46     01/02/2022    131217    IPRO       0  12694.00     126928   \n",
       "...           ...       ...     ...     ...       ...        ...   \n",
       "27993  31/10/2022    141059    JNCC       0     20.00        500   \n",
       "27996  31/10/2022    141072    AEIN       0   1539.50      16000   \n",
       "27998  31/10/2022    141086    INOH       0   9383.58       8481   \n",
       "28000  31/10/2022    141097    MECE       0   3642.33       8671   \n",
       "28004  31/10/2022    141204    JPHM       0    787.00       2900   \n",
       "\n",
       "       NO_OF_TRADES  HIGH  BEST_ASK_PRICE  BEST_ASK_QTY  BEST_BID_PRICE  \\\n",
       "11               11  0.28            1.23       12135.0            1.73   \n",
       "33                2  0.09            1.02      369800.0            1.52   \n",
       "42                2  0.04            1.02      231319.0            1.52   \n",
       "45                2  0.23            1.02         350.0            1.52   \n",
       "46               57  0.11            2.29          10.0            2.77   \n",
       "...             ...   ...             ...           ...             ...   \n",
       "27993             2  0.04            1.02       49966.0            1.52   \n",
       "27996             8  0.10            1.16       32850.0            1.66   \n",
       "27998            45  1.15            2.01         733.0            2.50   \n",
       "28000            16  0.43            1.34        1156.0            1.84   \n",
       "28004            11  0.28            1.23         600.0            1.73   \n",
       "\n",
       "       BEST_BID_QTY  \n",
       "11           2192.0  \n",
       "33          48431.0  \n",
       "42         675416.0  \n",
       "45          43500.0  \n",
       "46         631070.0  \n",
       "...             ...  \n",
       "27993        1400.0  \n",
       "27996        6050.0  \n",
       "27998         500.0  \n",
       "28000       34300.0  \n",
       "28004         850.0  \n",
       "\n",
       "[4569 rows x 12 columns]"
      ]
     },
     "execution_count": 3,
     "metadata": {},
     "output_type": "execute_result"
    }
   ],
   "source": [
    "df_high[df_high.MARKET == 0]"
   ]
  },
  {
   "cell_type": "code",
   "execution_count": 3,
   "id": "48ba350d",
   "metadata": {},
   "outputs": [
    {
     "data": {
      "text/html": [
       "<div>\n",
       "<style scoped>\n",
       "    .dataframe tbody tr th:only-of-type {\n",
       "        vertical-align: middle;\n",
       "    }\n",
       "\n",
       "    .dataframe tbody tr th {\n",
       "        vertical-align: top;\n",
       "    }\n",
       "\n",
       "    .dataframe thead th {\n",
       "        text-align: right;\n",
       "    }\n",
       "</style>\n",
       "<table border=\"1\" class=\"dataframe\">\n",
       "  <thead>\n",
       "    <tr style=\"text-align: right;\">\n",
       "      <th></th>\n",
       "      <th>TRADE_DATE</th>\n",
       "      <th>SEC_CODE</th>\n",
       "      <th>SYMBOL1</th>\n",
       "      <th>MARKET</th>\n",
       "      <th>VOLUME</th>\n",
       "      <th>TRADE_QTY</th>\n",
       "      <th>NO_OF_TRADES</th>\n",
       "      <th>HIGH</th>\n",
       "      <th>BEST_ASK_PRICE</th>\n",
       "      <th>BEST_ASK_QTY</th>\n",
       "      <th>BEST_BID_PRICE</th>\n",
       "      <th>BEST_BID_QTY</th>\n",
       "    </tr>\n",
       "  </thead>\n",
       "  <tbody>\n",
       "    <tr>\n",
       "      <th>0</th>\n",
       "      <td>01/02/2022</td>\n",
       "      <td>111001</td>\n",
       "      <td>JOIB</td>\n",
       "      <td>1</td>\n",
       "      <td>199083.73</td>\n",
       "      <td>54378</td>\n",
       "      <td>73</td>\n",
       "      <td>3.67</td>\n",
       "      <td>2.65</td>\n",
       "      <td>585.0</td>\n",
       "      <td>3.13</td>\n",
       "      <td>2000.0</td>\n",
       "    </tr>\n",
       "    <tr>\n",
       "      <th>1</th>\n",
       "      <td>01/02/2022</td>\n",
       "      <td>111002</td>\n",
       "      <td>JOKB</td>\n",
       "      <td>1</td>\n",
       "      <td>12707.76</td>\n",
       "      <td>9009</td>\n",
       "      <td>17</td>\n",
       "      <td>1.42</td>\n",
       "      <td>1.36</td>\n",
       "      <td>493.0</td>\n",
       "      <td>1.86</td>\n",
       "      <td>1570.0</td>\n",
       "    </tr>\n",
       "    <tr>\n",
       "      <th>2</th>\n",
       "      <td>01/02/2022</td>\n",
       "      <td>111003</td>\n",
       "      <td>JCBK</td>\n",
       "      <td>2</td>\n",
       "      <td>727.41</td>\n",
       "      <td>726</td>\n",
       "      <td>7</td>\n",
       "      <td>1.03</td>\n",
       "      <td>1.14</td>\n",
       "      <td>1853.0</td>\n",
       "      <td>1.64</td>\n",
       "      <td>1000.0</td>\n",
       "    </tr>\n",
       "    <tr>\n",
       "      <th>3</th>\n",
       "      <td>01/02/2022</td>\n",
       "      <td>111004</td>\n",
       "      <td>THBK</td>\n",
       "      <td>1</td>\n",
       "      <td>1558.10</td>\n",
       "      <td>394</td>\n",
       "      <td>5</td>\n",
       "      <td>3.97</td>\n",
       "      <td>1.09</td>\n",
       "      <td>660.0</td>\n",
       "      <td>1.59</td>\n",
       "      <td>46.0</td>\n",
       "    </tr>\n",
       "    <tr>\n",
       "      <th>4</th>\n",
       "      <td>01/02/2022</td>\n",
       "      <td>111006</td>\n",
       "      <td>SIBK</td>\n",
       "      <td>1</td>\n",
       "      <td>29030.98</td>\n",
       "      <td>14867</td>\n",
       "      <td>11</td>\n",
       "      <td>1.98</td>\n",
       "      <td>1.23</td>\n",
       "      <td>1000.0</td>\n",
       "      <td>1.73</td>\n",
       "      <td>333.0</td>\n",
       "    </tr>\n",
       "    <tr>\n",
       "      <th>...</th>\n",
       "      <td>...</td>\n",
       "      <td>...</td>\n",
       "      <td>...</td>\n",
       "      <td>...</td>\n",
       "      <td>...</td>\n",
       "      <td>...</td>\n",
       "      <td>...</td>\n",
       "      <td>...</td>\n",
       "      <td>...</td>\n",
       "      <td>...</td>\n",
       "      <td>...</td>\n",
       "      <td>...</td>\n",
       "    </tr>\n",
       "    <tr>\n",
       "      <th>28007</th>\n",
       "      <td>31/10/2022</td>\n",
       "      <td>141214</td>\n",
       "      <td>ASAS</td>\n",
       "      <td>2</td>\n",
       "      <td>1025509.50</td>\n",
       "      <td>1981726</td>\n",
       "      <td>25</td>\n",
       "      <td>0.52</td>\n",
       "      <td>1.55</td>\n",
       "      <td>2462.0</td>\n",
       "      <td>2.04</td>\n",
       "      <td>0.0</td>\n",
       "    </tr>\n",
       "    <tr>\n",
       "      <th>28008</th>\n",
       "      <td>31/10/2022</td>\n",
       "      <td>141215</td>\n",
       "      <td>UCIC</td>\n",
       "      <td>2</td>\n",
       "      <td>154.70</td>\n",
       "      <td>455</td>\n",
       "      <td>2</td>\n",
       "      <td>0.34</td>\n",
       "      <td>1.02</td>\n",
       "      <td>6959.0</td>\n",
       "      <td>1.52</td>\n",
       "      <td>14710.0</td>\n",
       "    </tr>\n",
       "    <tr>\n",
       "      <th>28009</th>\n",
       "      <td>31/10/2022</td>\n",
       "      <td>141223</td>\n",
       "      <td>SHBA</td>\n",
       "      <td>2</td>\n",
       "      <td>57426.99</td>\n",
       "      <td>10276</td>\n",
       "      <td>14</td>\n",
       "      <td>5.61</td>\n",
       "      <td>1.29</td>\n",
       "      <td>70.0</td>\n",
       "      <td>1.79</td>\n",
       "      <td>0.0</td>\n",
       "    </tr>\n",
       "    <tr>\n",
       "      <th>28010</th>\n",
       "      <td>31/10/2022</td>\n",
       "      <td>141224</td>\n",
       "      <td>NCCO</td>\n",
       "      <td>1</td>\n",
       "      <td>1135.00</td>\n",
       "      <td>500</td>\n",
       "      <td>1</td>\n",
       "      <td>2.27</td>\n",
       "      <td>1.00</td>\n",
       "      <td>500.0</td>\n",
       "      <td>1.50</td>\n",
       "      <td>500.0</td>\n",
       "    </tr>\n",
       "    <tr>\n",
       "      <th>28011</th>\n",
       "      <td>31/10/2022</td>\n",
       "      <td>142041</td>\n",
       "      <td>JOPT</td>\n",
       "      <td>1</td>\n",
       "      <td>921007.59</td>\n",
       "      <td>170828</td>\n",
       "      <td>568</td>\n",
       "      <td>5.57</td>\n",
       "      <td>14.02</td>\n",
       "      <td>1048.0</td>\n",
       "      <td>14.35</td>\n",
       "      <td>20.0</td>\n",
       "    </tr>\n",
       "  </tbody>\n",
       "</table>\n",
       "<p>28012 rows × 12 columns</p>\n",
       "</div>"
      ],
      "text/plain": [
       "       TRADE_DATE  SEC_CODE SYMBOL1  MARKET      VOLUME  TRADE_QTY  \\\n",
       "0      01/02/2022    111001    JOIB       1   199083.73      54378   \n",
       "1      01/02/2022    111002    JOKB       1    12707.76       9009   \n",
       "2      01/02/2022    111003    JCBK       2      727.41        726   \n",
       "3      01/02/2022    111004    THBK       1     1558.10        394   \n",
       "4      01/02/2022    111006    SIBK       1    29030.98      14867   \n",
       "...           ...       ...     ...     ...         ...        ...   \n",
       "28007  31/10/2022    141214    ASAS       2  1025509.50    1981726   \n",
       "28008  31/10/2022    141215    UCIC       2      154.70        455   \n",
       "28009  31/10/2022    141223    SHBA       2    57426.99      10276   \n",
       "28010  31/10/2022    141224    NCCO       1     1135.00        500   \n",
       "28011  31/10/2022    142041    JOPT       1   921007.59     170828   \n",
       "\n",
       "       NO_OF_TRADES  HIGH  BEST_ASK_PRICE  BEST_ASK_QTY  BEST_BID_PRICE  \\\n",
       "0                73  3.67            2.65         585.0            3.13   \n",
       "1                17  1.42            1.36         493.0            1.86   \n",
       "2                 7  1.03            1.14        1853.0            1.64   \n",
       "3                 5  3.97            1.09         660.0            1.59   \n",
       "4                11  1.98            1.23        1000.0            1.73   \n",
       "...             ...   ...             ...           ...             ...   \n",
       "28007            25  0.52            1.55        2462.0            2.04   \n",
       "28008             2  0.34            1.02        6959.0            1.52   \n",
       "28009            14  5.61            1.29          70.0            1.79   \n",
       "28010             1  2.27            1.00         500.0            1.50   \n",
       "28011           568  5.57           14.02        1048.0           14.35   \n",
       "\n",
       "       BEST_BID_QTY  \n",
       "0            2000.0  \n",
       "1            1570.0  \n",
       "2            1000.0  \n",
       "3              46.0  \n",
       "4             333.0  \n",
       "...             ...  \n",
       "28007           0.0  \n",
       "28008       14710.0  \n",
       "28009           0.0  \n",
       "28010         500.0  \n",
       "28011          20.0  \n",
       "\n",
       "[28012 rows x 12 columns]"
      ]
     },
     "execution_count": 3,
     "metadata": {},
     "output_type": "execute_result"
    }
   ],
   "source": [
    "df_high"
   ]
  },
  {
   "cell_type": "code",
   "execution_count": 4,
   "id": "9357059d",
   "metadata": {},
   "outputs": [
    {
     "data": {
      "text/html": [
       "<div>\n",
       "<style scoped>\n",
       "    .dataframe tbody tr th:only-of-type {\n",
       "        vertical-align: middle;\n",
       "    }\n",
       "\n",
       "    .dataframe tbody tr th {\n",
       "        vertical-align: top;\n",
       "    }\n",
       "\n",
       "    .dataframe thead th {\n",
       "        text-align: right;\n",
       "    }\n",
       "</style>\n",
       "<table border=\"1\" class=\"dataframe\">\n",
       "  <thead>\n",
       "    <tr style=\"text-align: right;\">\n",
       "      <th></th>\n",
       "      <th>TRADE_DATE</th>\n",
       "      <th>SEC_CODE</th>\n",
       "      <th>SYMBOL1</th>\n",
       "      <th>MARKET</th>\n",
       "      <th>VOLUME</th>\n",
       "      <th>TRADE_QTY</th>\n",
       "      <th>NO_OF_TRADES</th>\n",
       "      <th>LOW</th>\n",
       "      <th>BEST_ASK_PRICE</th>\n",
       "      <th>BEST_ASK_QTY</th>\n",
       "      <th>BEST_BID_PRICE</th>\n",
       "      <th>BEST_BID_QTY</th>\n",
       "    </tr>\n",
       "  </thead>\n",
       "  <tbody>\n",
       "    <tr>\n",
       "      <th>0</th>\n",
       "      <td>01/02/2022</td>\n",
       "      <td>111001</td>\n",
       "      <td>JOIB</td>\n",
       "      <td>1</td>\n",
       "      <td>199083.73</td>\n",
       "      <td>54378</td>\n",
       "      <td>73</td>\n",
       "      <td>3.65</td>\n",
       "      <td>2.65</td>\n",
       "      <td>585.0</td>\n",
       "      <td>3.13</td>\n",
       "      <td>2000.0</td>\n",
       "    </tr>\n",
       "    <tr>\n",
       "      <th>1</th>\n",
       "      <td>01/02/2022</td>\n",
       "      <td>111002</td>\n",
       "      <td>JOKB</td>\n",
       "      <td>1</td>\n",
       "      <td>12707.76</td>\n",
       "      <td>9009</td>\n",
       "      <td>17</td>\n",
       "      <td>1.41</td>\n",
       "      <td>1.36</td>\n",
       "      <td>493.0</td>\n",
       "      <td>1.86</td>\n",
       "      <td>1570.0</td>\n",
       "    </tr>\n",
       "    <tr>\n",
       "      <th>2</th>\n",
       "      <td>01/02/2022</td>\n",
       "      <td>111003</td>\n",
       "      <td>JCBK</td>\n",
       "      <td>2</td>\n",
       "      <td>727.41</td>\n",
       "      <td>726</td>\n",
       "      <td>7</td>\n",
       "      <td>1.00</td>\n",
       "      <td>1.14</td>\n",
       "      <td>1853.0</td>\n",
       "      <td>1.64</td>\n",
       "      <td>1000.0</td>\n",
       "    </tr>\n",
       "    <tr>\n",
       "      <th>3</th>\n",
       "      <td>01/02/2022</td>\n",
       "      <td>111004</td>\n",
       "      <td>THBK</td>\n",
       "      <td>1</td>\n",
       "      <td>1558.10</td>\n",
       "      <td>394</td>\n",
       "      <td>5</td>\n",
       "      <td>3.95</td>\n",
       "      <td>1.09</td>\n",
       "      <td>660.0</td>\n",
       "      <td>1.59</td>\n",
       "      <td>46.0</td>\n",
       "    </tr>\n",
       "    <tr>\n",
       "      <th>4</th>\n",
       "      <td>01/02/2022</td>\n",
       "      <td>111006</td>\n",
       "      <td>SIBK</td>\n",
       "      <td>1</td>\n",
       "      <td>29030.98</td>\n",
       "      <td>14867</td>\n",
       "      <td>11</td>\n",
       "      <td>1.95</td>\n",
       "      <td>1.23</td>\n",
       "      <td>1000.0</td>\n",
       "      <td>1.73</td>\n",
       "      <td>333.0</td>\n",
       "    </tr>\n",
       "    <tr>\n",
       "      <th>...</th>\n",
       "      <td>...</td>\n",
       "      <td>...</td>\n",
       "      <td>...</td>\n",
       "      <td>...</td>\n",
       "      <td>...</td>\n",
       "      <td>...</td>\n",
       "      <td>...</td>\n",
       "      <td>...</td>\n",
       "      <td>...</td>\n",
       "      <td>...</td>\n",
       "      <td>...</td>\n",
       "      <td>...</td>\n",
       "    </tr>\n",
       "    <tr>\n",
       "      <th>28007</th>\n",
       "      <td>31/10/2022</td>\n",
       "      <td>141214</td>\n",
       "      <td>ASAS</td>\n",
       "      <td>2</td>\n",
       "      <td>1025509.50</td>\n",
       "      <td>1981726</td>\n",
       "      <td>25</td>\n",
       "      <td>0.51</td>\n",
       "      <td>1.55</td>\n",
       "      <td>2462.0</td>\n",
       "      <td>2.04</td>\n",
       "      <td>0.0</td>\n",
       "    </tr>\n",
       "    <tr>\n",
       "      <th>28008</th>\n",
       "      <td>31/10/2022</td>\n",
       "      <td>141215</td>\n",
       "      <td>UCIC</td>\n",
       "      <td>2</td>\n",
       "      <td>154.70</td>\n",
       "      <td>455</td>\n",
       "      <td>2</td>\n",
       "      <td>0.34</td>\n",
       "      <td>1.02</td>\n",
       "      <td>6959.0</td>\n",
       "      <td>1.52</td>\n",
       "      <td>14710.0</td>\n",
       "    </tr>\n",
       "    <tr>\n",
       "      <th>28009</th>\n",
       "      <td>31/10/2022</td>\n",
       "      <td>141223</td>\n",
       "      <td>SHBA</td>\n",
       "      <td>2</td>\n",
       "      <td>57426.99</td>\n",
       "      <td>10276</td>\n",
       "      <td>14</td>\n",
       "      <td>5.35</td>\n",
       "      <td>1.29</td>\n",
       "      <td>70.0</td>\n",
       "      <td>1.79</td>\n",
       "      <td>0.0</td>\n",
       "    </tr>\n",
       "    <tr>\n",
       "      <th>28010</th>\n",
       "      <td>31/10/2022</td>\n",
       "      <td>141224</td>\n",
       "      <td>NCCO</td>\n",
       "      <td>1</td>\n",
       "      <td>1135.00</td>\n",
       "      <td>500</td>\n",
       "      <td>1</td>\n",
       "      <td>2.27</td>\n",
       "      <td>1.00</td>\n",
       "      <td>500.0</td>\n",
       "      <td>1.50</td>\n",
       "      <td>500.0</td>\n",
       "    </tr>\n",
       "    <tr>\n",
       "      <th>28011</th>\n",
       "      <td>31/10/2022</td>\n",
       "      <td>142041</td>\n",
       "      <td>JOPT</td>\n",
       "      <td>1</td>\n",
       "      <td>921007.59</td>\n",
       "      <td>170828</td>\n",
       "      <td>568</td>\n",
       "      <td>5.24</td>\n",
       "      <td>14.02</td>\n",
       "      <td>1048.0</td>\n",
       "      <td>14.35</td>\n",
       "      <td>20.0</td>\n",
       "    </tr>\n",
       "  </tbody>\n",
       "</table>\n",
       "<p>28012 rows × 12 columns</p>\n",
       "</div>"
      ],
      "text/plain": [
       "       TRADE_DATE  SEC_CODE SYMBOL1  MARKET      VOLUME  TRADE_QTY  \\\n",
       "0      01/02/2022    111001    JOIB       1   199083.73      54378   \n",
       "1      01/02/2022    111002    JOKB       1    12707.76       9009   \n",
       "2      01/02/2022    111003    JCBK       2      727.41        726   \n",
       "3      01/02/2022    111004    THBK       1     1558.10        394   \n",
       "4      01/02/2022    111006    SIBK       1    29030.98      14867   \n",
       "...           ...       ...     ...     ...         ...        ...   \n",
       "28007  31/10/2022    141214    ASAS       2  1025509.50    1981726   \n",
       "28008  31/10/2022    141215    UCIC       2      154.70        455   \n",
       "28009  31/10/2022    141223    SHBA       2    57426.99      10276   \n",
       "28010  31/10/2022    141224    NCCO       1     1135.00        500   \n",
       "28011  31/10/2022    142041    JOPT       1   921007.59     170828   \n",
       "\n",
       "       NO_OF_TRADES   LOW  BEST_ASK_PRICE  BEST_ASK_QTY  BEST_BID_PRICE  \\\n",
       "0                73  3.65            2.65         585.0            3.13   \n",
       "1                17  1.41            1.36         493.0            1.86   \n",
       "2                 7  1.00            1.14        1853.0            1.64   \n",
       "3                 5  3.95            1.09         660.0            1.59   \n",
       "4                11  1.95            1.23        1000.0            1.73   \n",
       "...             ...   ...             ...           ...             ...   \n",
       "28007            25  0.51            1.55        2462.0            2.04   \n",
       "28008             2  0.34            1.02        6959.0            1.52   \n",
       "28009            14  5.35            1.29          70.0            1.79   \n",
       "28010             1  2.27            1.00         500.0            1.50   \n",
       "28011           568  5.24           14.02        1048.0           14.35   \n",
       "\n",
       "       BEST_BID_QTY  \n",
       "0            2000.0  \n",
       "1            1570.0  \n",
       "2            1000.0  \n",
       "3              46.0  \n",
       "4             333.0  \n",
       "...             ...  \n",
       "28007           0.0  \n",
       "28008       14710.0  \n",
       "28009           0.0  \n",
       "28010         500.0  \n",
       "28011          20.0  \n",
       "\n",
       "[28012 rows x 12 columns]"
      ]
     },
     "execution_count": 4,
     "metadata": {},
     "output_type": "execute_result"
    }
   ],
   "source": [
    "df_low"
   ]
  },
  {
   "cell_type": "code",
   "execution_count": 5,
   "id": "a8a30ab9",
   "metadata": {},
   "outputs": [
    {
     "data": {
      "text/plain": [
       "TRADE_DATE        0\n",
       "SEC_CODE          0\n",
       "SYMBOL1           0\n",
       "MARKET            0\n",
       "VOLUME            0\n",
       "TRADE_QTY         0\n",
       "NO_OF_TRADES      0\n",
       "HIGH              0\n",
       "BEST_ASK_PRICE    0\n",
       "BEST_ASK_QTY      0\n",
       "BEST_BID_PRICE    0\n",
       "BEST_BID_QTY      0\n",
       "dtype: int64"
      ]
     },
     "execution_count": 5,
     "metadata": {},
     "output_type": "execute_result"
    }
   ],
   "source": [
    "df_high.isnull().sum()"
   ]
  },
  {
   "cell_type": "code",
   "execution_count": 6,
   "id": "7758c4b7",
   "metadata": {},
   "outputs": [],
   "source": [
    "df_high['YEAR'] = pd.DatetimeIndex(df_high['TRADE_DATE']).year\n",
    "df_high['MONTH']= pd.DatetimeIndex(df_high['TRADE_DATE']).month\n",
    "df_high['DAY']= pd.DatetimeIndex(df_high['TRADE_DATE']).day\n",
    "df_high.drop('TRADE_DATE', axis=1, inplace=True)"
   ]
  },
  {
   "cell_type": "code",
   "execution_count": 7,
   "id": "13377eeb",
   "metadata": {},
   "outputs": [],
   "source": [
    "df_low['YEAR'] = pd.DatetimeIndex(df_low['TRADE_DATE']).year\n",
    "df_low['MONTH']= pd.DatetimeIndex(df_low['TRADE_DATE']).month\n",
    "df_low['DAY']= pd.DatetimeIndex(df_low['TRADE_DATE']).day\n",
    "df_low.drop('TRADE_DATE', axis=1, inplace=True)"
   ]
  },
  {
   "cell_type": "markdown",
   "id": "2a027756",
   "metadata": {},
   "source": [
    "# Descriptive Analysis"
   ]
  },
  {
   "cell_type": "code",
   "execution_count": 8,
   "id": "eb0d0b36",
   "metadata": {},
   "outputs": [
    {
     "data": {
      "text/html": [
       "<div>\n",
       "<style scoped>\n",
       "    .dataframe tbody tr th:only-of-type {\n",
       "        vertical-align: middle;\n",
       "    }\n",
       "\n",
       "    .dataframe tbody tr th {\n",
       "        vertical-align: top;\n",
       "    }\n",
       "\n",
       "    .dataframe thead th {\n",
       "        text-align: right;\n",
       "    }\n",
       "</style>\n",
       "<table border=\"1\" class=\"dataframe\">\n",
       "  <thead>\n",
       "    <tr style=\"text-align: right;\">\n",
       "      <th></th>\n",
       "      <th>SEC_CODE</th>\n",
       "      <th>SYMBOL1</th>\n",
       "      <th>MARKET</th>\n",
       "      <th>VOLUME</th>\n",
       "      <th>TRADE_QTY</th>\n",
       "      <th>NO_OF_TRADES</th>\n",
       "      <th>HIGH</th>\n",
       "      <th>BEST_ASK_PRICE</th>\n",
       "      <th>BEST_ASK_QTY</th>\n",
       "      <th>BEST_BID_PRICE</th>\n",
       "      <th>BEST_BID_QTY</th>\n",
       "      <th>YEAR</th>\n",
       "      <th>MONTH</th>\n",
       "      <th>DAY</th>\n",
       "    </tr>\n",
       "  </thead>\n",
       "  <tbody>\n",
       "    <tr>\n",
       "      <th>0</th>\n",
       "      <td>111001</td>\n",
       "      <td>JOIB</td>\n",
       "      <td>1</td>\n",
       "      <td>199083.73</td>\n",
       "      <td>54378</td>\n",
       "      <td>73</td>\n",
       "      <td>3.67</td>\n",
       "      <td>2.65</td>\n",
       "      <td>585.0</td>\n",
       "      <td>3.13</td>\n",
       "      <td>2000.0</td>\n",
       "      <td>2022</td>\n",
       "      <td>1</td>\n",
       "      <td>2</td>\n",
       "    </tr>\n",
       "    <tr>\n",
       "      <th>1</th>\n",
       "      <td>111002</td>\n",
       "      <td>JOKB</td>\n",
       "      <td>1</td>\n",
       "      <td>12707.76</td>\n",
       "      <td>9009</td>\n",
       "      <td>17</td>\n",
       "      <td>1.42</td>\n",
       "      <td>1.36</td>\n",
       "      <td>493.0</td>\n",
       "      <td>1.86</td>\n",
       "      <td>1570.0</td>\n",
       "      <td>2022</td>\n",
       "      <td>1</td>\n",
       "      <td>2</td>\n",
       "    </tr>\n",
       "    <tr>\n",
       "      <th>2</th>\n",
       "      <td>111003</td>\n",
       "      <td>JCBK</td>\n",
       "      <td>2</td>\n",
       "      <td>727.41</td>\n",
       "      <td>726</td>\n",
       "      <td>7</td>\n",
       "      <td>1.03</td>\n",
       "      <td>1.14</td>\n",
       "      <td>1853.0</td>\n",
       "      <td>1.64</td>\n",
       "      <td>1000.0</td>\n",
       "      <td>2022</td>\n",
       "      <td>1</td>\n",
       "      <td>2</td>\n",
       "    </tr>\n",
       "    <tr>\n",
       "      <th>3</th>\n",
       "      <td>111004</td>\n",
       "      <td>THBK</td>\n",
       "      <td>1</td>\n",
       "      <td>1558.10</td>\n",
       "      <td>394</td>\n",
       "      <td>5</td>\n",
       "      <td>3.97</td>\n",
       "      <td>1.09</td>\n",
       "      <td>660.0</td>\n",
       "      <td>1.59</td>\n",
       "      <td>46.0</td>\n",
       "      <td>2022</td>\n",
       "      <td>1</td>\n",
       "      <td>2</td>\n",
       "    </tr>\n",
       "    <tr>\n",
       "      <th>4</th>\n",
       "      <td>111006</td>\n",
       "      <td>SIBK</td>\n",
       "      <td>1</td>\n",
       "      <td>29030.98</td>\n",
       "      <td>14867</td>\n",
       "      <td>11</td>\n",
       "      <td>1.98</td>\n",
       "      <td>1.23</td>\n",
       "      <td>1000.0</td>\n",
       "      <td>1.73</td>\n",
       "      <td>333.0</td>\n",
       "      <td>2022</td>\n",
       "      <td>1</td>\n",
       "      <td>2</td>\n",
       "    </tr>\n",
       "    <tr>\n",
       "      <th>...</th>\n",
       "      <td>...</td>\n",
       "      <td>...</td>\n",
       "      <td>...</td>\n",
       "      <td>...</td>\n",
       "      <td>...</td>\n",
       "      <td>...</td>\n",
       "      <td>...</td>\n",
       "      <td>...</td>\n",
       "      <td>...</td>\n",
       "      <td>...</td>\n",
       "      <td>...</td>\n",
       "      <td>...</td>\n",
       "      <td>...</td>\n",
       "      <td>...</td>\n",
       "    </tr>\n",
       "    <tr>\n",
       "      <th>28007</th>\n",
       "      <td>141214</td>\n",
       "      <td>ASAS</td>\n",
       "      <td>2</td>\n",
       "      <td>1025509.50</td>\n",
       "      <td>1981726</td>\n",
       "      <td>25</td>\n",
       "      <td>0.52</td>\n",
       "      <td>1.55</td>\n",
       "      <td>2462.0</td>\n",
       "      <td>2.04</td>\n",
       "      <td>0.0</td>\n",
       "      <td>2022</td>\n",
       "      <td>10</td>\n",
       "      <td>31</td>\n",
       "    </tr>\n",
       "    <tr>\n",
       "      <th>28008</th>\n",
       "      <td>141215</td>\n",
       "      <td>UCIC</td>\n",
       "      <td>2</td>\n",
       "      <td>154.70</td>\n",
       "      <td>455</td>\n",
       "      <td>2</td>\n",
       "      <td>0.34</td>\n",
       "      <td>1.02</td>\n",
       "      <td>6959.0</td>\n",
       "      <td>1.52</td>\n",
       "      <td>14710.0</td>\n",
       "      <td>2022</td>\n",
       "      <td>10</td>\n",
       "      <td>31</td>\n",
       "    </tr>\n",
       "    <tr>\n",
       "      <th>28009</th>\n",
       "      <td>141223</td>\n",
       "      <td>SHBA</td>\n",
       "      <td>2</td>\n",
       "      <td>57426.99</td>\n",
       "      <td>10276</td>\n",
       "      <td>14</td>\n",
       "      <td>5.61</td>\n",
       "      <td>1.29</td>\n",
       "      <td>70.0</td>\n",
       "      <td>1.79</td>\n",
       "      <td>0.0</td>\n",
       "      <td>2022</td>\n",
       "      <td>10</td>\n",
       "      <td>31</td>\n",
       "    </tr>\n",
       "    <tr>\n",
       "      <th>28010</th>\n",
       "      <td>141224</td>\n",
       "      <td>NCCO</td>\n",
       "      <td>1</td>\n",
       "      <td>1135.00</td>\n",
       "      <td>500</td>\n",
       "      <td>1</td>\n",
       "      <td>2.27</td>\n",
       "      <td>1.00</td>\n",
       "      <td>500.0</td>\n",
       "      <td>1.50</td>\n",
       "      <td>500.0</td>\n",
       "      <td>2022</td>\n",
       "      <td>10</td>\n",
       "      <td>31</td>\n",
       "    </tr>\n",
       "    <tr>\n",
       "      <th>28011</th>\n",
       "      <td>142041</td>\n",
       "      <td>JOPT</td>\n",
       "      <td>1</td>\n",
       "      <td>921007.59</td>\n",
       "      <td>170828</td>\n",
       "      <td>568</td>\n",
       "      <td>5.57</td>\n",
       "      <td>14.02</td>\n",
       "      <td>1048.0</td>\n",
       "      <td>14.35</td>\n",
       "      <td>20.0</td>\n",
       "      <td>2022</td>\n",
       "      <td>10</td>\n",
       "      <td>31</td>\n",
       "    </tr>\n",
       "  </tbody>\n",
       "</table>\n",
       "<p>28012 rows × 14 columns</p>\n",
       "</div>"
      ],
      "text/plain": [
       "       SEC_CODE SYMBOL1  MARKET      VOLUME  TRADE_QTY  NO_OF_TRADES  HIGH  \\\n",
       "0        111001    JOIB       1   199083.73      54378            73  3.67   \n",
       "1        111002    JOKB       1    12707.76       9009            17  1.42   \n",
       "2        111003    JCBK       2      727.41        726             7  1.03   \n",
       "3        111004    THBK       1     1558.10        394             5  3.97   \n",
       "4        111006    SIBK       1    29030.98      14867            11  1.98   \n",
       "...         ...     ...     ...         ...        ...           ...   ...   \n",
       "28007    141214    ASAS       2  1025509.50    1981726            25  0.52   \n",
       "28008    141215    UCIC       2      154.70        455             2  0.34   \n",
       "28009    141223    SHBA       2    57426.99      10276            14  5.61   \n",
       "28010    141224    NCCO       1     1135.00        500             1  2.27   \n",
       "28011    142041    JOPT       1   921007.59     170828           568  5.57   \n",
       "\n",
       "       BEST_ASK_PRICE  BEST_ASK_QTY  BEST_BID_PRICE  BEST_BID_QTY  YEAR  \\\n",
       "0                2.65         585.0            3.13        2000.0  2022   \n",
       "1                1.36         493.0            1.86        1570.0  2022   \n",
       "2                1.14        1853.0            1.64        1000.0  2022   \n",
       "3                1.09         660.0            1.59          46.0  2022   \n",
       "4                1.23        1000.0            1.73         333.0  2022   \n",
       "...               ...           ...             ...           ...   ...   \n",
       "28007            1.55        2462.0            2.04           0.0  2022   \n",
       "28008            1.02        6959.0            1.52       14710.0  2022   \n",
       "28009            1.29          70.0            1.79           0.0  2022   \n",
       "28010            1.00         500.0            1.50         500.0  2022   \n",
       "28011           14.02        1048.0           14.35          20.0  2022   \n",
       "\n",
       "       MONTH  DAY  \n",
       "0          1    2  \n",
       "1          1    2  \n",
       "2          1    2  \n",
       "3          1    2  \n",
       "4          1    2  \n",
       "...      ...  ...  \n",
       "28007     10   31  \n",
       "28008     10   31  \n",
       "28009     10   31  \n",
       "28010     10   31  \n",
       "28011     10   31  \n",
       "\n",
       "[28012 rows x 14 columns]"
      ]
     },
     "execution_count": 8,
     "metadata": {},
     "output_type": "execute_result"
    }
   ],
   "source": [
    "df_high"
   ]
  },
  {
   "cell_type": "code",
   "execution_count": 9,
   "id": "d88849a3",
   "metadata": {},
   "outputs": [
    {
     "data": {
      "text/html": [
       "<div>\n",
       "<style scoped>\n",
       "    .dataframe tbody tr th:only-of-type {\n",
       "        vertical-align: middle;\n",
       "    }\n",
       "\n",
       "    .dataframe tbody tr th {\n",
       "        vertical-align: top;\n",
       "    }\n",
       "\n",
       "    .dataframe thead th {\n",
       "        text-align: right;\n",
       "    }\n",
       "</style>\n",
       "<table border=\"1\" class=\"dataframe\">\n",
       "  <thead>\n",
       "    <tr style=\"text-align: right;\">\n",
       "      <th></th>\n",
       "      <th>SEC_CODE</th>\n",
       "      <th>SYMBOL1</th>\n",
       "      <th>MARKET</th>\n",
       "      <th>VOLUME</th>\n",
       "      <th>TRADE_QTY</th>\n",
       "      <th>NO_OF_TRADES</th>\n",
       "      <th>LOW</th>\n",
       "      <th>BEST_ASK_PRICE</th>\n",
       "      <th>BEST_ASK_QTY</th>\n",
       "      <th>BEST_BID_PRICE</th>\n",
       "      <th>BEST_BID_QTY</th>\n",
       "      <th>YEAR</th>\n",
       "      <th>MONTH</th>\n",
       "      <th>DAY</th>\n",
       "    </tr>\n",
       "  </thead>\n",
       "  <tbody>\n",
       "    <tr>\n",
       "      <th>0</th>\n",
       "      <td>111001</td>\n",
       "      <td>JOIB</td>\n",
       "      <td>1</td>\n",
       "      <td>199083.73</td>\n",
       "      <td>54378</td>\n",
       "      <td>73</td>\n",
       "      <td>3.65</td>\n",
       "      <td>2.65</td>\n",
       "      <td>585.0</td>\n",
       "      <td>3.13</td>\n",
       "      <td>2000.0</td>\n",
       "      <td>2022</td>\n",
       "      <td>1</td>\n",
       "      <td>2</td>\n",
       "    </tr>\n",
       "    <tr>\n",
       "      <th>1</th>\n",
       "      <td>111002</td>\n",
       "      <td>JOKB</td>\n",
       "      <td>1</td>\n",
       "      <td>12707.76</td>\n",
       "      <td>9009</td>\n",
       "      <td>17</td>\n",
       "      <td>1.41</td>\n",
       "      <td>1.36</td>\n",
       "      <td>493.0</td>\n",
       "      <td>1.86</td>\n",
       "      <td>1570.0</td>\n",
       "      <td>2022</td>\n",
       "      <td>1</td>\n",
       "      <td>2</td>\n",
       "    </tr>\n",
       "    <tr>\n",
       "      <th>2</th>\n",
       "      <td>111003</td>\n",
       "      <td>JCBK</td>\n",
       "      <td>2</td>\n",
       "      <td>727.41</td>\n",
       "      <td>726</td>\n",
       "      <td>7</td>\n",
       "      <td>1.00</td>\n",
       "      <td>1.14</td>\n",
       "      <td>1853.0</td>\n",
       "      <td>1.64</td>\n",
       "      <td>1000.0</td>\n",
       "      <td>2022</td>\n",
       "      <td>1</td>\n",
       "      <td>2</td>\n",
       "    </tr>\n",
       "    <tr>\n",
       "      <th>3</th>\n",
       "      <td>111004</td>\n",
       "      <td>THBK</td>\n",
       "      <td>1</td>\n",
       "      <td>1558.10</td>\n",
       "      <td>394</td>\n",
       "      <td>5</td>\n",
       "      <td>3.95</td>\n",
       "      <td>1.09</td>\n",
       "      <td>660.0</td>\n",
       "      <td>1.59</td>\n",
       "      <td>46.0</td>\n",
       "      <td>2022</td>\n",
       "      <td>1</td>\n",
       "      <td>2</td>\n",
       "    </tr>\n",
       "    <tr>\n",
       "      <th>4</th>\n",
       "      <td>111006</td>\n",
       "      <td>SIBK</td>\n",
       "      <td>1</td>\n",
       "      <td>29030.98</td>\n",
       "      <td>14867</td>\n",
       "      <td>11</td>\n",
       "      <td>1.95</td>\n",
       "      <td>1.23</td>\n",
       "      <td>1000.0</td>\n",
       "      <td>1.73</td>\n",
       "      <td>333.0</td>\n",
       "      <td>2022</td>\n",
       "      <td>1</td>\n",
       "      <td>2</td>\n",
       "    </tr>\n",
       "    <tr>\n",
       "      <th>...</th>\n",
       "      <td>...</td>\n",
       "      <td>...</td>\n",
       "      <td>...</td>\n",
       "      <td>...</td>\n",
       "      <td>...</td>\n",
       "      <td>...</td>\n",
       "      <td>...</td>\n",
       "      <td>...</td>\n",
       "      <td>...</td>\n",
       "      <td>...</td>\n",
       "      <td>...</td>\n",
       "      <td>...</td>\n",
       "      <td>...</td>\n",
       "      <td>...</td>\n",
       "    </tr>\n",
       "    <tr>\n",
       "      <th>28007</th>\n",
       "      <td>141214</td>\n",
       "      <td>ASAS</td>\n",
       "      <td>2</td>\n",
       "      <td>1025509.50</td>\n",
       "      <td>1981726</td>\n",
       "      <td>25</td>\n",
       "      <td>0.51</td>\n",
       "      <td>1.55</td>\n",
       "      <td>2462.0</td>\n",
       "      <td>2.04</td>\n",
       "      <td>0.0</td>\n",
       "      <td>2022</td>\n",
       "      <td>10</td>\n",
       "      <td>31</td>\n",
       "    </tr>\n",
       "    <tr>\n",
       "      <th>28008</th>\n",
       "      <td>141215</td>\n",
       "      <td>UCIC</td>\n",
       "      <td>2</td>\n",
       "      <td>154.70</td>\n",
       "      <td>455</td>\n",
       "      <td>2</td>\n",
       "      <td>0.34</td>\n",
       "      <td>1.02</td>\n",
       "      <td>6959.0</td>\n",
       "      <td>1.52</td>\n",
       "      <td>14710.0</td>\n",
       "      <td>2022</td>\n",
       "      <td>10</td>\n",
       "      <td>31</td>\n",
       "    </tr>\n",
       "    <tr>\n",
       "      <th>28009</th>\n",
       "      <td>141223</td>\n",
       "      <td>SHBA</td>\n",
       "      <td>2</td>\n",
       "      <td>57426.99</td>\n",
       "      <td>10276</td>\n",
       "      <td>14</td>\n",
       "      <td>5.35</td>\n",
       "      <td>1.29</td>\n",
       "      <td>70.0</td>\n",
       "      <td>1.79</td>\n",
       "      <td>0.0</td>\n",
       "      <td>2022</td>\n",
       "      <td>10</td>\n",
       "      <td>31</td>\n",
       "    </tr>\n",
       "    <tr>\n",
       "      <th>28010</th>\n",
       "      <td>141224</td>\n",
       "      <td>NCCO</td>\n",
       "      <td>1</td>\n",
       "      <td>1135.00</td>\n",
       "      <td>500</td>\n",
       "      <td>1</td>\n",
       "      <td>2.27</td>\n",
       "      <td>1.00</td>\n",
       "      <td>500.0</td>\n",
       "      <td>1.50</td>\n",
       "      <td>500.0</td>\n",
       "      <td>2022</td>\n",
       "      <td>10</td>\n",
       "      <td>31</td>\n",
       "    </tr>\n",
       "    <tr>\n",
       "      <th>28011</th>\n",
       "      <td>142041</td>\n",
       "      <td>JOPT</td>\n",
       "      <td>1</td>\n",
       "      <td>921007.59</td>\n",
       "      <td>170828</td>\n",
       "      <td>568</td>\n",
       "      <td>5.24</td>\n",
       "      <td>14.02</td>\n",
       "      <td>1048.0</td>\n",
       "      <td>14.35</td>\n",
       "      <td>20.0</td>\n",
       "      <td>2022</td>\n",
       "      <td>10</td>\n",
       "      <td>31</td>\n",
       "    </tr>\n",
       "  </tbody>\n",
       "</table>\n",
       "<p>28012 rows × 14 columns</p>\n",
       "</div>"
      ],
      "text/plain": [
       "       SEC_CODE SYMBOL1  MARKET      VOLUME  TRADE_QTY  NO_OF_TRADES   LOW  \\\n",
       "0        111001    JOIB       1   199083.73      54378            73  3.65   \n",
       "1        111002    JOKB       1    12707.76       9009            17  1.41   \n",
       "2        111003    JCBK       2      727.41        726             7  1.00   \n",
       "3        111004    THBK       1     1558.10        394             5  3.95   \n",
       "4        111006    SIBK       1    29030.98      14867            11  1.95   \n",
       "...         ...     ...     ...         ...        ...           ...   ...   \n",
       "28007    141214    ASAS       2  1025509.50    1981726            25  0.51   \n",
       "28008    141215    UCIC       2      154.70        455             2  0.34   \n",
       "28009    141223    SHBA       2    57426.99      10276            14  5.35   \n",
       "28010    141224    NCCO       1     1135.00        500             1  2.27   \n",
       "28011    142041    JOPT       1   921007.59     170828           568  5.24   \n",
       "\n",
       "       BEST_ASK_PRICE  BEST_ASK_QTY  BEST_BID_PRICE  BEST_BID_QTY  YEAR  \\\n",
       "0                2.65         585.0            3.13        2000.0  2022   \n",
       "1                1.36         493.0            1.86        1570.0  2022   \n",
       "2                1.14        1853.0            1.64        1000.0  2022   \n",
       "3                1.09         660.0            1.59          46.0  2022   \n",
       "4                1.23        1000.0            1.73         333.0  2022   \n",
       "...               ...           ...             ...           ...   ...   \n",
       "28007            1.55        2462.0            2.04           0.0  2022   \n",
       "28008            1.02        6959.0            1.52       14710.0  2022   \n",
       "28009            1.29          70.0            1.79           0.0  2022   \n",
       "28010            1.00         500.0            1.50         500.0  2022   \n",
       "28011           14.02        1048.0           14.35          20.0  2022   \n",
       "\n",
       "       MONTH  DAY  \n",
       "0          1    2  \n",
       "1          1    2  \n",
       "2          1    2  \n",
       "3          1    2  \n",
       "4          1    2  \n",
       "...      ...  ...  \n",
       "28007     10   31  \n",
       "28008     10   31  \n",
       "28009     10   31  \n",
       "28010     10   31  \n",
       "28011     10   31  \n",
       "\n",
       "[28012 rows x 14 columns]"
      ]
     },
     "execution_count": 9,
     "metadata": {},
     "output_type": "execute_result"
    }
   ],
   "source": [
    "df_low"
   ]
  },
  {
   "cell_type": "code",
   "execution_count": 10,
   "id": "cc2ccdd5",
   "metadata": {
    "scrolled": true
   },
   "outputs": [
    {
     "data": {
      "text/html": [
       "<div>\n",
       "<style scoped>\n",
       "    .dataframe tbody tr th:only-of-type {\n",
       "        vertical-align: middle;\n",
       "    }\n",
       "\n",
       "    .dataframe tbody tr th {\n",
       "        vertical-align: top;\n",
       "    }\n",
       "\n",
       "    .dataframe thead th {\n",
       "        text-align: right;\n",
       "    }\n",
       "</style>\n",
       "<table border=\"1\" class=\"dataframe\">\n",
       "  <thead>\n",
       "    <tr style=\"text-align: right;\">\n",
       "      <th></th>\n",
       "      <th>SEC_CODE</th>\n",
       "      <th>MARKET</th>\n",
       "      <th>VOLUME</th>\n",
       "      <th>TRADE_QTY</th>\n",
       "      <th>NO_OF_TRADES</th>\n",
       "      <th>HIGH</th>\n",
       "      <th>BEST_ASK_PRICE</th>\n",
       "      <th>BEST_ASK_QTY</th>\n",
       "      <th>BEST_BID_PRICE</th>\n",
       "      <th>BEST_BID_QTY</th>\n",
       "      <th>YEAR</th>\n",
       "      <th>MONTH</th>\n",
       "      <th>DAY</th>\n",
       "    </tr>\n",
       "  </thead>\n",
       "  <tbody>\n",
       "    <tr>\n",
       "      <th>count</th>\n",
       "      <td>28012.000000</td>\n",
       "      <td>28012.000000</td>\n",
       "      <td>2.801200e+04</td>\n",
       "      <td>2.801200e+04</td>\n",
       "      <td>28012.000000</td>\n",
       "      <td>28012.000000</td>\n",
       "      <td>28012.000000</td>\n",
       "      <td>2.801200e+04</td>\n",
       "      <td>28012.000000</td>\n",
       "      <td>2.801200e+04</td>\n",
       "      <td>28012.0</td>\n",
       "      <td>28012.000000</td>\n",
       "      <td>28012.000000</td>\n",
       "    </tr>\n",
       "    <tr>\n",
       "      <th>mean</th>\n",
       "      <td>131287.967871</td>\n",
       "      <td>1.385906</td>\n",
       "      <td>6.312677e+04</td>\n",
       "      <td>4.270346e+04</td>\n",
       "      <td>28.061545</td>\n",
       "      <td>1.713816</td>\n",
       "      <td>1.620775</td>\n",
       "      <td>1.979999e+04</td>\n",
       "      <td>2.113421</td>\n",
       "      <td>2.452341e+04</td>\n",
       "      <td>2022.0</td>\n",
       "      <td>6.517028</td>\n",
       "      <td>15.880087</td>\n",
       "    </tr>\n",
       "    <tr>\n",
       "      <th>std</th>\n",
       "      <td>9043.995400</td>\n",
       "      <td>0.750480</td>\n",
       "      <td>3.022558e+05</td>\n",
       "      <td>1.451785e+05</td>\n",
       "      <td>66.231007</td>\n",
       "      <td>4.667872</td>\n",
       "      <td>1.520599</td>\n",
       "      <td>6.742718e+04</td>\n",
       "      <td>1.500857</td>\n",
       "      <td>1.008184e+05</td>\n",
       "      <td>0.0</td>\n",
       "      <td>3.369623</td>\n",
       "      <td>8.743568</td>\n",
       "    </tr>\n",
       "    <tr>\n",
       "      <th>min</th>\n",
       "      <td>111001.000000</td>\n",
       "      <td>0.000000</td>\n",
       "      <td>2.000000e-02</td>\n",
       "      <td>1.000000e+00</td>\n",
       "      <td>1.000000</td>\n",
       "      <td>0.020000</td>\n",
       "      <td>1.000000</td>\n",
       "      <td>0.000000e+00</td>\n",
       "      <td>1.500000</td>\n",
       "      <td>0.000000e+00</td>\n",
       "      <td>2022.0</td>\n",
       "      <td>1.000000</td>\n",
       "      <td>1.000000</td>\n",
       "    </tr>\n",
       "    <tr>\n",
       "      <th>25%</th>\n",
       "      <td>131052.000000</td>\n",
       "      <td>1.000000</td>\n",
       "      <td>6.398300e+02</td>\n",
       "      <td>1.000000e+03</td>\n",
       "      <td>3.000000</td>\n",
       "      <td>0.380000</td>\n",
       "      <td>1.050000</td>\n",
       "      <td>5.000000e+02</td>\n",
       "      <td>1.550000</td>\n",
       "      <td>4.000000e+02</td>\n",
       "      <td>2022.0</td>\n",
       "      <td>4.000000</td>\n",
       "      <td>9.000000</td>\n",
       "    </tr>\n",
       "    <tr>\n",
       "      <th>50%</th>\n",
       "      <td>131243.000000</td>\n",
       "      <td>2.000000</td>\n",
       "      <td>3.831125e+03</td>\n",
       "      <td>5.873500e+03</td>\n",
       "      <td>9.000000</td>\n",
       "      <td>0.710000</td>\n",
       "      <td>1.180000</td>\n",
       "      <td>2.100000e+03</td>\n",
       "      <td>1.680000</td>\n",
       "      <td>1.912000e+03</td>\n",
       "      <td>2022.0</td>\n",
       "      <td>7.000000</td>\n",
       "      <td>16.000000</td>\n",
       "    </tr>\n",
       "    <tr>\n",
       "      <th>75%</th>\n",
       "      <td>141014.000000</td>\n",
       "      <td>2.000000</td>\n",
       "      <td>2.014495e+04</td>\n",
       "      <td>2.843675e+04</td>\n",
       "      <td>25.000000</td>\n",
       "      <td>1.460000</td>\n",
       "      <td>1.550000</td>\n",
       "      <td>9.494250e+03</td>\n",
       "      <td>2.040000</td>\n",
       "      <td>1.038675e+04</td>\n",
       "      <td>2022.0</td>\n",
       "      <td>9.000000</td>\n",
       "      <td>23.000000</td>\n",
       "    </tr>\n",
       "    <tr>\n",
       "      <th>max</th>\n",
       "      <td>142041.000000</td>\n",
       "      <td>2.000000</td>\n",
       "      <td>8.868824e+06</td>\n",
       "      <td>5.741963e+06</td>\n",
       "      <td>1700.000000</td>\n",
       "      <td>44.500000</td>\n",
       "      <td>40.000000</td>\n",
       "      <td>1.017951e+06</td>\n",
       "      <td>40.000000</td>\n",
       "      <td>3.600734e+06</td>\n",
       "      <td>2022.0</td>\n",
       "      <td>12.000000</td>\n",
       "      <td>31.000000</td>\n",
       "    </tr>\n",
       "  </tbody>\n",
       "</table>\n",
       "</div>"
      ],
      "text/plain": [
       "            SEC_CODE        MARKET        VOLUME     TRADE_QTY  NO_OF_TRADES  \\\n",
       "count   28012.000000  28012.000000  2.801200e+04  2.801200e+04  28012.000000   \n",
       "mean   131287.967871      1.385906  6.312677e+04  4.270346e+04     28.061545   \n",
       "std      9043.995400      0.750480  3.022558e+05  1.451785e+05     66.231007   \n",
       "min    111001.000000      0.000000  2.000000e-02  1.000000e+00      1.000000   \n",
       "25%    131052.000000      1.000000  6.398300e+02  1.000000e+03      3.000000   \n",
       "50%    131243.000000      2.000000  3.831125e+03  5.873500e+03      9.000000   \n",
       "75%    141014.000000      2.000000  2.014495e+04  2.843675e+04     25.000000   \n",
       "max    142041.000000      2.000000  8.868824e+06  5.741963e+06   1700.000000   \n",
       "\n",
       "               HIGH  BEST_ASK_PRICE  BEST_ASK_QTY  BEST_BID_PRICE  \\\n",
       "count  28012.000000    28012.000000  2.801200e+04    28012.000000   \n",
       "mean       1.713816        1.620775  1.979999e+04        2.113421   \n",
       "std        4.667872        1.520599  6.742718e+04        1.500857   \n",
       "min        0.020000        1.000000  0.000000e+00        1.500000   \n",
       "25%        0.380000        1.050000  5.000000e+02        1.550000   \n",
       "50%        0.710000        1.180000  2.100000e+03        1.680000   \n",
       "75%        1.460000        1.550000  9.494250e+03        2.040000   \n",
       "max       44.500000       40.000000  1.017951e+06       40.000000   \n",
       "\n",
       "       BEST_BID_QTY     YEAR         MONTH           DAY  \n",
       "count  2.801200e+04  28012.0  28012.000000  28012.000000  \n",
       "mean   2.452341e+04   2022.0      6.517028     15.880087  \n",
       "std    1.008184e+05      0.0      3.369623      8.743568  \n",
       "min    0.000000e+00   2022.0      1.000000      1.000000  \n",
       "25%    4.000000e+02   2022.0      4.000000      9.000000  \n",
       "50%    1.912000e+03   2022.0      7.000000     16.000000  \n",
       "75%    1.038675e+04   2022.0      9.000000     23.000000  \n",
       "max    3.600734e+06   2022.0     12.000000     31.000000  "
      ]
     },
     "execution_count": 10,
     "metadata": {},
     "output_type": "execute_result"
    }
   ],
   "source": [
    "df_high.describe()"
   ]
  },
  {
   "cell_type": "code",
   "execution_count": 11,
   "id": "9451b15f",
   "metadata": {
    "scrolled": false
   },
   "outputs": [
    {
     "data": {
      "image/png": "[encoded data removed]",
      "text/plain": [
       "<Figure size 720x720 with 9 Axes>"
      ]
     },
     "metadata": {
      "needs_background": "light"
     },
     "output_type": "display_data"
    }
   ],
   "source": [
    "df_high[['VOLUME',\n",
    "       'TRADE_QTY', 'NO_OF_TRADES', 'HIGH',\n",
    "       'BEST_ASK_PRICE', 'BEST_ASK_QTY', 'BEST_BID_PRICE', \n",
    "       'BEST_BID_QTY']].hist(figsize=(10,10));"
   ]
  },
  {
   "cell_type": "markdown",
   "id": "8675ae02",
   "metadata": {},
   "source": [
    "### MARKET"
   ]
  },
  {
   "cell_type": "markdown",
   "id": "248a00cc",
   "metadata": {},
   "source": [
    "cumultative frequencey"
   ]
  },
  {
   "cell_type": "code",
   "execution_count": 12,
   "id": "57a7e337",
   "metadata": {
    "scrolled": false
   },
   "outputs": [
    {
     "data": {
      "text/html": [
       "<div>\n",
       "<style scoped>\n",
       "    .dataframe tbody tr th:only-of-type {\n",
       "        vertical-align: middle;\n",
       "    }\n",
       "\n",
       "    .dataframe tbody tr th {\n",
       "        vertical-align: top;\n",
       "    }\n",
       "\n",
       "    .dataframe thead th {\n",
       "        text-align: right;\n",
       "    }\n",
       "</style>\n",
       "<table border=\"1\" class=\"dataframe\">\n",
       "  <thead>\n",
       "    <tr style=\"text-align: right;\">\n",
       "      <th></th>\n",
       "      <th>0</th>\n",
       "      <th>1</th>\n",
       "      <th>2</th>\n",
       "    </tr>\n",
       "  </thead>\n",
       "  <tbody>\n",
       "    <tr>\n",
       "      <th>0</th>\n",
       "      <td>0</td>\n",
       "      <td>1</td>\n",
       "      <td>0</td>\n",
       "    </tr>\n",
       "    <tr>\n",
       "      <th>1</th>\n",
       "      <td>0</td>\n",
       "      <td>2</td>\n",
       "      <td>0</td>\n",
       "    </tr>\n",
       "    <tr>\n",
       "      <th>2</th>\n",
       "      <td>0</td>\n",
       "      <td>2</td>\n",
       "      <td>1</td>\n",
       "    </tr>\n",
       "    <tr>\n",
       "      <th>3</th>\n",
       "      <td>0</td>\n",
       "      <td>3</td>\n",
       "      <td>1</td>\n",
       "    </tr>\n",
       "    <tr>\n",
       "      <th>4</th>\n",
       "      <td>0</td>\n",
       "      <td>4</td>\n",
       "      <td>1</td>\n",
       "    </tr>\n",
       "    <tr>\n",
       "      <th>...</th>\n",
       "      <td>...</td>\n",
       "      <td>...</td>\n",
       "      <td>...</td>\n",
       "    </tr>\n",
       "    <tr>\n",
       "      <th>28007</th>\n",
       "      <td>4569</td>\n",
       "      <td>8062</td>\n",
       "      <td>15377</td>\n",
       "    </tr>\n",
       "    <tr>\n",
       "      <th>28008</th>\n",
       "      <td>4569</td>\n",
       "      <td>8062</td>\n",
       "      <td>15378</td>\n",
       "    </tr>\n",
       "    <tr>\n",
       "      <th>28009</th>\n",
       "      <td>4569</td>\n",
       "      <td>8062</td>\n",
       "      <td>15379</td>\n",
       "    </tr>\n",
       "    <tr>\n",
       "      <th>28010</th>\n",
       "      <td>4569</td>\n",
       "      <td>8063</td>\n",
       "      <td>15379</td>\n",
       "    </tr>\n",
       "    <tr>\n",
       "      <th>28011</th>\n",
       "      <td>4569</td>\n",
       "      <td>8064</td>\n",
       "      <td>15379</td>\n",
       "    </tr>\n",
       "  </tbody>\n",
       "</table>\n",
       "<p>28012 rows × 3 columns</p>\n",
       "</div>"
      ],
      "text/plain": [
       "          0     1      2\n",
       "0         0     1      0\n",
       "1         0     2      0\n",
       "2         0     2      1\n",
       "3         0     3      1\n",
       "4         0     4      1\n",
       "...     ...   ...    ...\n",
       "28007  4569  8062  15377\n",
       "28008  4569  8062  15378\n",
       "28009  4569  8062  15379\n",
       "28010  4569  8063  15379\n",
       "28011  4569  8064  15379\n",
       "\n",
       "[28012 rows x 3 columns]"
      ]
     },
     "execution_count": 12,
     "metadata": {},
     "output_type": "execute_result"
    }
   ],
   "source": [
    "pd.get_dummies(df_high.MARKET).cumsum()"
   ]
  },
  {
   "cell_type": "markdown",
   "id": "7d8fa5e7",
   "metadata": {},
   "source": [
    "cumultative relative frequencey"
   ]
  },
  {
   "cell_type": "code",
   "execution_count": 13,
   "id": "e61316d6",
   "metadata": {
    "scrolled": true
   },
   "outputs": [
    {
     "data": {
      "text/html": [
       "<div>\n",
       "<style scoped>\n",
       "    .dataframe tbody tr th:only-of-type {\n",
       "        vertical-align: middle;\n",
       "    }\n",
       "\n",
       "    .dataframe tbody tr th {\n",
       "        vertical-align: top;\n",
       "    }\n",
       "\n",
       "    .dataframe thead th {\n",
       "        text-align: right;\n",
       "    }\n",
       "</style>\n",
       "<table border=\"1\" class=\"dataframe\">\n",
       "  <thead>\n",
       "    <tr style=\"text-align: right;\">\n",
       "      <th></th>\n",
       "      <th>0</th>\n",
       "      <th>1</th>\n",
       "      <th>2</th>\n",
       "    </tr>\n",
       "  </thead>\n",
       "  <tbody>\n",
       "    <tr>\n",
       "      <th>0</th>\n",
       "      <td>0.000000</td>\n",
       "      <td>1.000000</td>\n",
       "      <td>0.000000</td>\n",
       "    </tr>\n",
       "    <tr>\n",
       "      <th>1</th>\n",
       "      <td>0.000000</td>\n",
       "      <td>1.000000</td>\n",
       "      <td>0.000000</td>\n",
       "    </tr>\n",
       "    <tr>\n",
       "      <th>2</th>\n",
       "      <td>0.000000</td>\n",
       "      <td>0.666667</td>\n",
       "      <td>0.333333</td>\n",
       "    </tr>\n",
       "    <tr>\n",
       "      <th>3</th>\n",
       "      <td>0.000000</td>\n",
       "      <td>0.750000</td>\n",
       "      <td>0.250000</td>\n",
       "    </tr>\n",
       "    <tr>\n",
       "      <th>4</th>\n",
       "      <td>0.000000</td>\n",
       "      <td>0.800000</td>\n",
       "      <td>0.200000</td>\n",
       "    </tr>\n",
       "    <tr>\n",
       "      <th>...</th>\n",
       "      <td>...</td>\n",
       "      <td>...</td>\n",
       "      <td>...</td>\n",
       "    </tr>\n",
       "    <tr>\n",
       "      <th>28007</th>\n",
       "      <td>0.163132</td>\n",
       "      <td>0.287846</td>\n",
       "      <td>0.549022</td>\n",
       "    </tr>\n",
       "    <tr>\n",
       "      <th>28008</th>\n",
       "      <td>0.163126</td>\n",
       "      <td>0.287836</td>\n",
       "      <td>0.549038</td>\n",
       "    </tr>\n",
       "    <tr>\n",
       "      <th>28009</th>\n",
       "      <td>0.163120</td>\n",
       "      <td>0.287826</td>\n",
       "      <td>0.549054</td>\n",
       "    </tr>\n",
       "    <tr>\n",
       "      <th>28010</th>\n",
       "      <td>0.163114</td>\n",
       "      <td>0.287851</td>\n",
       "      <td>0.549034</td>\n",
       "    </tr>\n",
       "    <tr>\n",
       "      <th>28011</th>\n",
       "      <td>0.163109</td>\n",
       "      <td>0.287877</td>\n",
       "      <td>0.549015</td>\n",
       "    </tr>\n",
       "  </tbody>\n",
       "</table>\n",
       "<p>28012 rows × 3 columns</p>\n",
       "</div>"
      ],
      "text/plain": [
       "              0         1         2\n",
       "0      0.000000  1.000000  0.000000\n",
       "1      0.000000  1.000000  0.000000\n",
       "2      0.000000  0.666667  0.333333\n",
       "3      0.000000  0.750000  0.250000\n",
       "4      0.000000  0.800000  0.200000\n",
       "...         ...       ...       ...\n",
       "28007  0.163132  0.287846  0.549022\n",
       "28008  0.163126  0.287836  0.549038\n",
       "28009  0.163120  0.287826  0.549054\n",
       "28010  0.163114  0.287851  0.549034\n",
       "28011  0.163109  0.287877  0.549015\n",
       "\n",
       "[28012 rows x 3 columns]"
      ]
     },
     "execution_count": 13,
     "metadata": {},
     "output_type": "execute_result"
    }
   ],
   "source": [
    "pd.get_dummies(df_high.MARKET).cumsum().div(pd.Series(df_high.index.values)+1,axis=0)"
   ]
  },
  {
   "cell_type": "markdown",
   "id": "60952c8d",
   "metadata": {},
   "source": [
    "mode"
   ]
  },
  {
   "cell_type": "code",
   "execution_count": 14,
   "id": "17028809",
   "metadata": {},
   "outputs": [
    {
     "data": {
      "text/plain": [
       "0    2\n",
       "dtype: int64"
      ]
     },
     "execution_count": 14,
     "metadata": {},
     "output_type": "execute_result"
    }
   ],
   "source": [
    "df_high.MARKET.mode()"
   ]
  },
  {
   "cell_type": "code",
   "execution_count": 15,
   "id": "e8321efd",
   "metadata": {
    "scrolled": false
   },
   "outputs": [
    {
     "data": {
      "image/png": "[encoded data removed]",
      "text/plain": [
       "<Figure size 864x864 with 1 Axes>"
      ]
     },
     "metadata": {},
     "output_type": "display_data"
    }
   ],
   "source": [
    "plt.figure(figsize=(12,12))\n",
    "plt.pie(df_high.MARKET.value_counts().sort_index(),\n",
    "        autopct='%1.1f%%', pctdistance=0.85, explode=[0.05 for i in range(len(df_high.MARKET.value_counts()))])\n",
    "plt.gcf().gca().add_artist(plt.Circle((0, 0), 0.70, fc='white'))\n",
    "plt.title('Market distribution')\n",
    "plt.legend(list(df_high.MARKET.value_counts().sort_index().index), loc=\"upper right\", fontsize=20)\n",
    "plt.show()"
   ]
  },
  {
   "cell_type": "markdown",
   "id": "bf85e184",
   "metadata": {},
   "source": [
    "### NO_OF_TRADES"
   ]
  },
  {
   "cell_type": "markdown",
   "id": "64c4b978",
   "metadata": {},
   "source": [
    "Statistical summary"
   ]
  },
  {
   "cell_type": "code",
   "execution_count": 16,
   "id": "d9211f51",
   "metadata": {},
   "outputs": [
    {
     "data": {
      "text/plain": [
       "count    28012.000000\n",
       "mean        28.061545\n",
       "std         66.231007\n",
       "min          1.000000\n",
       "25%          3.000000\n",
       "50%          9.000000\n",
       "75%         25.000000\n",
       "max       1700.000000\n",
       "Name: NO_OF_TRADES, dtype: float64"
      ]
     },
     "execution_count": 16,
     "metadata": {},
     "output_type": "execute_result"
    }
   ],
   "source": [
    "df_high.NO_OF_TRADES.describe()"
   ]
  },
  {
   "cell_type": "markdown",
   "id": "f1027d10",
   "metadata": {},
   "source": [
    "IQR"
   ]
  },
  {
   "cell_type": "code",
   "execution_count": 17,
   "id": "53875534",
   "metadata": {},
   "outputs": [
    {
     "data": {
      "text/plain": [
       "22.0"
      ]
     },
     "execution_count": 17,
     "metadata": {},
     "output_type": "execute_result"
    }
   ],
   "source": [
    "import scipy\n",
    "scipy.stats.iqr(df_high.NO_OF_TRADES)"
   ]
  },
  {
   "cell_type": "code",
   "execution_count": 18,
   "id": "14f2ab45",
   "metadata": {},
   "outputs": [
    {
     "data": {
      "text/plain": [
       "0        0.678523\n",
       "1       -0.167018\n",
       "2       -0.318007\n",
       "3       -0.348205\n",
       "4       -0.257611\n",
       "           ...   \n",
       "28007   -0.046226\n",
       "28008   -0.393502\n",
       "28009   -0.212314\n",
       "28010   -0.408601\n",
       "28011    8.152497\n",
       "Name: NO_OF_TRADES, Length: 28012, dtype: float64"
      ]
     },
     "execution_count": 18,
     "metadata": {},
     "output_type": "execute_result"
    }
   ],
   "source": [
    "from scipy.stats import zscore\n",
    "zscore(df_high.NO_OF_TRADES)"
   ]
  },
  {
   "cell_type": "code",
   "execution_count": 19,
   "id": "9628931e",
   "metadata": {},
   "outputs": [
    {
     "data": {
      "image/png": "[encoded data removed]",
      "text/plain": [
       "<Figure size 720x720 with 1 Axes>"
      ]
     },
     "metadata": {
      "needs_background": "light"
     },
     "output_type": "display_data"
    }
   ],
   "source": [
    "plt.figure(figsize=(10,10))\n",
    "plt.hist(df_high.NO_OF_TRADES, bins=60)\n",
    "plt.show()"
   ]
  },
  {
   "cell_type": "code",
   "execution_count": 20,
   "id": "edb03617",
   "metadata": {
    "scrolled": false
   },
   "outputs": [
    {
     "data": {
      "image/png": "[encoded data removed]",
      "text/plain": [
       "<Figure size 720x720 with 1 Axes>"
      ]
     },
     "metadata": {
      "needs_background": "light"
     },
     "output_type": "display_data"
    }
   ],
   "source": [
    "plt.figure(figsize=(10,10))\n",
    "plt.hist(df_high.NO_OF_TRADES[df_high.NO_OF_TRADES<200], bins=60)\n",
    "plt.show()"
   ]
  },
  {
   "cell_type": "code",
   "execution_count": 21,
   "id": "d74da55b",
   "metadata": {},
   "outputs": [
    {
     "data": {
      "text/plain": [
       "<AxesSubplot:xlabel='NO_OF_TRADES'>"
      ]
     },
     "execution_count": 21,
     "metadata": {},
     "output_type": "execute_result"
    },
    {
     "data": {
      "image/png": "[encoded data removed]",
      "text/plain": [
       "<Figure size 432x288 with 1 Axes>"
      ]
     },
     "metadata": {
      "needs_background": "light"
     },
     "output_type": "display_data"
    }
   ],
   "source": [
    "sns.boxplot(data=df_high, x='NO_OF_TRADES')"
   ]
  },
  {
   "cell_type": "code",
   "execution_count": 22,
   "id": "738f21a3",
   "metadata": {},
   "outputs": [
    {
     "data": {
      "text/plain": [
       "<AxesSubplot:xlabel='NO_OF_TRADES'>"
      ]
     },
     "execution_count": 22,
     "metadata": {},
     "output_type": "execute_result"
    },
    {
     "data": {
      "image/png": "[encoded data removed]",
      "text/plain": [
       "<Figure size 432x288 with 1 Axes>"
      ]
     },
     "metadata": {
      "needs_background": "light"
     },
     "output_type": "display_data"
    }
   ],
   "source": [
    "sns.boxplot(data=df_high, x='NO_OF_TRADES', showfliers = False)"
   ]
  },
  {
   "cell_type": "markdown",
   "id": "58e2e7a7",
   "metadata": {},
   "source": [
    "### VOLUME"
   ]
  },
  {
   "cell_type": "markdown",
   "id": "ed8b5f71",
   "metadata": {},
   "source": [
    "Statistical summary"
   ]
  },
  {
   "cell_type": "code",
   "execution_count": 23,
   "id": "4d6092ca",
   "metadata": {},
   "outputs": [
    {
     "data": {
      "text/plain": [
       "count    2.801200e+04\n",
       "mean     6.312677e+04\n",
       "std      3.022558e+05\n",
       "min      2.000000e-02\n",
       "25%      6.398300e+02\n",
       "50%      3.831125e+03\n",
       "75%      2.014495e+04\n",
       "max      8.868824e+06\n",
       "Name: VOLUME, dtype: float64"
      ]
     },
     "execution_count": 23,
     "metadata": {},
     "output_type": "execute_result"
    }
   ],
   "source": [
    "df_high.VOLUME.describe()"
   ]
  },
  {
   "cell_type": "markdown",
   "id": "8c90651c",
   "metadata": {},
   "source": [
    "IQR"
   ]
  },
  {
   "cell_type": "code",
   "execution_count": 24,
   "id": "b493535e",
   "metadata": {
    "scrolled": false
   },
   "outputs": [
    {
     "data": {
      "text/plain": [
       "19505.1175"
      ]
     },
     "execution_count": 24,
     "metadata": {},
     "output_type": "execute_result"
    }
   ],
   "source": [
    "import scipy\n",
    "scipy.stats.iqr(df_high.VOLUME)"
   ]
  },
  {
   "cell_type": "code",
   "execution_count": 25,
   "id": "b1557cc1",
   "metadata": {},
   "outputs": [
    {
     "data": {
      "text/plain": [
       "0        0.449816\n",
       "1       -0.166812\n",
       "2       -0.206449\n",
       "3       -0.203701\n",
       "4       -0.112806\n",
       "           ...   \n",
       "28007    3.184058\n",
       "28008   -0.208344\n",
       "28009   -0.018858\n",
       "28010   -0.205101\n",
       "28011    2.838312\n",
       "Name: VOLUME, Length: 28012, dtype: float64"
      ]
     },
     "execution_count": 25,
     "metadata": {},
     "output_type": "execute_result"
    }
   ],
   "source": [
    "from scipy.stats import zscore\n",
    "zscore(df_high.VOLUME)"
   ]
  },
  {
   "cell_type": "code",
   "execution_count": 26,
   "id": "4048a2df",
   "metadata": {},
   "outputs": [
    {
     "data": {
      "image/png": "[encoded data removed]",
      "text/plain": [
       "<Figure size 720x720 with 1 Axes>"
      ]
     },
     "metadata": {
      "needs_background": "light"
     },
     "output_type": "display_data"
    }
   ],
   "source": [
    "plt.figure(figsize=(10,10))\n",
    "plt.hist(df_high.VOLUME, bins=60)\n",
    "plt.show()"
   ]
  },
  {
   "cell_type": "code",
   "execution_count": 27,
   "id": "e83513a3",
   "metadata": {
    "scrolled": false
   },
   "outputs": [
    {
     "data": {
      "image/png": "[encoded data removed]",
      "text/plain": [
       "<Figure size 720x720 with 1 Axes>"
      ]
     },
     "metadata": {
      "needs_background": "light"
     },
     "output_type": "display_data"
    }
   ],
   "source": [
    "plt.figure(figsize=(10,10))\n",
    "plt.hist(df_high.VOLUME[df_high.VOLUME<20000], bins=60)\n",
    "plt.show()"
   ]
  },
  {
   "cell_type": "code",
   "execution_count": 28,
   "id": "2dfee6ac",
   "metadata": {},
   "outputs": [
    {
     "data": {
      "text/plain": [
       "<AxesSubplot:xlabel='VOLUME'>"
      ]
     },
     "execution_count": 28,
     "metadata": {},
     "output_type": "execute_result"
    },
    {
     "data": {
      "image/png": "[encoded data removed]",
      "text/plain": [
       "<Figure size 432x288 with 1 Axes>"
      ]
     },
     "metadata": {
      "needs_background": "light"
     },
     "output_type": "display_data"
    }
   ],
   "source": [
    "sns.boxplot(data=df_high, x='VOLUME')"
   ]
  },
  {
   "cell_type": "code",
   "execution_count": 29,
   "id": "282a92c5",
   "metadata": {},
   "outputs": [
    {
     "data": {
      "text/plain": [
       "<AxesSubplot:xlabel='VOLUME'>"
      ]
     },
     "execution_count": 29,
     "metadata": {},
     "output_type": "execute_result"
    },
    {
     "data": {
      "image/png": "[encoded data removed]",
      "text/plain": [
       "<Figure size 432x288 with 1 Axes>"
      ]
     },
     "metadata": {
      "needs_background": "light"
     },
     "output_type": "display_data"
    }
   ],
   "source": [
    "sns.boxplot(data=df_high, x='VOLUME', showfliers = False)"
   ]
  },
  {
   "cell_type": "code",
   "execution_count": 30,
   "id": "5949d488",
   "metadata": {},
   "outputs": [
    {
     "data": {
      "text/html": [
       "<div>\n",
       "<style scoped>\n",
       "    .dataframe tbody tr th:only-of-type {\n",
       "        vertical-align: middle;\n",
       "    }\n",
       "\n",
       "    .dataframe tbody tr th {\n",
       "        vertical-align: top;\n",
       "    }\n",
       "\n",
       "    .dataframe thead th {\n",
       "        text-align: right;\n",
       "    }\n",
       "</style>\n",
       "<table border=\"1\" class=\"dataframe\">\n",
       "  <thead>\n",
       "    <tr style=\"text-align: right;\">\n",
       "      <th></th>\n",
       "      <th>VOLUME</th>\n",
       "      <th>TRADE_QTY</th>\n",
       "      <th>NO_OF_TRADES</th>\n",
       "      <th>HIGH</th>\n",
       "      <th>BEST_ASK_PRICE</th>\n",
       "      <th>BEST_ASK_QTY</th>\n",
       "      <th>BEST_BID_PRICE</th>\n",
       "      <th>BEST_BID_QTY</th>\n",
       "    </tr>\n",
       "  </thead>\n",
       "  <tbody>\n",
       "    <tr>\n",
       "      <th>VOLUME</th>\n",
       "      <td>1.000000</td>\n",
       "      <td>0.620277</td>\n",
       "      <td>0.777427</td>\n",
       "      <td>0.310333</td>\n",
       "      <td>0.777378</td>\n",
       "      <td>-0.026209</td>\n",
       "      <td>0.777434</td>\n",
       "      <td>-0.011380</td>\n",
       "    </tr>\n",
       "    <tr>\n",
       "      <th>TRADE_QTY</th>\n",
       "      <td>0.620277</td>\n",
       "      <td>1.000000</td>\n",
       "      <td>0.449219</td>\n",
       "      <td>-0.013221</td>\n",
       "      <td>0.449198</td>\n",
       "      <td>0.080231</td>\n",
       "      <td>0.449170</td>\n",
       "      <td>0.075985</td>\n",
       "    </tr>\n",
       "    <tr>\n",
       "      <th>NO_OF_TRADES</th>\n",
       "      <td>0.777427</td>\n",
       "      <td>0.449219</td>\n",
       "      <td>1.000000</td>\n",
       "      <td>0.288890</td>\n",
       "      <td>0.999997</td>\n",
       "      <td>-0.020228</td>\n",
       "      <td>0.999998</td>\n",
       "      <td>0.001323</td>\n",
       "    </tr>\n",
       "    <tr>\n",
       "      <th>HIGH</th>\n",
       "      <td>0.310333</td>\n",
       "      <td>-0.013221</td>\n",
       "      <td>0.288890</td>\n",
       "      <td>1.000000</td>\n",
       "      <td>0.289028</td>\n",
       "      <td>-0.086154</td>\n",
       "      <td>0.289048</td>\n",
       "      <td>-0.070636</td>\n",
       "    </tr>\n",
       "    <tr>\n",
       "      <th>BEST_ASK_PRICE</th>\n",
       "      <td>0.777378</td>\n",
       "      <td>0.449198</td>\n",
       "      <td>0.999997</td>\n",
       "      <td>0.289028</td>\n",
       "      <td>1.000000</td>\n",
       "      <td>-0.020253</td>\n",
       "      <td>0.999999</td>\n",
       "      <td>0.001313</td>\n",
       "    </tr>\n",
       "    <tr>\n",
       "      <th>BEST_ASK_QTY</th>\n",
       "      <td>-0.026209</td>\n",
       "      <td>0.080231</td>\n",
       "      <td>-0.020228</td>\n",
       "      <td>-0.086154</td>\n",
       "      <td>-0.020253</td>\n",
       "      <td>1.000000</td>\n",
       "      <td>-0.020260</td>\n",
       "      <td>0.271098</td>\n",
       "    </tr>\n",
       "    <tr>\n",
       "      <th>BEST_BID_PRICE</th>\n",
       "      <td>0.777434</td>\n",
       "      <td>0.449170</td>\n",
       "      <td>0.999998</td>\n",
       "      <td>0.289048</td>\n",
       "      <td>0.999999</td>\n",
       "      <td>-0.020260</td>\n",
       "      <td>1.000000</td>\n",
       "      <td>0.001308</td>\n",
       "    </tr>\n",
       "    <tr>\n",
       "      <th>BEST_BID_QTY</th>\n",
       "      <td>-0.011380</td>\n",
       "      <td>0.075985</td>\n",
       "      <td>0.001323</td>\n",
       "      <td>-0.070636</td>\n",
       "      <td>0.001313</td>\n",
       "      <td>0.271098</td>\n",
       "      <td>0.001308</td>\n",
       "      <td>1.000000</td>\n",
       "    </tr>\n",
       "  </tbody>\n",
       "</table>\n",
       "</div>"
      ],
      "text/plain": [
       "                  VOLUME  TRADE_QTY  NO_OF_TRADES      HIGH  BEST_ASK_PRICE  \\\n",
       "VOLUME          1.000000   0.620277      0.777427  0.310333        0.777378   \n",
       "TRADE_QTY       0.620277   1.000000      0.449219 -0.013221        0.449198   \n",
       "NO_OF_TRADES    0.777427   0.449219      1.000000  0.288890        0.999997   \n",
       "HIGH            0.310333  -0.013221      0.288890  1.000000        0.289028   \n",
       "BEST_ASK_PRICE  0.777378   0.449198      0.999997  0.289028        1.000000   \n",
       "BEST_ASK_QTY   -0.026209   0.080231     -0.020228 -0.086154       -0.020253   \n",
       "BEST_BID_PRICE  0.777434   0.449170      0.999998  0.289048        0.999999   \n",
       "BEST_BID_QTY   -0.011380   0.075985      0.001323 -0.070636        0.001313   \n",
       "\n",
       "                BEST_ASK_QTY  BEST_BID_PRICE  BEST_BID_QTY  \n",
       "VOLUME             -0.026209        0.777434     -0.011380  \n",
       "TRADE_QTY           0.080231        0.449170      0.075985  \n",
       "NO_OF_TRADES       -0.020228        0.999998      0.001323  \n",
       "HIGH               -0.086154        0.289048     -0.070636  \n",
       "BEST_ASK_PRICE     -0.020253        0.999999      0.001313  \n",
       "BEST_ASK_QTY        1.000000       -0.020260      0.271098  \n",
       "BEST_BID_PRICE     -0.020260        1.000000      0.001308  \n",
       "BEST_BID_QTY        0.271098        0.001308      1.000000  "
      ]
     },
     "execution_count": 30,
     "metadata": {},
     "output_type": "execute_result"
    }
   ],
   "source": [
    "df_high[['VOLUME',\n",
    "       'TRADE_QTY', 'NO_OF_TRADES', 'HIGH',\n",
    "       'BEST_ASK_PRICE', 'BEST_ASK_QTY', 'BEST_BID_PRICE', \n",
    "       'BEST_BID_QTY']].corr()"
   ]
  },
  {
   "cell_type": "code",
   "execution_count": 31,
   "id": "7cf2e63d",
   "metadata": {},
   "outputs": [
    {
     "data": {
      "text/html": [
       "<div>\n",
       "<style scoped>\n",
       "    .dataframe tbody tr th:only-of-type {\n",
       "        vertical-align: middle;\n",
       "    }\n",
       "\n",
       "    .dataframe tbody tr th {\n",
       "        vertical-align: top;\n",
       "    }\n",
       "\n",
       "    .dataframe thead th {\n",
       "        text-align: right;\n",
       "    }\n",
       "</style>\n",
       "<table border=\"1\" class=\"dataframe\">\n",
       "  <thead>\n",
       "    <tr style=\"text-align: right;\">\n",
       "      <th>MARKET</th>\n",
       "      <th>0</th>\n",
       "      <th>1</th>\n",
       "      <th>2</th>\n",
       "      <th>All</th>\n",
       "    </tr>\n",
       "    <tr>\n",
       "      <th>MONTH</th>\n",
       "      <th></th>\n",
       "      <th></th>\n",
       "      <th></th>\n",
       "      <th></th>\n",
       "    </tr>\n",
       "  </thead>\n",
       "  <tbody>\n",
       "    <tr>\n",
       "      <th>1</th>\n",
       "      <td>330</td>\n",
       "      <td>588</td>\n",
       "      <td>1247</td>\n",
       "      <td>2165</td>\n",
       "    </tr>\n",
       "    <tr>\n",
       "      <th>2</th>\n",
       "      <td>354</td>\n",
       "      <td>598</td>\n",
       "      <td>1270</td>\n",
       "      <td>2222</td>\n",
       "    </tr>\n",
       "    <tr>\n",
       "      <th>3</th>\n",
       "      <td>423</td>\n",
       "      <td>672</td>\n",
       "      <td>1389</td>\n",
       "      <td>2484</td>\n",
       "    </tr>\n",
       "    <tr>\n",
       "      <th>4</th>\n",
       "      <td>317</td>\n",
       "      <td>605</td>\n",
       "      <td>1117</td>\n",
       "      <td>2039</td>\n",
       "    </tr>\n",
       "    <tr>\n",
       "      <th>5</th>\n",
       "      <td>395</td>\n",
       "      <td>657</td>\n",
       "      <td>1137</td>\n",
       "      <td>2189</td>\n",
       "    </tr>\n",
       "    <tr>\n",
       "      <th>6</th>\n",
       "      <td>469</td>\n",
       "      <td>777</td>\n",
       "      <td>1506</td>\n",
       "      <td>2752</td>\n",
       "    </tr>\n",
       "    <tr>\n",
       "      <th>7</th>\n",
       "      <td>399</td>\n",
       "      <td>755</td>\n",
       "      <td>1436</td>\n",
       "      <td>2590</td>\n",
       "    </tr>\n",
       "    <tr>\n",
       "      <th>8</th>\n",
       "      <td>394</td>\n",
       "      <td>763</td>\n",
       "      <td>1357</td>\n",
       "      <td>2514</td>\n",
       "    </tr>\n",
       "    <tr>\n",
       "      <th>9</th>\n",
       "      <td>393</td>\n",
       "      <td>693</td>\n",
       "      <td>1303</td>\n",
       "      <td>2389</td>\n",
       "    </tr>\n",
       "    <tr>\n",
       "      <th>10</th>\n",
       "      <td>390</td>\n",
       "      <td>671</td>\n",
       "      <td>1249</td>\n",
       "      <td>2310</td>\n",
       "    </tr>\n",
       "    <tr>\n",
       "      <th>11</th>\n",
       "      <td>369</td>\n",
       "      <td>671</td>\n",
       "      <td>1218</td>\n",
       "      <td>2258</td>\n",
       "    </tr>\n",
       "    <tr>\n",
       "      <th>12</th>\n",
       "      <td>336</td>\n",
       "      <td>614</td>\n",
       "      <td>1150</td>\n",
       "      <td>2100</td>\n",
       "    </tr>\n",
       "    <tr>\n",
       "      <th>All</th>\n",
       "      <td>4569</td>\n",
       "      <td>8064</td>\n",
       "      <td>15379</td>\n",
       "      <td>28012</td>\n",
       "    </tr>\n",
       "  </tbody>\n",
       "</table>\n",
       "</div>"
      ],
      "text/plain": [
       "MARKET     0     1      2    All\n",
       "MONTH                           \n",
       "1        330   588   1247   2165\n",
       "2        354   598   1270   2222\n",
       "3        423   672   1389   2484\n",
       "4        317   605   1117   2039\n",
       "5        395   657   1137   2189\n",
       "6        469   777   1506   2752\n",
       "7        399   755   1436   2590\n",
       "8        394   763   1357   2514\n",
       "9        393   693   1303   2389\n",
       "10       390   671   1249   2310\n",
       "11       369   671   1218   2258\n",
       "12       336   614   1150   2100\n",
       "All     4569  8064  15379  28012"
      ]
     },
     "execution_count": 31,
     "metadata": {},
     "output_type": "execute_result"
    }
   ],
   "source": [
    "pd.crosstab(df_high.MONTH, df_high.MARKET, margins=True)"
   ]
  },
  {
   "cell_type": "code",
   "execution_count": 32,
   "id": "71307afd",
   "metadata": {},
   "outputs": [
    {
     "data": {
      "text/html": [
       "<div>\n",
       "<style scoped>\n",
       "    .dataframe tbody tr th:only-of-type {\n",
       "        vertical-align: middle;\n",
       "    }\n",
       "\n",
       "    .dataframe tbody tr th {\n",
       "        vertical-align: top;\n",
       "    }\n",
       "\n",
       "    .dataframe thead th {\n",
       "        text-align: right;\n",
       "    }\n",
       "</style>\n",
       "<table border=\"1\" class=\"dataframe\">\n",
       "  <thead>\n",
       "    <tr style=\"text-align: right;\">\n",
       "      <th></th>\n",
       "      <th>VOLUME</th>\n",
       "      <th>TRADE_QTY</th>\n",
       "      <th>NO_OF_TRADES</th>\n",
       "      <th>HIGH</th>\n",
       "      <th>BEST_ASK_PRICE</th>\n",
       "      <th>BEST_ASK_QTY</th>\n",
       "      <th>BEST_BID_PRICE</th>\n",
       "      <th>BEST_BID_QTY</th>\n",
       "    </tr>\n",
       "  </thead>\n",
       "  <tbody>\n",
       "    <tr>\n",
       "      <th>VOLUME</th>\n",
       "      <td>1.000000</td>\n",
       "      <td>0.620277</td>\n",
       "      <td>0.777427</td>\n",
       "      <td>0.310333</td>\n",
       "      <td>0.777378</td>\n",
       "      <td>-0.026209</td>\n",
       "      <td>0.777434</td>\n",
       "      <td>-0.011380</td>\n",
       "    </tr>\n",
       "    <tr>\n",
       "      <th>TRADE_QTY</th>\n",
       "      <td>0.620277</td>\n",
       "      <td>1.000000</td>\n",
       "      <td>0.449219</td>\n",
       "      <td>-0.013221</td>\n",
       "      <td>0.449198</td>\n",
       "      <td>0.080231</td>\n",
       "      <td>0.449170</td>\n",
       "      <td>0.075985</td>\n",
       "    </tr>\n",
       "    <tr>\n",
       "      <th>NO_OF_TRADES</th>\n",
       "      <td>0.777427</td>\n",
       "      <td>0.449219</td>\n",
       "      <td>1.000000</td>\n",
       "      <td>0.288890</td>\n",
       "      <td>0.999997</td>\n",
       "      <td>-0.020228</td>\n",
       "      <td>0.999998</td>\n",
       "      <td>0.001323</td>\n",
       "    </tr>\n",
       "    <tr>\n",
       "      <th>HIGH</th>\n",
       "      <td>0.310333</td>\n",
       "      <td>-0.013221</td>\n",
       "      <td>0.288890</td>\n",
       "      <td>1.000000</td>\n",
       "      <td>0.289028</td>\n",
       "      <td>-0.086154</td>\n",
       "      <td>0.289048</td>\n",
       "      <td>-0.070636</td>\n",
       "    </tr>\n",
       "    <tr>\n",
       "      <th>BEST_ASK_PRICE</th>\n",
       "      <td>0.777378</td>\n",
       "      <td>0.449198</td>\n",
       "      <td>0.999997</td>\n",
       "      <td>0.289028</td>\n",
       "      <td>1.000000</td>\n",
       "      <td>-0.020253</td>\n",
       "      <td>0.999999</td>\n",
       "      <td>0.001313</td>\n",
       "    </tr>\n",
       "    <tr>\n",
       "      <th>BEST_ASK_QTY</th>\n",
       "      <td>-0.026209</td>\n",
       "      <td>0.080231</td>\n",
       "      <td>-0.020228</td>\n",
       "      <td>-0.086154</td>\n",
       "      <td>-0.020253</td>\n",
       "      <td>1.000000</td>\n",
       "      <td>-0.020260</td>\n",
       "      <td>0.271098</td>\n",
       "    </tr>\n",
       "    <tr>\n",
       "      <th>BEST_BID_PRICE</th>\n",
       "      <td>0.777434</td>\n",
       "      <td>0.449170</td>\n",
       "      <td>0.999998</td>\n",
       "      <td>0.289048</td>\n",
       "      <td>0.999999</td>\n",
       "      <td>-0.020260</td>\n",
       "      <td>1.000000</td>\n",
       "      <td>0.001308</td>\n",
       "    </tr>\n",
       "    <tr>\n",
       "      <th>BEST_BID_QTY</th>\n",
       "      <td>-0.011380</td>\n",
       "      <td>0.075985</td>\n",
       "      <td>0.001323</td>\n",
       "      <td>-0.070636</td>\n",
       "      <td>0.001313</td>\n",
       "      <td>0.271098</td>\n",
       "      <td>0.001308</td>\n",
       "      <td>1.000000</td>\n",
       "    </tr>\n",
       "  </tbody>\n",
       "</table>\n",
       "</div>"
      ],
      "text/plain": [
       "                  VOLUME  TRADE_QTY  NO_OF_TRADES      HIGH  BEST_ASK_PRICE  \\\n",
       "VOLUME          1.000000   0.620277      0.777427  0.310333        0.777378   \n",
       "TRADE_QTY       0.620277   1.000000      0.449219 -0.013221        0.449198   \n",
       "NO_OF_TRADES    0.777427   0.449219      1.000000  0.288890        0.999997   \n",
       "HIGH            0.310333  -0.013221      0.288890  1.000000        0.289028   \n",
       "BEST_ASK_PRICE  0.777378   0.449198      0.999997  0.289028        1.000000   \n",
       "BEST_ASK_QTY   -0.026209   0.080231     -0.020228 -0.086154       -0.020253   \n",
       "BEST_BID_PRICE  0.777434   0.449170      0.999998  0.289048        0.999999   \n",
       "BEST_BID_QTY   -0.011380   0.075985      0.001323 -0.070636        0.001313   \n",
       "\n",
       "                BEST_ASK_QTY  BEST_BID_PRICE  BEST_BID_QTY  \n",
       "VOLUME             -0.026209        0.777434     -0.011380  \n",
       "TRADE_QTY           0.080231        0.449170      0.075985  \n",
       "NO_OF_TRADES       -0.020228        0.999998      0.001323  \n",
       "HIGH               -0.086154        0.289048     -0.070636  \n",
       "BEST_ASK_PRICE     -0.020253        0.999999      0.001313  \n",
       "BEST_ASK_QTY        1.000000       -0.020260      0.271098  \n",
       "BEST_BID_PRICE     -0.020260        1.000000      0.001308  \n",
       "BEST_BID_QTY        0.271098        0.001308      1.000000  "
      ]
     },
     "execution_count": 32,
     "metadata": {},
     "output_type": "execute_result"
    }
   ],
   "source": [
    "df_high[['VOLUME',\n",
    "       'TRADE_QTY', 'NO_OF_TRADES', 'HIGH',\n",
    "       'BEST_ASK_PRICE', 'BEST_ASK_QTY', 'BEST_BID_PRICE', \n",
    "       'BEST_BID_QTY']].corr()"
   ]
  },
  {
   "cell_type": "code",
   "execution_count": 33,
   "id": "091ddf83",
   "metadata": {
    "scrolled": false
   },
   "outputs": [
    {
     "data": {
      "image/png": "[encoded data removed]",
      "text/plain": [
       "<Figure size 720x720 with 25 Axes>"
      ]
     },
     "metadata": {
      "needs_background": "light"
     },
     "output_type": "display_data"
    }
   ],
   "source": [
    "pd.plotting.scatter_matrix(df_high[['HIGH','VOLUME',\n",
    "       'TRADE_QTY', 'NO_OF_TRADES','BEST_ASK_PRICE']], figsize=(10,10));"
   ]
  },
  {
   "cell_type": "code",
   "execution_count": 34,
   "id": "826f3087",
   "metadata": {},
   "outputs": [
    {
     "data": {
      "text/plain": [
       "SEC_CODE          0\n",
       "SYMBOL1           0\n",
       "MARKET            0\n",
       "VOLUME            0\n",
       "TRADE_QTY         0\n",
       "NO_OF_TRADES      0\n",
       "HIGH              0\n",
       "BEST_ASK_PRICE    0\n",
       "BEST_ASK_QTY      0\n",
       "BEST_BID_PRICE    0\n",
       "BEST_BID_QTY      0\n",
       "YEAR              0\n",
       "MONTH             0\n",
       "DAY               0\n",
       "dtype: int64"
      ]
     },
     "execution_count": 34,
     "metadata": {},
     "output_type": "execute_result"
    }
   ],
   "source": [
    "df_high.isna().sum()"
   ]
  },
  {
   "cell_type": "code",
   "execution_count": null,
   "id": "ee99139d",
   "metadata": {},
   "outputs": [],
   "source": []
  },
  {
   "cell_type": "code",
   "execution_count": null,
   "id": "7f10f3f3",
   "metadata": {},
   "outputs": [],
   "source": []
  },
  {
   "cell_type": "code",
   "execution_count": null,
   "id": "a66b9438",
   "metadata": {},
   "outputs": [],
   "source": []
  },
  {
   "cell_type": "code",
   "execution_count": null,
   "id": "6c74ae2b",
   "metadata": {},
   "outputs": [],
   "source": []
  },
  {
   "cell_type": "code",
   "execution_count": null,
   "id": "d0963955",
   "metadata": {},
   "outputs": [],
   "source": []
  },
  {
   "cell_type": "code",
   "execution_count": null,
   "id": "33dcaa43",
   "metadata": {},
   "outputs": [],
   "source": []
  },
  {
   "cell_type": "markdown",
   "id": "3ef44e3e",
   "metadata": {},
   "source": [
    "# HIGH LABEL"
   ]
  },
  {
   "cell_type": "code",
   "execution_count": 35,
   "id": "a0086c41",
   "metadata": {},
   "outputs": [],
   "source": [
    "X = df_high.drop(['HIGH'], axis=1)\n",
    "y = df_high.HIGH"
   ]
  },
  {
   "cell_type": "code",
   "execution_count": 36,
   "id": "866a5e03",
   "metadata": {},
   "outputs": [],
   "source": [
    "from sklearn.compose import make_column_transformer, make_column_selector\n",
    "from sklearn.preprocessing import OneHotEncoder, MinMaxScaler\n",
    "\n",
    "preprocessing = make_column_transformer(\n",
    "    ('drop', ['SYMBOL1']),\n",
    "    (OneHotEncoder(), ['MARKET']),\n",
    "    remainder='passthrough')\n",
    "\n"
   ]
  },
  {
   "cell_type": "markdown",
   "id": "556ddbdd",
   "metadata": {},
   "source": [
    "# Linear Regression"
   ]
  },
  {
   "cell_type": "code",
   "execution_count": 37,
   "id": "b6b3e2cc",
   "metadata": {},
   "outputs": [],
   "source": [
    "from sklearn.linear_model import LinearRegression"
   ]
  },
  {
   "cell_type": "code",
   "execution_count": 38,
   "id": "96adfc33",
   "metadata": {},
   "outputs": [],
   "source": [
    "ml_LR = LinearRegression()"
   ]
  },
  {
   "cell_type": "code",
   "execution_count": 39,
   "id": "a5276f57",
   "metadata": {},
   "outputs": [],
   "source": [
    "SFS = SequentialFeatureSelector(ml_LR, n_features_to_select='auto', scoring='r2')\n",
    "params_SFS={\n",
    "    'featureSelector':[SFS]\n",
    "}\n",
    "\n",
    "\n",
    "SKB = SelectKBest(f_regression, k=13)\n",
    "params_SKB={\n",
    "    'featureSelector':[SKB] \n",
    "}\n",
    "\n",
    "\n",
    "VT = VarianceThreshold(threshold=0.005)\n",
    "params_VT = {\n",
    "    'featureSelector':[VT],\n",
    "}\n",
    "\n",
    "params=[params_SFS,params_SKB,params_VT]"
   ]
  },
  {
   "cell_type": "code",
   "execution_count": 40,
   "id": "cb3e688f",
   "metadata": {},
   "outputs": [
    {
     "data": {
      "text/html": [
       "<style>#sk-container-id-1 {color: black;background-color: white;}#sk-container-id-1 pre{padding: 0;}#sk-container-id-1 div.sk-toggleable {background-color: white;}#sk-container-id-1 label.sk-toggleable__label {cursor: pointer;display: block;width: 100%;margin-bottom: 0;padding: 0.3em;box-sizing: border-box;text-align: center;}#sk-container-id-1 label.sk-toggleable__label-arrow:before {content: \"▸\";float: left;margin-right: 0.25em;color: #696969;}#sk-container-id-1 label.sk-toggleable__label-arrow:hover:before {color: black;}#sk-container-id-1 div.sk-estimator:hover label.sk-toggleable__label-arrow:before {color: black;}#sk-container-id-1 div.sk-toggleable__content {max-height: 0;max-width: 0;overflow: hidden;text-align: left;background-color: #f0f8ff;}#sk-container-id-1 div.sk-toggleable__content pre {margin: 0.2em;color: black;border-radius: 0.25em;background-color: #f0f8ff;}#sk-container-id-1 input.sk-toggleable__control:checked~div.sk-toggleable__content {max-height: 200px;max-width: 100%;overflow: auto;}#sk-container-id-1 input.sk-toggleable__control:checked~label.sk-toggleable__label-arrow:before {content: \"▾\";}#sk-container-id-1 div.sk-estimator input.sk-toggleable__control:checked~label.sk-toggleable__label {background-color: #d4ebff;}#sk-container-id-1 div.sk-label input.sk-toggleable__control:checked~label.sk-toggleable__label {background-color: #d4ebff;}#sk-container-id-1 input.sk-hidden--visually {border: 0;clip: rect(1px 1px 1px 1px);clip: rect(1px, 1px, 1px, 1px);height: 1px;margin: -1px;overflow: hidden;padding: 0;position: absolute;width: 1px;}#sk-container-id-1 div.sk-estimator {font-family: monospace;background-color: #f0f8ff;border: 1px dotted black;border-radius: 0.25em;box-sizing: border-box;margin-bottom: 0.5em;}#sk-container-id-1 div.sk-estimator:hover {background-color: #d4ebff;}#sk-container-id-1 div.sk-parallel-item::after {content: \"\";width: 100%;border-bottom: 1px solid gray;flex-grow: 1;}#sk-container-id-1 div.sk-label:hover label.sk-toggleable__label {background-color: #d4ebff;}#sk-container-id-1 div.sk-serial::before {content: \"\";position: absolute;border-left: 1px solid gray;box-sizing: border-box;top: 0;bottom: 0;left: 50%;z-index: 0;}#sk-container-id-1 div.sk-serial {display: flex;flex-direction: column;align-items: center;background-color: white;padding-right: 0.2em;padding-left: 0.2em;position: relative;}#sk-container-id-1 div.sk-item {position: relative;z-index: 1;}#sk-container-id-1 div.sk-parallel {display: flex;align-items: stretch;justify-content: center;background-color: white;position: relative;}#sk-container-id-1 div.sk-item::before, #sk-container-id-1 div.sk-parallel-item::before {content: \"\";position: absolute;border-left: 1px solid gray;box-sizing: border-box;top: 0;bottom: 0;left: 50%;z-index: -1;}#sk-container-id-1 div.sk-parallel-item {display: flex;flex-direction: column;z-index: 1;position: relative;background-color: white;}#sk-container-id-1 div.sk-parallel-item:first-child::after {align-self: flex-end;width: 50%;}#sk-container-id-1 div.sk-parallel-item:last-child::after {align-self: flex-start;width: 50%;}#sk-container-id-1 div.sk-parallel-item:only-child::after {width: 0;}#sk-container-id-1 div.sk-dashed-wrapped {border: 1px dashed gray;margin: 0 0.4em 0.5em 0.4em;box-sizing: border-box;padding-bottom: 0.4em;background-color: white;}#sk-container-id-1 div.sk-label label {font-family: monospace;font-weight: bold;display: inline-block;line-height: 1.2em;}#sk-container-id-1 div.sk-label-container {text-align: center;}#sk-container-id-1 div.sk-container {/* jupyter's `normalize.less` sets `[hidden] { display: none; }` but bootstrap.min.css set `[hidden] { display: none !important; }` so we also need the `!important` here to be able to override the default hidden behavior on the sphinx rendered scikit-learn.org. See: https://github.com/scikit-learn/scikit-learn/issues/21755 */display: inline-block !important;position: relative;}#sk-container-id-1 div.sk-text-repr-fallback {display: none;}</style><div id=\"sk-container-id-1\" class=\"sk-top-container\"><div class=\"sk-text-repr-fallback\"><pre>ColumnTransformer(remainder=&#x27;passthrough&#x27;,\n",
       "                  transformers=[(&#x27;drop&#x27;, &#x27;drop&#x27;, [&#x27;SYMBOL1&#x27;]),\n",
       "                                (&#x27;onehotencoder&#x27;, OneHotEncoder(), [&#x27;MARKET&#x27;])])</pre><b>In a Jupyter environment, please rerun this cell to show the HTML representation or trust the notebook. <br />On GitHub, the HTML representation is unable to render, please try loading this page with nbviewer.org.</b></div><div class=\"sk-container\" hidden><div class=\"sk-item sk-dashed-wrapped\"><div class=\"sk-label-container\"><div class=\"sk-label sk-toggleable\"><input class=\"sk-toggleable__control sk-hidden--visually\" id=\"sk-estimator-id-1\" type=\"checkbox\" ><label for=\"sk-estimator-id-1\" class=\"sk-toggleable__label sk-toggleable__label-arrow\">ColumnTransformer</label><div class=\"sk-toggleable__content\"><pre>ColumnTransformer(remainder=&#x27;passthrough&#x27;,\n",
       "                  transformers=[(&#x27;drop&#x27;, &#x27;drop&#x27;, [&#x27;SYMBOL1&#x27;]),\n",
       "                                (&#x27;onehotencoder&#x27;, OneHotEncoder(), [&#x27;MARKET&#x27;])])</pre></div></div></div><div class=\"sk-parallel\"><div class=\"sk-parallel-item\"><div class=\"sk-item\"><div class=\"sk-label-container\"><div class=\"sk-label sk-toggleable\"><input class=\"sk-toggleable__control sk-hidden--visually\" id=\"sk-estimator-id-2\" type=\"checkbox\" ><label for=\"sk-estimator-id-2\" class=\"sk-toggleable__label sk-toggleable__label-arrow\">drop</label><div class=\"sk-toggleable__content\"><pre>[&#x27;SYMBOL1&#x27;]</pre></div></div></div><div class=\"sk-serial\"><div class=\"sk-item\"><div class=\"sk-estimator sk-toggleable\"><input class=\"sk-toggleable__control sk-hidden--visually\" id=\"sk-estimator-id-3\" type=\"checkbox\" ><label for=\"sk-estimator-id-3\" class=\"sk-toggleable__label sk-toggleable__label-arrow\">drop</label><div class=\"sk-toggleable__content\"><pre>drop</pre></div></div></div></div></div></div><div class=\"sk-parallel-item\"><div class=\"sk-item\"><div class=\"sk-label-container\"><div class=\"sk-label sk-toggleable\"><input class=\"sk-toggleable__control sk-hidden--visually\" id=\"sk-estimator-id-4\" type=\"checkbox\" ><label for=\"sk-estimator-id-4\" class=\"sk-toggleable__label sk-toggleable__label-arrow\">onehotencoder</label><div class=\"sk-toggleable__content\"><pre>[&#x27;MARKET&#x27;]</pre></div></div></div><div class=\"sk-serial\"><div class=\"sk-item\"><div class=\"sk-estimator sk-toggleable\"><input class=\"sk-toggleable__control sk-hidden--visually\" id=\"sk-estimator-id-5\" type=\"checkbox\" ><label for=\"sk-estimator-id-5\" class=\"sk-toggleable__label sk-toggleable__label-arrow\">OneHotEncoder</label><div class=\"sk-toggleable__content\"><pre>OneHotEncoder()</pre></div></div></div></div></div></div><div class=\"sk-parallel-item\"><div class=\"sk-item\"><div class=\"sk-label-container\"><div class=\"sk-label sk-toggleable\"><input class=\"sk-toggleable__control sk-hidden--visually\" id=\"sk-estimator-id-6\" type=\"checkbox\" ><label for=\"sk-estimator-id-6\" class=\"sk-toggleable__label sk-toggleable__label-arrow\">remainder</label><div class=\"sk-toggleable__content\"><pre>[&#x27;SEC_CODE&#x27;, &#x27;VOLUME&#x27;, &#x27;TRADE_QTY&#x27;, &#x27;NO_OF_TRADES&#x27;, &#x27;BEST_ASK_PRICE&#x27;, &#x27;BEST_ASK_QTY&#x27;, &#x27;BEST_BID_PRICE&#x27;, &#x27;BEST_BID_QTY&#x27;, &#x27;YEAR&#x27;, &#x27;MONTH&#x27;, &#x27;DAY&#x27;]</pre></div></div></div><div class=\"sk-serial\"><div class=\"sk-item\"><div class=\"sk-estimator sk-toggleable\"><input class=\"sk-toggleable__control sk-hidden--visually\" id=\"sk-estimator-id-7\" type=\"checkbox\" ><label for=\"sk-estimator-id-7\" class=\"sk-toggleable__label sk-toggleable__label-arrow\">passthrough</label><div class=\"sk-toggleable__content\"><pre>passthrough</pre></div></div></div></div></div></div></div></div></div></div>"
      ],
      "text/plain": [
       "ColumnTransformer(remainder='passthrough',\n",
       "                  transformers=[('drop', 'drop', ['SYMBOL1']),\n",
       "                                ('onehotencoder', OneHotEncoder(), ['MARKET'])])"
      ]
     },
     "execution_count": 40,
     "metadata": {},
     "output_type": "execute_result"
    }
   ],
   "source": [
    "preprocessing.fit(X)"
   ]
  },
  {
   "cell_type": "code",
   "execution_count": 41,
   "id": "267cc3f1",
   "metadata": {},
   "outputs": [
    {
     "data": {
      "text/plain": [
       "array(['onehotencoder__MARKET_0', 'onehotencoder__MARKET_1',\n",
       "       'onehotencoder__MARKET_2', 'remainder__SEC_CODE',\n",
       "       'remainder__VOLUME', 'remainder__TRADE_QTY', 'remainder__DAY'],\n",
       "      dtype=object)"
      ]
     },
     "execution_count": 41,
     "metadata": {},
     "output_type": "execute_result"
    }
   ],
   "source": [
    "preprocessing.get_feature_names_out()[SFS.fit(MinMaxScaler().fit_transform(preprocessing.fit_transform(X)), y).get_support()]"
   ]
  },
  {
   "cell_type": "code",
   "execution_count": 42,
   "id": "2631752a",
   "metadata": {},
   "outputs": [
    {
     "data": {
      "text/plain": [
       "array(['onehotencoder__MARKET_0', 'onehotencoder__MARKET_1',\n",
       "       'onehotencoder__MARKET_2', 'remainder__SEC_CODE',\n",
       "       'remainder__VOLUME', 'remainder__TRADE_QTY',\n",
       "       'remainder__NO_OF_TRADES', 'remainder__BEST_ASK_PRICE',\n",
       "       'remainder__BEST_ASK_QTY', 'remainder__BEST_BID_PRICE',\n",
       "       'remainder__BEST_BID_QTY', 'remainder__MONTH', 'remainder__DAY'],\n",
       "      dtype=object)"
      ]
     },
     "execution_count": 42,
     "metadata": {},
     "output_type": "execute_result"
    }
   ],
   "source": [
    "preprocessing.get_feature_names_out()[SKB.fit(MinMaxScaler().fit_transform(preprocessing.fit_transform(X)), y).get_support()]"
   ]
  },
  {
   "cell_type": "code",
   "execution_count": 43,
   "id": "90b322de",
   "metadata": {},
   "outputs": [
    {
     "data": {
      "text/plain": [
       "array(['onehotencoder__MARKET_0', 'onehotencoder__MARKET_1',\n",
       "       'onehotencoder__MARKET_2', 'remainder__SEC_CODE',\n",
       "       'remainder__MONTH', 'remainder__DAY'], dtype=object)"
      ]
     },
     "execution_count": 43,
     "metadata": {},
     "output_type": "execute_result"
    }
   ],
   "source": [
    "preprocessing.get_feature_names_out()[VT.fit(MinMaxScaler().fit_transform(preprocessing.fit_transform(X)), y).get_support()]"
   ]
  },
  {
   "cell_type": "code",
   "execution_count": 44,
   "id": "e13c5579",
   "metadata": {},
   "outputs": [],
   "source": [
    "pipe_LR = Pipeline([('preprocessing',preprocessing), ('scaling', MinMaxScaler()), ('featureSelector',params),('regressor',ml_LR)])"
   ]
  },
  {
   "cell_type": "code",
   "execution_count": 45,
   "id": "c20958ad",
   "metadata": {},
   "outputs": [
    {
     "data": {
      "text/plain": [
       "{'preprocessing': ColumnTransformer(remainder='passthrough',\n",
       "                   transformers=[('drop', 'drop', ['SYMBOL1']),\n",
       "                                 ('onehotencoder', OneHotEncoder(), ['MARKET'])]),\n",
       " 'scaling': MinMaxScaler(),\n",
       " 'featureSelector': [{'featureSelector': [SequentialFeatureSelector(estimator=LinearRegression(),\n",
       "                              n_features_to_select='auto', scoring='r2')]},\n",
       "  {'featureSelector': [SelectKBest(k=13, score_func=<function f_regression at 0x0000021638C3CA60>)]},\n",
       "  {'featureSelector': [VarianceThreshold(threshold=0.005)]}],\n",
       " 'regressor': LinearRegression()}"
      ]
     },
     "execution_count": 45,
     "metadata": {},
     "output_type": "execute_result"
    }
   ],
   "source": [
    "pipe_LR.named_steps"
   ]
  },
  {
   "cell_type": "code",
   "execution_count": 46,
   "id": "0bb2a69f",
   "metadata": {},
   "outputs": [],
   "source": [
    "grid_LR = GridSearchCV(pipe_LR, params, cv=10, scoring=['r2', 'neg_mean_absolute_error','neg_mean_squared_error','neg_root_mean_squared_error'], refit='r2', n_jobs=-1)"
   ]
  },
  {
   "cell_type": "code",
   "execution_count": 47,
   "id": "4cae34b0",
   "metadata": {},
   "outputs": [],
   "source": [
    "grid_LR.fit(X,y);"
   ]
  },
  {
   "cell_type": "code",
   "execution_count": 48,
   "id": "3ab2f4be",
   "metadata": {
    "scrolled": true
   },
   "outputs": [
    {
     "data": {
      "text/html": [
       "<div>\n",
       "<style scoped>\n",
       "    .dataframe tbody tr th:only-of-type {\n",
       "        vertical-align: middle;\n",
       "    }\n",
       "\n",
       "    .dataframe tbody tr th {\n",
       "        vertical-align: top;\n",
       "    }\n",
       "\n",
       "    .dataframe thead th {\n",
       "        text-align: right;\n",
       "    }\n",
       "</style>\n",
       "<table border=\"1\" class=\"dataframe\">\n",
       "  <thead>\n",
       "    <tr style=\"text-align: right;\">\n",
       "      <th></th>\n",
       "      <th>mean_fit_time</th>\n",
       "      <th>std_fit_time</th>\n",
       "      <th>mean_score_time</th>\n",
       "      <th>std_score_time</th>\n",
       "      <th>param_featureSelector</th>\n",
       "      <th>params</th>\n",
       "      <th>split0_test_r2</th>\n",
       "      <th>split1_test_r2</th>\n",
       "      <th>split2_test_r2</th>\n",
       "      <th>split3_test_r2</th>\n",
       "      <th>...</th>\n",
       "      <th>split3_test_neg_root_mean_squared_error</th>\n",
       "      <th>split4_test_neg_root_mean_squared_error</th>\n",
       "      <th>split5_test_neg_root_mean_squared_error</th>\n",
       "      <th>split6_test_neg_root_mean_squared_error</th>\n",
       "      <th>split7_test_neg_root_mean_squared_error</th>\n",
       "      <th>split8_test_neg_root_mean_squared_error</th>\n",
       "      <th>split9_test_neg_root_mean_squared_error</th>\n",
       "      <th>mean_test_neg_root_mean_squared_error</th>\n",
       "      <th>std_test_neg_root_mean_squared_error</th>\n",
       "      <th>rank_test_neg_root_mean_squared_error</th>\n",
       "    </tr>\n",
       "  </thead>\n",
       "  <tbody>\n",
       "    <tr>\n",
       "      <th>0</th>\n",
       "      <td>4.686637</td>\n",
       "      <td>0.066369</td>\n",
       "      <td>0.006915</td>\n",
       "      <td>0.002629</td>\n",
       "      <td>SequentialFeatureSelector(estimator=LinearRegr...</td>\n",
       "      <td>{'featureSelector': SequentialFeatureSelector(...</td>\n",
       "      <td>0.289473</td>\n",
       "      <td>0.300310</td>\n",
       "      <td>0.272437</td>\n",
       "      <td>0.285092</td>\n",
       "      <td>...</td>\n",
       "      <td>-4.007513</td>\n",
       "      <td>-3.955176</td>\n",
       "      <td>-3.921521</td>\n",
       "      <td>-4.017136</td>\n",
       "      <td>-3.953202</td>\n",
       "      <td>-4.028925</td>\n",
       "      <td>-4.113426</td>\n",
       "      <td>-3.933598</td>\n",
       "      <td>0.130129</td>\n",
       "      <td>2</td>\n",
       "    </tr>\n",
       "    <tr>\n",
       "      <th>1</th>\n",
       "      <td>0.116682</td>\n",
       "      <td>0.014885</td>\n",
       "      <td>0.013958</td>\n",
       "      <td>0.003101</td>\n",
       "      <td>SelectKBest(k=13, score_func=&lt;function f_regre...</td>\n",
       "      <td>{'featureSelector': SelectKBest(k=13, score_fu...</td>\n",
       "      <td>0.294873</td>\n",
       "      <td>0.305085</td>\n",
       "      <td>0.276087</td>\n",
       "      <td>0.290280</td>\n",
       "      <td>...</td>\n",
       "      <td>-3.992945</td>\n",
       "      <td>-3.946082</td>\n",
       "      <td>-3.905978</td>\n",
       "      <td>-3.999969</td>\n",
       "      <td>-3.945744</td>\n",
       "      <td>-4.028513</td>\n",
       "      <td>-4.099097</td>\n",
       "      <td>-3.922073</td>\n",
       "      <td>0.130716</td>\n",
       "      <td>1</td>\n",
       "    </tr>\n",
       "    <tr>\n",
       "      <th>2</th>\n",
       "      <td>0.073710</td>\n",
       "      <td>0.007176</td>\n",
       "      <td>0.012309</td>\n",
       "      <td>0.001083</td>\n",
       "      <td>VarianceThreshold(threshold=0.005)</td>\n",
       "      <td>{'featureSelector': VarianceThreshold(threshol...</td>\n",
       "      <td>0.201459</td>\n",
       "      <td>0.198035</td>\n",
       "      <td>0.200677</td>\n",
       "      <td>0.197689</td>\n",
       "      <td>...</td>\n",
       "      <td>-4.245425</td>\n",
       "      <td>-4.187850</td>\n",
       "      <td>-4.180503</td>\n",
       "      <td>-4.230733</td>\n",
       "      <td>-4.231165</td>\n",
       "      <td>-4.312230</td>\n",
       "      <td>-4.381973</td>\n",
       "      <td>-4.178551</td>\n",
       "      <td>0.146880</td>\n",
       "      <td>3</td>\n",
       "    </tr>\n",
       "  </tbody>\n",
       "</table>\n",
       "<p>3 rows × 58 columns</p>\n",
       "</div>"
      ],
      "text/plain": [
       "   mean_fit_time  std_fit_time  mean_score_time  std_score_time  \\\n",
       "0       4.686637      0.066369         0.006915        0.002629   \n",
       "1       0.116682      0.014885         0.013958        0.003101   \n",
       "2       0.073710      0.007176         0.012309        0.001083   \n",
       "\n",
       "                               param_featureSelector  \\\n",
       "0  SequentialFeatureSelector(estimator=LinearRegr...   \n",
       "1  SelectKBest(k=13, score_func=<function f_regre...   \n",
       "2                 VarianceThreshold(threshold=0.005)   \n",
       "\n",
       "                                              params  split0_test_r2  \\\n",
       "0  {'featureSelector': SequentialFeatureSelector(...        0.289473   \n",
       "1  {'featureSelector': SelectKBest(k=13, score_fu...        0.294873   \n",
       "2  {'featureSelector': VarianceThreshold(threshol...        0.201459   \n",
       "\n",
       "   split1_test_r2  split2_test_r2  split3_test_r2  ...  \\\n",
       "0        0.300310        0.272437        0.285092  ...   \n",
       "1        0.305085        0.276087        0.290280  ...   \n",
       "2        0.198035        0.200677        0.197689  ...   \n",
       "\n",
       "   split3_test_neg_root_mean_squared_error  \\\n",
       "0                                -4.007513   \n",
       "1                                -3.992945   \n",
       "2                                -4.245425   \n",
       "\n",
       "   split4_test_neg_root_mean_squared_error  \\\n",
       "0                                -3.955176   \n",
       "1                                -3.946082   \n",
       "2                                -4.187850   \n",
       "\n",
       "   split5_test_neg_root_mean_squared_error  \\\n",
       "0                                -3.921521   \n",
       "1                                -3.905978   \n",
       "2                                -4.180503   \n",
       "\n",
       "   split6_test_neg_root_mean_squared_error  \\\n",
       "0                                -4.017136   \n",
       "1                                -3.999969   \n",
       "2                                -4.230733   \n",
       "\n",
       "   split7_test_neg_root_mean_squared_error  \\\n",
       "0                                -3.953202   \n",
       "1                                -3.945744   \n",
       "2                                -4.231165   \n",
       "\n",
       "   split8_test_neg_root_mean_squared_error  \\\n",
       "0                                -4.028925   \n",
       "1                                -4.028513   \n",
       "2                                -4.312230   \n",
       "\n",
       "   split9_test_neg_root_mean_squared_error  \\\n",
       "0                                -4.113426   \n",
       "1                                -4.099097   \n",
       "2                                -4.381973   \n",
       "\n",
       "   mean_test_neg_root_mean_squared_error  \\\n",
       "0                              -3.933598   \n",
       "1                              -3.922073   \n",
       "2                              -4.178551   \n",
       "\n",
       "   std_test_neg_root_mean_squared_error  rank_test_neg_root_mean_squared_error  \n",
       "0                              0.130129                                      2  \n",
       "1                              0.130716                                      1  \n",
       "2                              0.146880                                      3  \n",
       "\n",
       "[3 rows x 58 columns]"
      ]
     },
     "execution_count": 48,
     "metadata": {},
     "output_type": "execute_result"
    }
   ],
   "source": [
    "LR_df = pd.DataFrame(grid_LR.cv_results_)\n",
    "LR_df"
   ]
  },
  {
   "cell_type": "code",
   "execution_count": 49,
   "id": "07a6616e",
   "metadata": {},
   "outputs": [
    {
     "data": {
      "text/html": [
       "<div>\n",
       "<style scoped>\n",
       "    .dataframe tbody tr th:only-of-type {\n",
       "        vertical-align: middle;\n",
       "    }\n",
       "\n",
       "    .dataframe tbody tr th {\n",
       "        vertical-align: top;\n",
       "    }\n",
       "\n",
       "    .dataframe thead th {\n",
       "        text-align: right;\n",
       "    }\n",
       "</style>\n",
       "<table border=\"1\" class=\"dataframe\">\n",
       "  <thead>\n",
       "    <tr style=\"text-align: right;\">\n",
       "      <th></th>\n",
       "      <th>param_featureSelector</th>\n",
       "      <th>mean_test_r2</th>\n",
       "      <th>mean_test_neg_mean_absolute_error</th>\n",
       "      <th>mean_test_neg_mean_squared_error</th>\n",
       "      <th>mean_test_neg_root_mean_squared_error</th>\n",
       "    </tr>\n",
       "  </thead>\n",
       "  <tbody>\n",
       "    <tr>\n",
       "      <th>0</th>\n",
       "      <td>SequentialFeatureSelector(estimator=LinearRegr...</td>\n",
       "      <td>0.288884</td>\n",
       "      <td>-1.537011</td>\n",
       "      <td>-15.490128</td>\n",
       "      <td>-3.933598</td>\n",
       "    </tr>\n",
       "    <tr>\n",
       "      <th>1</th>\n",
       "      <td>SelectKBest(k=13, score_func=&lt;function f_regre...</td>\n",
       "      <td>0.293063</td>\n",
       "      <td>-1.583421</td>\n",
       "      <td>-15.399740</td>\n",
       "      <td>-3.922073</td>\n",
       "    </tr>\n",
       "    <tr>\n",
       "      <th>2</th>\n",
       "      <td>VarianceThreshold(threshold=0.005)</td>\n",
       "      <td>0.197721</td>\n",
       "      <td>-1.653305</td>\n",
       "      <td>-17.481865</td>\n",
       "      <td>-4.178551</td>\n",
       "    </tr>\n",
       "  </tbody>\n",
       "</table>\n",
       "</div>"
      ],
      "text/plain": [
       "                               param_featureSelector  mean_test_r2  \\\n",
       "0  SequentialFeatureSelector(estimator=LinearRegr...      0.288884   \n",
       "1  SelectKBest(k=13, score_func=<function f_regre...      0.293063   \n",
       "2                 VarianceThreshold(threshold=0.005)      0.197721   \n",
       "\n",
       "   mean_test_neg_mean_absolute_error  mean_test_neg_mean_squared_error  \\\n",
       "0                          -1.537011                        -15.490128   \n",
       "1                          -1.583421                        -15.399740   \n",
       "2                          -1.653305                        -17.481865   \n",
       "\n",
       "   mean_test_neg_root_mean_squared_error  \n",
       "0                              -3.933598  \n",
       "1                              -3.922073  \n",
       "2                              -4.178551  "
      ]
     },
     "execution_count": 49,
     "metadata": {},
     "output_type": "execute_result"
    }
   ],
   "source": [
    "LR_df[['param_featureSelector', 'mean_test_r2', 'mean_test_neg_mean_absolute_error', 'mean_test_neg_mean_squared_error','mean_test_neg_root_mean_squared_error']]"
   ]
  },
  {
   "cell_type": "markdown",
   "id": "29274cbf",
   "metadata": {},
   "source": [
    "# K-neighbors Regression"
   ]
  },
  {
   "cell_type": "code",
   "execution_count": 50,
   "id": "c5bf9461",
   "metadata": {},
   "outputs": [],
   "source": [
    "from sklearn.neighbors import KNeighborsRegressor"
   ]
  },
  {
   "cell_type": "code",
   "execution_count": 51,
   "id": "2a838962",
   "metadata": {},
   "outputs": [],
   "source": [
    "ml_KNN = KNeighborsRegressor(2)"
   ]
  },
  {
   "cell_type": "code",
   "execution_count": 52,
   "id": "3d1655f8",
   "metadata": {},
   "outputs": [],
   "source": [
    "n_neighbors_range = range(2)\n",
    "\n",
    "SFS = SequentialFeatureSelector(ml_KNN, n_features_to_select='auto', scoring='r2')\n",
    "params_SFS={\n",
    "    'featureSelector':[SFS]\n",
    "}\n",
    "\n",
    "\n",
    "SKB = SelectKBest(f_regression, k=11)\n",
    "params_SKB={\n",
    "    'featureSelector':[SKB]\n",
    "}\n",
    "\n",
    "VT = VarianceThreshold(threshold=0.005)\n",
    "params_VT = {\n",
    "    'featureSelector':[VT],\n",
    "}\n",
    "\n",
    "params=[params_SFS,params_SKB,params_VT]"
   ]
  },
  {
   "cell_type": "code",
   "execution_count": 53,
   "id": "54225e00",
   "metadata": {},
   "outputs": [
    {
     "data": {
      "text/html": [
       "<style>#sk-container-id-2 {color: black;background-color: white;}#sk-container-id-2 pre{padding: 0;}#sk-container-id-2 div.sk-toggleable {background-color: white;}#sk-container-id-2 label.sk-toggleable__label {cursor: pointer;display: block;width: 100%;margin-bottom: 0;padding: 0.3em;box-sizing: border-box;text-align: center;}#sk-container-id-2 label.sk-toggleable__label-arrow:before {content: \"▸\";float: left;margin-right: 0.25em;color: #696969;}#sk-container-id-2 label.sk-toggleable__label-arrow:hover:before {color: black;}#sk-container-id-2 div.sk-estimator:hover label.sk-toggleable__label-arrow:before {color: black;}#sk-container-id-2 div.sk-toggleable__content {max-height: 0;max-width: 0;overflow: hidden;text-align: left;background-color: #f0f8ff;}#sk-container-id-2 div.sk-toggleable__content pre {margin: 0.2em;color: black;border-radius: 0.25em;background-color: #f0f8ff;}#sk-container-id-2 input.sk-toggleable__control:checked~div.sk-toggleable__content {max-height: 200px;max-width: 100%;overflow: auto;}#sk-container-id-2 input.sk-toggleable__control:checked~label.sk-toggleable__label-arrow:before {content: \"▾\";}#sk-container-id-2 div.sk-estimator input.sk-toggleable__control:checked~label.sk-toggleable__label {background-color: #d4ebff;}#sk-container-id-2 div.sk-label input.sk-toggleable__control:checked~label.sk-toggleable__label {background-color: #d4ebff;}#sk-container-id-2 input.sk-hidden--visually {border: 0;clip: rect(1px 1px 1px 1px);clip: rect(1px, 1px, 1px, 1px);height: 1px;margin: -1px;overflow: hidden;padding: 0;position: absolute;width: 1px;}#sk-container-id-2 div.sk-estimator {font-family: monospace;background-color: #f0f8ff;border: 1px dotted black;border-radius: 0.25em;box-sizing: border-box;margin-bottom: 0.5em;}#sk-container-id-2 div.sk-estimator:hover {background-color: #d4ebff;}#sk-container-id-2 div.sk-parallel-item::after {content: \"\";width: 100%;border-bottom: 1px solid gray;flex-grow: 1;}#sk-container-id-2 div.sk-label:hover label.sk-toggleable__label {background-color: #d4ebff;}#sk-container-id-2 div.sk-serial::before {content: \"\";position: absolute;border-left: 1px solid gray;box-sizing: border-box;top: 0;bottom: 0;left: 50%;z-index: 0;}#sk-container-id-2 div.sk-serial {display: flex;flex-direction: column;align-items: center;background-color: white;padding-right: 0.2em;padding-left: 0.2em;position: relative;}#sk-container-id-2 div.sk-item {position: relative;z-index: 1;}#sk-container-id-2 div.sk-parallel {display: flex;align-items: stretch;justify-content: center;background-color: white;position: relative;}#sk-container-id-2 div.sk-item::before, #sk-container-id-2 div.sk-parallel-item::before {content: \"\";position: absolute;border-left: 1px solid gray;box-sizing: border-box;top: 0;bottom: 0;left: 50%;z-index: -1;}#sk-container-id-2 div.sk-parallel-item {display: flex;flex-direction: column;z-index: 1;position: relative;background-color: white;}#sk-container-id-2 div.sk-parallel-item:first-child::after {align-self: flex-end;width: 50%;}#sk-container-id-2 div.sk-parallel-item:last-child::after {align-self: flex-start;width: 50%;}#sk-container-id-2 div.sk-parallel-item:only-child::after {width: 0;}#sk-container-id-2 div.sk-dashed-wrapped {border: 1px dashed gray;margin: 0 0.4em 0.5em 0.4em;box-sizing: border-box;padding-bottom: 0.4em;background-color: white;}#sk-container-id-2 div.sk-label label {font-family: monospace;font-weight: bold;display: inline-block;line-height: 1.2em;}#sk-container-id-2 div.sk-label-container {text-align: center;}#sk-container-id-2 div.sk-container {/* jupyter's `normalize.less` sets `[hidden] { display: none; }` but bootstrap.min.css set `[hidden] { display: none !important; }` so we also need the `!important` here to be able to override the default hidden behavior on the sphinx rendered scikit-learn.org. See: https://github.com/scikit-learn/scikit-learn/issues/21755 */display: inline-block !important;position: relative;}#sk-container-id-2 div.sk-text-repr-fallback {display: none;}</style><div id=\"sk-container-id-2\" class=\"sk-top-container\"><div class=\"sk-text-repr-fallback\"><pre>ColumnTransformer(remainder=&#x27;passthrough&#x27;,\n",
       "                  transformers=[(&#x27;drop&#x27;, &#x27;drop&#x27;, [&#x27;SYMBOL1&#x27;]),\n",
       "                                (&#x27;onehotencoder&#x27;, OneHotEncoder(), [&#x27;MARKET&#x27;])])</pre><b>In a Jupyter environment, please rerun this cell to show the HTML representation or trust the notebook. <br />On GitHub, the HTML representation is unable to render, please try loading this page with nbviewer.org.</b></div><div class=\"sk-container\" hidden><div class=\"sk-item sk-dashed-wrapped\"><div class=\"sk-label-container\"><div class=\"sk-label sk-toggleable\"><input class=\"sk-toggleable__control sk-hidden--visually\" id=\"sk-estimator-id-8\" type=\"checkbox\" ><label for=\"sk-estimator-id-8\" class=\"sk-toggleable__label sk-toggleable__label-arrow\">ColumnTransformer</label><div class=\"sk-toggleable__content\"><pre>ColumnTransformer(remainder=&#x27;passthrough&#x27;,\n",
       "                  transformers=[(&#x27;drop&#x27;, &#x27;drop&#x27;, [&#x27;SYMBOL1&#x27;]),\n",
       "                                (&#x27;onehotencoder&#x27;, OneHotEncoder(), [&#x27;MARKET&#x27;])])</pre></div></div></div><div class=\"sk-parallel\"><div class=\"sk-parallel-item\"><div class=\"sk-item\"><div class=\"sk-label-container\"><div class=\"sk-label sk-toggleable\"><input class=\"sk-toggleable__control sk-hidden--visually\" id=\"sk-estimator-id-9\" type=\"checkbox\" ><label for=\"sk-estimator-id-9\" class=\"sk-toggleable__label sk-toggleable__label-arrow\">drop</label><div class=\"sk-toggleable__content\"><pre>[&#x27;SYMBOL1&#x27;]</pre></div></div></div><div class=\"sk-serial\"><div class=\"sk-item\"><div class=\"sk-estimator sk-toggleable\"><input class=\"sk-toggleable__control sk-hidden--visually\" id=\"sk-estimator-id-10\" type=\"checkbox\" ><label for=\"sk-estimator-id-10\" class=\"sk-toggleable__label sk-toggleable__label-arrow\">drop</label><div class=\"sk-toggleable__content\"><pre>drop</pre></div></div></div></div></div></div><div class=\"sk-parallel-item\"><div class=\"sk-item\"><div class=\"sk-label-container\"><div class=\"sk-label sk-toggleable\"><input class=\"sk-toggleable__control sk-hidden--visually\" id=\"sk-estimator-id-11\" type=\"checkbox\" ><label for=\"sk-estimator-id-11\" class=\"sk-toggleable__label sk-toggleable__label-arrow\">onehotencoder</label><div class=\"sk-toggleable__content\"><pre>[&#x27;MARKET&#x27;]</pre></div></div></div><div class=\"sk-serial\"><div class=\"sk-item\"><div class=\"sk-estimator sk-toggleable\"><input class=\"sk-toggleable__control sk-hidden--visually\" id=\"sk-estimator-id-12\" type=\"checkbox\" ><label for=\"sk-estimator-id-12\" class=\"sk-toggleable__label sk-toggleable__label-arrow\">OneHotEncoder</label><div class=\"sk-toggleable__content\"><pre>OneHotEncoder()</pre></div></div></div></div></div></div><div class=\"sk-parallel-item\"><div class=\"sk-item\"><div class=\"sk-label-container\"><div class=\"sk-label sk-toggleable\"><input class=\"sk-toggleable__control sk-hidden--visually\" id=\"sk-estimator-id-13\" type=\"checkbox\" ><label for=\"sk-estimator-id-13\" class=\"sk-toggleable__label sk-toggleable__label-arrow\">remainder</label><div class=\"sk-toggleable__content\"><pre>[&#x27;SEC_CODE&#x27;, &#x27;VOLUME&#x27;, &#x27;TRADE_QTY&#x27;, &#x27;NO_OF_TRADES&#x27;, &#x27;BEST_ASK_PRICE&#x27;, &#x27;BEST_ASK_QTY&#x27;, &#x27;BEST_BID_PRICE&#x27;, &#x27;BEST_BID_QTY&#x27;, &#x27;YEAR&#x27;, &#x27;MONTH&#x27;, &#x27;DAY&#x27;]</pre></div></div></div><div class=\"sk-serial\"><div class=\"sk-item\"><div class=\"sk-estimator sk-toggleable\"><input class=\"sk-toggleable__control sk-hidden--visually\" id=\"sk-estimator-id-14\" type=\"checkbox\" ><label for=\"sk-estimator-id-14\" class=\"sk-toggleable__label sk-toggleable__label-arrow\">passthrough</label><div class=\"sk-toggleable__content\"><pre>passthrough</pre></div></div></div></div></div></div></div></div></div></div>"
      ],
      "text/plain": [
       "ColumnTransformer(remainder='passthrough',\n",
       "                  transformers=[('drop', 'drop', ['SYMBOL1']),\n",
       "                                ('onehotencoder', OneHotEncoder(), ['MARKET'])])"
      ]
     },
     "execution_count": 53,
     "metadata": {},
     "output_type": "execute_result"
    }
   ],
   "source": [
    "preprocessing.fit(X)"
   ]
  },
  {
   "cell_type": "code",
   "execution_count": 54,
   "id": "d47494eb",
   "metadata": {},
   "outputs": [
    {
     "data": {
      "text/plain": [
       "array(['onehotencoder__MARKET_0', 'onehotencoder__MARKET_1',\n",
       "       'onehotencoder__MARKET_2', 'remainder__SEC_CODE',\n",
       "       'remainder__BEST_BID_QTY', 'remainder__YEAR', 'remainder__MONTH'],\n",
       "      dtype=object)"
      ]
     },
     "execution_count": 54,
     "metadata": {},
     "output_type": "execute_result"
    }
   ],
   "source": [
    "preprocessing.get_feature_names_out()[SFS.fit(MinMaxScaler().fit_transform(preprocessing.fit_transform(X)), y).get_support()]"
   ]
  },
  {
   "cell_type": "code",
   "execution_count": 55,
   "id": "009b30d5",
   "metadata": {},
   "outputs": [
    {
     "data": {
      "text/plain": [
       "array(['onehotencoder__MARKET_0', 'onehotencoder__MARKET_1',\n",
       "       'onehotencoder__MARKET_2', 'remainder__SEC_CODE',\n",
       "       'remainder__VOLUME', 'remainder__TRADE_QTY',\n",
       "       'remainder__NO_OF_TRADES', 'remainder__BEST_ASK_PRICE',\n",
       "       'remainder__BEST_ASK_QTY', 'remainder__BEST_BID_PRICE',\n",
       "       'remainder__BEST_BID_QTY'], dtype=object)"
      ]
     },
     "execution_count": 55,
     "metadata": {},
     "output_type": "execute_result"
    }
   ],
   "source": [
    "preprocessing.get_feature_names_out()[SKB.fit(MinMaxScaler().fit_transform(preprocessing.fit_transform(X)), y).get_support()]"
   ]
  },
  {
   "cell_type": "code",
   "execution_count": 56,
   "id": "f83b5938",
   "metadata": {},
   "outputs": [
    {
     "data": {
      "text/plain": [
       "array(['onehotencoder__MARKET_0', 'onehotencoder__MARKET_1',\n",
       "       'onehotencoder__MARKET_2', 'remainder__SEC_CODE',\n",
       "       'remainder__MONTH', 'remainder__DAY'], dtype=object)"
      ]
     },
     "execution_count": 56,
     "metadata": {},
     "output_type": "execute_result"
    }
   ],
   "source": [
    "preprocessing.get_feature_names_out()[VT.fit(MinMaxScaler().fit_transform(preprocessing.fit_transform(X)), y).get_support()]"
   ]
  },
  {
   "cell_type": "code",
   "execution_count": 57,
   "id": "e12e8329",
   "metadata": {},
   "outputs": [],
   "source": [
    "pipe_KNN = Pipeline([('preprocessing', preprocessing),('scaling', MinMaxScaler()), ('featureSelector',SFS),('regressor',ml_KNN)])"
   ]
  },
  {
   "cell_type": "code",
   "execution_count": 58,
   "id": "8cf12df6",
   "metadata": {},
   "outputs": [
    {
     "data": {
      "text/plain": [
       "{'preprocessing': ColumnTransformer(remainder='passthrough',\n",
       "                   transformers=[('drop', 'drop', ['SYMBOL1']),\n",
       "                                 ('onehotencoder', OneHotEncoder(), ['MARKET'])]),\n",
       " 'scaling': MinMaxScaler(),\n",
       " 'featureSelector': SequentialFeatureSelector(estimator=KNeighborsRegressor(n_neighbors=2),\n",
       "                           n_features_to_select='auto', scoring='r2'),\n",
       " 'regressor': KNeighborsRegressor(n_neighbors=2)}"
      ]
     },
     "execution_count": 58,
     "metadata": {},
     "output_type": "execute_result"
    }
   ],
   "source": [
    "pipe_KNN.named_steps"
   ]
  },
  {
   "cell_type": "code",
   "execution_count": 59,
   "id": "b384d32f",
   "metadata": {},
   "outputs": [],
   "source": [
    "grid_KNN = GridSearchCV(pipe_KNN, params, cv=10, scoring=['r2', 'neg_mean_absolute_error','neg_mean_squared_error','neg_root_mean_squared_error'], refit=False, n_jobs=-1)"
   ]
  },
  {
   "cell_type": "code",
   "execution_count": 60,
   "id": "d9f98a6b",
   "metadata": {},
   "outputs": [
    {
     "data": {
      "text/plain": [
       "41.33096098899841"
      ]
     },
     "execution_count": 60,
     "metadata": {},
     "output_type": "execute_result"
    }
   ],
   "source": [
    "import time\n",
    "start = time.time()\n",
    "grid_KNN.fit(X,y);\n",
    "time.time() - start"
   ]
  },
  {
   "cell_type": "code",
   "execution_count": 61,
   "id": "3544747a",
   "metadata": {},
   "outputs": [],
   "source": [
    "KNN_df = pd.DataFrame(grid_KNN.cv_results_)"
   ]
  },
  {
   "cell_type": "code",
   "execution_count": null,
   "id": "7a251cfc",
   "metadata": {},
   "outputs": [],
   "source": []
  },
  {
   "cell_type": "code",
   "execution_count": 62,
   "id": "f1e6cae0",
   "metadata": {},
   "outputs": [
    {
     "data": {
      "text/html": [
       "<div>\n",
       "<style scoped>\n",
       "    .dataframe tbody tr th:only-of-type {\n",
       "        vertical-align: middle;\n",
       "    }\n",
       "\n",
       "    .dataframe tbody tr th {\n",
       "        vertical-align: top;\n",
       "    }\n",
       "\n",
       "    .dataframe thead th {\n",
       "        text-align: right;\n",
       "    }\n",
       "</style>\n",
       "<table border=\"1\" class=\"dataframe\">\n",
       "  <thead>\n",
       "    <tr style=\"text-align: right;\">\n",
       "      <th></th>\n",
       "      <th>param_featureSelector</th>\n",
       "      <th>mean_test_r2</th>\n",
       "      <th>mean_test_neg_mean_absolute_error</th>\n",
       "      <th>mean_test_neg_mean_squared_error</th>\n",
       "      <th>mean_test_neg_root_mean_squared_error</th>\n",
       "    </tr>\n",
       "  </thead>\n",
       "  <tbody>\n",
       "    <tr>\n",
       "      <th>0</th>\n",
       "      <td>SequentialFeatureSelector(estimator=KNeighbors...</td>\n",
       "      <td>0.900869</td>\n",
       "      <td>-0.364038</td>\n",
       "      <td>-2.104982</td>\n",
       "      <td>-1.396173</td>\n",
       "    </tr>\n",
       "    <tr>\n",
       "      <th>1</th>\n",
       "      <td>SelectKBest(k=11, score_func=&lt;function f_regre...</td>\n",
       "      <td>0.893878</td>\n",
       "      <td>-0.395421</td>\n",
       "      <td>-2.303940</td>\n",
       "      <td>-1.502660</td>\n",
       "    </tr>\n",
       "    <tr>\n",
       "      <th>2</th>\n",
       "      <td>VarianceThreshold(threshold=0.005)</td>\n",
       "      <td>0.442297</td>\n",
       "      <td>-1.001281</td>\n",
       "      <td>-12.127617</td>\n",
       "      <td>-3.477429</td>\n",
       "    </tr>\n",
       "  </tbody>\n",
       "</table>\n",
       "</div>"
      ],
      "text/plain": [
       "                               param_featureSelector  mean_test_r2  \\\n",
       "0  SequentialFeatureSelector(estimator=KNeighbors...      0.900869   \n",
       "1  SelectKBest(k=11, score_func=<function f_regre...      0.893878   \n",
       "2                 VarianceThreshold(threshold=0.005)      0.442297   \n",
       "\n",
       "   mean_test_neg_mean_absolute_error  mean_test_neg_mean_squared_error  \\\n",
       "0                          -0.364038                         -2.104982   \n",
       "1                          -0.395421                         -2.303940   \n",
       "2                          -1.001281                        -12.127617   \n",
       "\n",
       "   mean_test_neg_root_mean_squared_error  \n",
       "0                              -1.396173  \n",
       "1                              -1.502660  \n",
       "2                              -3.477429  "
      ]
     },
     "execution_count": 62,
     "metadata": {},
     "output_type": "execute_result"
    }
   ],
   "source": [
    "KNN_df[['param_featureSelector', 'mean_test_r2', 'mean_test_neg_mean_absolute_error', 'mean_test_neg_mean_squared_error','mean_test_neg_root_mean_squared_error']].sort_values(by='mean_test_r2', ascending=False)"
   ]
  },
  {
   "cell_type": "markdown",
   "id": "b527805e",
   "metadata": {},
   "source": [
    "# Decision Tree Regressor"
   ]
  },
  {
   "cell_type": "code",
   "execution_count": 63,
   "id": "5d3e3ae9",
   "metadata": {},
   "outputs": [],
   "source": [
    "from sklearn.tree import DecisionTreeRegressor"
   ]
  },
  {
   "cell_type": "code",
   "execution_count": 64,
   "id": "7912f7b5",
   "metadata": {},
   "outputs": [],
   "source": [
    "ml_DT = DecisionTreeRegressor(random_state=0)"
   ]
  },
  {
   "cell_type": "code",
   "execution_count": 65,
   "id": "c627eb24",
   "metadata": {},
   "outputs": [],
   "source": [
    "SFS = SequentialFeatureSelector(ml_DT, n_features_to_select='auto', scoring='r2')\n",
    "params_SFS={\n",
    "    'featureSelector':[SFS]\n",
    "}\n",
    "\n",
    "\n",
    "SKB = SelectKBest(f_regression, k=13)\n",
    "params_SKB={\n",
    "    'featureSelector':[SKB]\n",
    "}\n",
    "\n",
    "VT = VarianceThreshold(threshold=0.005)\n",
    "params_VT = {\n",
    "    'featureSelector':[VT],\n",
    "}\n",
    "\n",
    "params=[params_SFS,params_SKB,params_VT]"
   ]
  },
  {
   "cell_type": "code",
   "execution_count": 66,
   "id": "55316492",
   "metadata": {},
   "outputs": [
    {
     "data": {
      "text/html": [
       "<style>#sk-container-id-3 {color: black;background-color: white;}#sk-container-id-3 pre{padding: 0;}#sk-container-id-3 div.sk-toggleable {background-color: white;}#sk-container-id-3 label.sk-toggleable__label {cursor: pointer;display: block;width: 100%;margin-bottom: 0;padding: 0.3em;box-sizing: border-box;text-align: center;}#sk-container-id-3 label.sk-toggleable__label-arrow:before {content: \"▸\";float: left;margin-right: 0.25em;color: #696969;}#sk-container-id-3 label.sk-toggleable__label-arrow:hover:before {color: black;}#sk-container-id-3 div.sk-estimator:hover label.sk-toggleable__label-arrow:before {color: black;}#sk-container-id-3 div.sk-toggleable__content {max-height: 0;max-width: 0;overflow: hidden;text-align: left;background-color: #f0f8ff;}#sk-container-id-3 div.sk-toggleable__content pre {margin: 0.2em;color: black;border-radius: 0.25em;background-color: #f0f8ff;}#sk-container-id-3 input.sk-toggleable__control:checked~div.sk-toggleable__content {max-height: 200px;max-width: 100%;overflow: auto;}#sk-container-id-3 input.sk-toggleable__control:checked~label.sk-toggleable__label-arrow:before {content: \"▾\";}#sk-container-id-3 div.sk-estimator input.sk-toggleable__control:checked~label.sk-toggleable__label {background-color: #d4ebff;}#sk-container-id-3 div.sk-label input.sk-toggleable__control:checked~label.sk-toggleable__label {background-color: #d4ebff;}#sk-container-id-3 input.sk-hidden--visually {border: 0;clip: rect(1px 1px 1px 1px);clip: rect(1px, 1px, 1px, 1px);height: 1px;margin: -1px;overflow: hidden;padding: 0;position: absolute;width: 1px;}#sk-container-id-3 div.sk-estimator {font-family: monospace;background-color: #f0f8ff;border: 1px dotted black;border-radius: 0.25em;box-sizing: border-box;margin-bottom: 0.5em;}#sk-container-id-3 div.sk-estimator:hover {background-color: #d4ebff;}#sk-container-id-3 div.sk-parallel-item::after {content: \"\";width: 100%;border-bottom: 1px solid gray;flex-grow: 1;}#sk-container-id-3 div.sk-label:hover label.sk-toggleable__label {background-color: #d4ebff;}#sk-container-id-3 div.sk-serial::before {content: \"\";position: absolute;border-left: 1px solid gray;box-sizing: border-box;top: 0;bottom: 0;left: 50%;z-index: 0;}#sk-container-id-3 div.sk-serial {display: flex;flex-direction: column;align-items: center;background-color: white;padding-right: 0.2em;padding-left: 0.2em;position: relative;}#sk-container-id-3 div.sk-item {position: relative;z-index: 1;}#sk-container-id-3 div.sk-parallel {display: flex;align-items: stretch;justify-content: center;background-color: white;position: relative;}#sk-container-id-3 div.sk-item::before, #sk-container-id-3 div.sk-parallel-item::before {content: \"\";position: absolute;border-left: 1px solid gray;box-sizing: border-box;top: 0;bottom: 0;left: 50%;z-index: -1;}#sk-container-id-3 div.sk-parallel-item {display: flex;flex-direction: column;z-index: 1;position: relative;background-color: white;}#sk-container-id-3 div.sk-parallel-item:first-child::after {align-self: flex-end;width: 50%;}#sk-container-id-3 div.sk-parallel-item:last-child::after {align-self: flex-start;width: 50%;}#sk-container-id-3 div.sk-parallel-item:only-child::after {width: 0;}#sk-container-id-3 div.sk-dashed-wrapped {border: 1px dashed gray;margin: 0 0.4em 0.5em 0.4em;box-sizing: border-box;padding-bottom: 0.4em;background-color: white;}#sk-container-id-3 div.sk-label label {font-family: monospace;font-weight: bold;display: inline-block;line-height: 1.2em;}#sk-container-id-3 div.sk-label-container {text-align: center;}#sk-container-id-3 div.sk-container {/* jupyter's `normalize.less` sets `[hidden] { display: none; }` but bootstrap.min.css set `[hidden] { display: none !important; }` so we also need the `!important` here to be able to override the default hidden behavior on the sphinx rendered scikit-learn.org. See: https://github.com/scikit-learn/scikit-learn/issues/21755 */display: inline-block !important;position: relative;}#sk-container-id-3 div.sk-text-repr-fallback {display: none;}</style><div id=\"sk-container-id-3\" class=\"sk-top-container\"><div class=\"sk-text-repr-fallback\"><pre>ColumnTransformer(remainder=&#x27;passthrough&#x27;,\n",
       "                  transformers=[(&#x27;drop&#x27;, &#x27;drop&#x27;, [&#x27;SYMBOL1&#x27;]),\n",
       "                                (&#x27;onehotencoder&#x27;, OneHotEncoder(), [&#x27;MARKET&#x27;])])</pre><b>In a Jupyter environment, please rerun this cell to show the HTML representation or trust the notebook. <br />On GitHub, the HTML representation is unable to render, please try loading this page with nbviewer.org.</b></div><div class=\"sk-container\" hidden><div class=\"sk-item sk-dashed-wrapped\"><div class=\"sk-label-container\"><div class=\"sk-label sk-toggleable\"><input class=\"sk-toggleable__control sk-hidden--visually\" id=\"sk-estimator-id-15\" type=\"checkbox\" ><label for=\"sk-estimator-id-15\" class=\"sk-toggleable__label sk-toggleable__label-arrow\">ColumnTransformer</label><div class=\"sk-toggleable__content\"><pre>ColumnTransformer(remainder=&#x27;passthrough&#x27;,\n",
       "                  transformers=[(&#x27;drop&#x27;, &#x27;drop&#x27;, [&#x27;SYMBOL1&#x27;]),\n",
       "                                (&#x27;onehotencoder&#x27;, OneHotEncoder(), [&#x27;MARKET&#x27;])])</pre></div></div></div><div class=\"sk-parallel\"><div class=\"sk-parallel-item\"><div class=\"sk-item\"><div class=\"sk-label-container\"><div class=\"sk-label sk-toggleable\"><input class=\"sk-toggleable__control sk-hidden--visually\" id=\"sk-estimator-id-16\" type=\"checkbox\" ><label for=\"sk-estimator-id-16\" class=\"sk-toggleable__label sk-toggleable__label-arrow\">drop</label><div class=\"sk-toggleable__content\"><pre>[&#x27;SYMBOL1&#x27;]</pre></div></div></div><div class=\"sk-serial\"><div class=\"sk-item\"><div class=\"sk-estimator sk-toggleable\"><input class=\"sk-toggleable__control sk-hidden--visually\" id=\"sk-estimator-id-17\" type=\"checkbox\" ><label for=\"sk-estimator-id-17\" class=\"sk-toggleable__label sk-toggleable__label-arrow\">drop</label><div class=\"sk-toggleable__content\"><pre>drop</pre></div></div></div></div></div></div><div class=\"sk-parallel-item\"><div class=\"sk-item\"><div class=\"sk-label-container\"><div class=\"sk-label sk-toggleable\"><input class=\"sk-toggleable__control sk-hidden--visually\" id=\"sk-estimator-id-18\" type=\"checkbox\" ><label for=\"sk-estimator-id-18\" class=\"sk-toggleable__label sk-toggleable__label-arrow\">onehotencoder</label><div class=\"sk-toggleable__content\"><pre>[&#x27;MARKET&#x27;]</pre></div></div></div><div class=\"sk-serial\"><div class=\"sk-item\"><div class=\"sk-estimator sk-toggleable\"><input class=\"sk-toggleable__control sk-hidden--visually\" id=\"sk-estimator-id-19\" type=\"checkbox\" ><label for=\"sk-estimator-id-19\" class=\"sk-toggleable__label sk-toggleable__label-arrow\">OneHotEncoder</label><div class=\"sk-toggleable__content\"><pre>OneHotEncoder()</pre></div></div></div></div></div></div><div class=\"sk-parallel-item\"><div class=\"sk-item\"><div class=\"sk-label-container\"><div class=\"sk-label sk-toggleable\"><input class=\"sk-toggleable__control sk-hidden--visually\" id=\"sk-estimator-id-20\" type=\"checkbox\" ><label for=\"sk-estimator-id-20\" class=\"sk-toggleable__label sk-toggleable__label-arrow\">remainder</label><div class=\"sk-toggleable__content\"><pre>[&#x27;SEC_CODE&#x27;, &#x27;VOLUME&#x27;, &#x27;TRADE_QTY&#x27;, &#x27;NO_OF_TRADES&#x27;, &#x27;BEST_ASK_PRICE&#x27;, &#x27;BEST_ASK_QTY&#x27;, &#x27;BEST_BID_PRICE&#x27;, &#x27;BEST_BID_QTY&#x27;, &#x27;YEAR&#x27;, &#x27;MONTH&#x27;, &#x27;DAY&#x27;]</pre></div></div></div><div class=\"sk-serial\"><div class=\"sk-item\"><div class=\"sk-estimator sk-toggleable\"><input class=\"sk-toggleable__control sk-hidden--visually\" id=\"sk-estimator-id-21\" type=\"checkbox\" ><label for=\"sk-estimator-id-21\" class=\"sk-toggleable__label sk-toggleable__label-arrow\">passthrough</label><div class=\"sk-toggleable__content\"><pre>passthrough</pre></div></div></div></div></div></div></div></div></div></div>"
      ],
      "text/plain": [
       "ColumnTransformer(remainder='passthrough',\n",
       "                  transformers=[('drop', 'drop', ['SYMBOL1']),\n",
       "                                ('onehotencoder', OneHotEncoder(), ['MARKET'])])"
      ]
     },
     "execution_count": 66,
     "metadata": {},
     "output_type": "execute_result"
    }
   ],
   "source": [
    "preprocessing.fit(X)"
   ]
  },
  {
   "cell_type": "code",
   "execution_count": 67,
   "id": "003cd58b",
   "metadata": {},
   "outputs": [
    {
     "data": {
      "text/plain": [
       "array(['onehotencoder__MARKET_1', 'onehotencoder__MARKET_2',\n",
       "       'remainder__SEC_CODE', 'remainder__TRADE_QTY', 'remainder__YEAR',\n",
       "       'remainder__MONTH', 'remainder__DAY'], dtype=object)"
      ]
     },
     "execution_count": 67,
     "metadata": {},
     "output_type": "execute_result"
    }
   ],
   "source": [
    "preprocessing.get_feature_names_out()[SFS.fit(MinMaxScaler().fit_transform(preprocessing.fit_transform(X)), y).get_support()]"
   ]
  },
  {
   "cell_type": "code",
   "execution_count": 68,
   "id": "d453f886",
   "metadata": {},
   "outputs": [
    {
     "data": {
      "text/plain": [
       "array(['onehotencoder__MARKET_0', 'onehotencoder__MARKET_1',\n",
       "       'onehotencoder__MARKET_2', 'remainder__SEC_CODE',\n",
       "       'remainder__VOLUME', 'remainder__TRADE_QTY',\n",
       "       'remainder__NO_OF_TRADES', 'remainder__BEST_ASK_PRICE',\n",
       "       'remainder__BEST_ASK_QTY', 'remainder__BEST_BID_PRICE',\n",
       "       'remainder__BEST_BID_QTY', 'remainder__MONTH', 'remainder__DAY'],\n",
       "      dtype=object)"
      ]
     },
     "execution_count": 68,
     "metadata": {},
     "output_type": "execute_result"
    }
   ],
   "source": [
    "preprocessing.get_feature_names_out()[SKB.fit(MinMaxScaler().fit_transform(preprocessing.fit_transform(X)), y).get_support()]"
   ]
  },
  {
   "cell_type": "code",
   "execution_count": 69,
   "id": "483943e9",
   "metadata": {},
   "outputs": [
    {
     "data": {
      "text/plain": [
       "array(['onehotencoder__MARKET_0', 'onehotencoder__MARKET_1',\n",
       "       'onehotencoder__MARKET_2', 'remainder__SEC_CODE',\n",
       "       'remainder__MONTH', 'remainder__DAY'], dtype=object)"
      ]
     },
     "execution_count": 69,
     "metadata": {},
     "output_type": "execute_result"
    }
   ],
   "source": [
    "preprocessing.get_feature_names_out()[VT.fit(MinMaxScaler().fit_transform(preprocessing.fit_transform(X)), y).get_support()]"
   ]
  },
  {
   "cell_type": "code",
   "execution_count": 70,
   "id": "15deffeb",
   "metadata": {},
   "outputs": [],
   "source": [
    "pipe_DT = Pipeline([('preprocessing',preprocessing),('scaling', MinMaxScaler()),('featureSelector',SFS),('regressor',ml_DT)])"
   ]
  },
  {
   "cell_type": "code",
   "execution_count": 71,
   "id": "4329be35",
   "metadata": {},
   "outputs": [
    {
     "data": {
      "text/plain": [
       "{'preprocessing': ColumnTransformer(remainder='passthrough',\n",
       "                   transformers=[('drop', 'drop', ['SYMBOL1']),\n",
       "                                 ('onehotencoder', OneHotEncoder(), ['MARKET'])]),\n",
       " 'scaling': MinMaxScaler(),\n",
       " 'featureSelector': SequentialFeatureSelector(estimator=DecisionTreeRegressor(random_state=0),\n",
       "                           n_features_to_select='auto', scoring='r2'),\n",
       " 'regressor': DecisionTreeRegressor(random_state=0)}"
      ]
     },
     "execution_count": 71,
     "metadata": {},
     "output_type": "execute_result"
    }
   ],
   "source": [
    "pipe_DT.named_steps"
   ]
  },
  {
   "cell_type": "code",
   "execution_count": 72,
   "id": "c7319f06",
   "metadata": {},
   "outputs": [],
   "source": [
    "grid_DT = GridSearchCV(pipe_DT, params, cv=10, scoring=['r2', 'neg_mean_absolute_error','neg_mean_squared_error','neg_root_mean_squared_error'], refit=False, n_jobs=-1)"
   ]
  },
  {
   "cell_type": "code",
   "execution_count": 73,
   "id": "9fcd50ce",
   "metadata": {},
   "outputs": [],
   "source": [
    "grid_DT.fit(X,y);"
   ]
  },
  {
   "cell_type": "code",
   "execution_count": 74,
   "id": "270b0914",
   "metadata": {},
   "outputs": [],
   "source": [
    "DT_df = pd.DataFrame(grid_DT.cv_results_)"
   ]
  },
  {
   "cell_type": "code",
   "execution_count": 75,
   "id": "973482b3",
   "metadata": {},
   "outputs": [
    {
     "data": {
      "text/html": [
       "<div>\n",
       "<style scoped>\n",
       "    .dataframe tbody tr th:only-of-type {\n",
       "        vertical-align: middle;\n",
       "    }\n",
       "\n",
       "    .dataframe tbody tr th {\n",
       "        vertical-align: top;\n",
       "    }\n",
       "\n",
       "    .dataframe thead th {\n",
       "        text-align: right;\n",
       "    }\n",
       "</style>\n",
       "<table border=\"1\" class=\"dataframe\">\n",
       "  <thead>\n",
       "    <tr style=\"text-align: right;\">\n",
       "      <th></th>\n",
       "      <th>param_featureSelector</th>\n",
       "      <th>mean_test_r2</th>\n",
       "      <th>mean_test_neg_mean_absolute_error</th>\n",
       "      <th>mean_test_neg_mean_squared_error</th>\n",
       "      <th>mean_test_neg_root_mean_squared_error</th>\n",
       "    </tr>\n",
       "  </thead>\n",
       "  <tbody>\n",
       "    <tr>\n",
       "      <th>0</th>\n",
       "      <td>SequentialFeatureSelector(estimator=DecisionTr...</td>\n",
       "      <td>0.982094</td>\n",
       "      <td>-0.082666</td>\n",
       "      <td>-0.349982</td>\n",
       "      <td>-0.407309</td>\n",
       "    </tr>\n",
       "    <tr>\n",
       "      <th>1</th>\n",
       "      <td>SelectKBest(k=13, score_func=&lt;function f_regre...</td>\n",
       "      <td>0.976311</td>\n",
       "      <td>-0.168692</td>\n",
       "      <td>-0.473530</td>\n",
       "      <td>-0.591571</td>\n",
       "    </tr>\n",
       "    <tr>\n",
       "      <th>2</th>\n",
       "      <td>VarianceThreshold(threshold=0.005)</td>\n",
       "      <td>0.982294</td>\n",
       "      <td>-0.077673</td>\n",
       "      <td>-0.344861</td>\n",
       "      <td>-0.398971</td>\n",
       "    </tr>\n",
       "  </tbody>\n",
       "</table>\n",
       "</div>"
      ],
      "text/plain": [
       "                               param_featureSelector  mean_test_r2  \\\n",
       "0  SequentialFeatureSelector(estimator=DecisionTr...      0.982094   \n",
       "1  SelectKBest(k=13, score_func=<function f_regre...      0.976311   \n",
       "2                 VarianceThreshold(threshold=0.005)      0.982294   \n",
       "\n",
       "   mean_test_neg_mean_absolute_error  mean_test_neg_mean_squared_error  \\\n",
       "0                          -0.082666                         -0.349982   \n",
       "1                          -0.168692                         -0.473530   \n",
       "2                          -0.077673                         -0.344861   \n",
       "\n",
       "   mean_test_neg_root_mean_squared_error  \n",
       "0                              -0.407309  \n",
       "1                              -0.591571  \n",
       "2                              -0.398971  "
      ]
     },
     "execution_count": 75,
     "metadata": {},
     "output_type": "execute_result"
    }
   ],
   "source": [
    "DT_df[['param_featureSelector', 'mean_test_r2', 'mean_test_neg_mean_absolute_error', 'mean_test_neg_mean_squared_error','mean_test_neg_root_mean_squared_error']]"
   ]
  },
  {
   "cell_type": "markdown",
   "id": "b723a9af",
   "metadata": {},
   "source": [
    "# Visualisation"
   ]
  },
  {
   "cell_type": "code",
   "execution_count": 76,
   "id": "ea1fa5d6",
   "metadata": {},
   "outputs": [
    {
     "name": "stderr",
     "output_type": "stream",
     "text": [
      "C:\\Users\\Housam\\anaconda3\\lib\\site-packages\\pandas\\core\\indexing.py:1667: SettingWithCopyWarning: \n",
      "A value is trying to be set on a copy of a slice from a DataFrame.\n",
      "Try using .loc[row_indexer,col_indexer] = value instead\n",
      "\n",
      "See the caveats in the documentation: https://pandas.pydata.org/pandas-docs/stable/user_guide/indexing.html#returning-a-view-versus-a-copy\n",
      "  self.obj[key] = value\n"
     ]
    }
   ],
   "source": [
    "LR_vis = LR_df[['param_featureSelector', 'mean_test_r2', 'mean_test_neg_mean_absolute_error', 'mean_test_neg_mean_squared_error','mean_test_neg_root_mean_squared_error']]\n",
    "LR_vis.loc[:, 'model'] = 'LR'\n",
    "LR_vis.loc[:, 'FS'] = ['SFS', 'SKB', 'VT']\n",
    "\n",
    "KNN_vis = KNN_df[['param_featureSelector', 'mean_test_r2', 'mean_test_neg_mean_absolute_error', 'mean_test_neg_mean_squared_error','mean_test_neg_root_mean_squared_error']]\n",
    "KNN_vis.loc[:, 'model'] = 'KNN'\n",
    "KNN_vis.loc[:, 'FS'] = ['SFS', 'SKB', 'VT']\n",
    "\n",
    "DT_vis = DT_df[['param_featureSelector', 'mean_test_r2', 'mean_test_neg_mean_absolute_error', 'mean_test_neg_mean_squared_error','mean_test_neg_root_mean_squared_error']]\n",
    "DT_vis.loc[:, 'model'] = 'DT'\n",
    "DT_vis.loc[:, 'FS'] = ['SFS', 'SKB', 'VT']\n",
    "\n",
    "vis_df = pd.concat([LR_vis, KNN_vis, DT_vis])"
   ]
  },
  {
   "cell_type": "code",
   "execution_count": 77,
   "id": "7f62e22b",
   "metadata": {
    "scrolled": false
   },
   "outputs": [
    {
     "data": {
      "text/html": [
       "<div>\n",
       "<style scoped>\n",
       "    .dataframe tbody tr th:only-of-type {\n",
       "        vertical-align: middle;\n",
       "    }\n",
       "\n",
       "    .dataframe tbody tr th {\n",
       "        vertical-align: top;\n",
       "    }\n",
       "\n",
       "    .dataframe thead th {\n",
       "        text-align: right;\n",
       "    }\n",
       "</style>\n",
       "<table border=\"1\" class=\"dataframe\">\n",
       "  <thead>\n",
       "    <tr style=\"text-align: right;\">\n",
       "      <th></th>\n",
       "      <th>param_featureSelector</th>\n",
       "      <th>mean_test_r2</th>\n",
       "      <th>mean_test_neg_mean_absolute_error</th>\n",
       "      <th>mean_test_neg_mean_squared_error</th>\n",
       "      <th>mean_test_neg_root_mean_squared_error</th>\n",
       "      <th>model</th>\n",
       "      <th>FS</th>\n",
       "    </tr>\n",
       "  </thead>\n",
       "  <tbody>\n",
       "    <tr>\n",
       "      <th>0</th>\n",
       "      <td>SequentialFeatureSelector(estimator=LinearRegr...</td>\n",
       "      <td>0.288884</td>\n",
       "      <td>-1.537011</td>\n",
       "      <td>-15.490128</td>\n",
       "      <td>-3.933598</td>\n",
       "      <td>LR</td>\n",
       "      <td>SFS</td>\n",
       "    </tr>\n",
       "    <tr>\n",
       "      <th>1</th>\n",
       "      <td>SelectKBest(k=13, score_func=&lt;function f_regre...</td>\n",
       "      <td>0.293063</td>\n",
       "      <td>-1.583421</td>\n",
       "      <td>-15.399740</td>\n",
       "      <td>-3.922073</td>\n",
       "      <td>LR</td>\n",
       "      <td>SKB</td>\n",
       "    </tr>\n",
       "    <tr>\n",
       "      <th>2</th>\n",
       "      <td>VarianceThreshold(threshold=0.005)</td>\n",
       "      <td>0.197721</td>\n",
       "      <td>-1.653305</td>\n",
       "      <td>-17.481865</td>\n",
       "      <td>-4.178551</td>\n",
       "      <td>LR</td>\n",
       "      <td>VT</td>\n",
       "    </tr>\n",
       "    <tr>\n",
       "      <th>0</th>\n",
       "      <td>SequentialFeatureSelector(estimator=KNeighbors...</td>\n",
       "      <td>0.900869</td>\n",
       "      <td>-0.364038</td>\n",
       "      <td>-2.104982</td>\n",
       "      <td>-1.396173</td>\n",
       "      <td>KNN</td>\n",
       "      <td>SFS</td>\n",
       "    </tr>\n",
       "    <tr>\n",
       "      <th>1</th>\n",
       "      <td>SelectKBest(k=11, score_func=&lt;function f_regre...</td>\n",
       "      <td>0.893878</td>\n",
       "      <td>-0.395421</td>\n",
       "      <td>-2.303940</td>\n",
       "      <td>-1.502660</td>\n",
       "      <td>KNN</td>\n",
       "      <td>SKB</td>\n",
       "    </tr>\n",
       "    <tr>\n",
       "      <th>2</th>\n",
       "      <td>VarianceThreshold(threshold=0.005)</td>\n",
       "      <td>0.442297</td>\n",
       "      <td>-1.001281</td>\n",
       "      <td>-12.127617</td>\n",
       "      <td>-3.477429</td>\n",
       "      <td>KNN</td>\n",
       "      <td>VT</td>\n",
       "    </tr>\n",
       "    <tr>\n",
       "      <th>0</th>\n",
       "      <td>SequentialFeatureSelector(estimator=DecisionTr...</td>\n",
       "      <td>0.982094</td>\n",
       "      <td>-0.082666</td>\n",
       "      <td>-0.349982</td>\n",
       "      <td>-0.407309</td>\n",
       "      <td>DT</td>\n",
       "      <td>SFS</td>\n",
       "    </tr>\n",
       "    <tr>\n",
       "      <th>1</th>\n",
       "      <td>SelectKBest(k=13, score_func=&lt;function f_regre...</td>\n",
       "      <td>0.976311</td>\n",
       "      <td>-0.168692</td>\n",
       "      <td>-0.473530</td>\n",
       "      <td>-0.591571</td>\n",
       "      <td>DT</td>\n",
       "      <td>SKB</td>\n",
       "    </tr>\n",
       "    <tr>\n",
       "      <th>2</th>\n",
       "      <td>VarianceThreshold(threshold=0.005)</td>\n",
       "      <td>0.982294</td>\n",
       "      <td>-0.077673</td>\n",
       "      <td>-0.344861</td>\n",
       "      <td>-0.398971</td>\n",
       "      <td>DT</td>\n",
       "      <td>VT</td>\n",
       "    </tr>\n",
       "  </tbody>\n",
       "</table>\n",
       "</div>"
      ],
      "text/plain": [
       "                               param_featureSelector  mean_test_r2  \\\n",
       "0  SequentialFeatureSelector(estimator=LinearRegr...      0.288884   \n",
       "1  SelectKBest(k=13, score_func=<function f_regre...      0.293063   \n",
       "2                 VarianceThreshold(threshold=0.005)      0.197721   \n",
       "0  SequentialFeatureSelector(estimator=KNeighbors...      0.900869   \n",
       "1  SelectKBest(k=11, score_func=<function f_regre...      0.893878   \n",
       "2                 VarianceThreshold(threshold=0.005)      0.442297   \n",
       "0  SequentialFeatureSelector(estimator=DecisionTr...      0.982094   \n",
       "1  SelectKBest(k=13, score_func=<function f_regre...      0.976311   \n",
       "2                 VarianceThreshold(threshold=0.005)      0.982294   \n",
       "\n",
       "   mean_test_neg_mean_absolute_error  mean_test_neg_mean_squared_error  \\\n",
       "0                          -1.537011                        -15.490128   \n",
       "1                          -1.583421                        -15.399740   \n",
       "2                          -1.653305                        -17.481865   \n",
       "0                          -0.364038                         -2.104982   \n",
       "1                          -0.395421                         -2.303940   \n",
       "2                          -1.001281                        -12.127617   \n",
       "0                          -0.082666                         -0.349982   \n",
       "1                          -0.168692                         -0.473530   \n",
       "2                          -0.077673                         -0.344861   \n",
       "\n",
       "   mean_test_neg_root_mean_squared_error model   FS  \n",
       "0                              -3.933598    LR  SFS  \n",
       "1                              -3.922073    LR  SKB  \n",
       "2                              -4.178551    LR   VT  \n",
       "0                              -1.396173   KNN  SFS  \n",
       "1                              -1.502660   KNN  SKB  \n",
       "2                              -3.477429   KNN   VT  \n",
       "0                              -0.407309    DT  SFS  \n",
       "1                              -0.591571    DT  SKB  \n",
       "2                              -0.398971    DT   VT  "
      ]
     },
     "execution_count": 77,
     "metadata": {},
     "output_type": "execute_result"
    }
   ],
   "source": [
    "vis_df"
   ]
  },
  {
   "cell_type": "code",
   "execution_count": 78,
   "id": "25b5c0cb",
   "metadata": {},
   "outputs": [],
   "source": [
    "vis_df[['mean_test_r2', 'mean_test_neg_mean_absolute_error', 'mean_test_neg_mean_squared_error','mean_test_neg_root_mean_squared_error']] = vis_df[['mean_test_r2', 'mean_test_neg_mean_absolute_error', 'mean_test_neg_mean_squared_error','mean_test_neg_root_mean_squared_error']].abs()"
   ]
  },
  {
   "cell_type": "code",
   "execution_count": 79,
   "id": "f912146d",
   "metadata": {},
   "outputs": [
    {
     "data": {
      "text/html": [
       "<div>\n",
       "<style scoped>\n",
       "    .dataframe tbody tr th:only-of-type {\n",
       "        vertical-align: middle;\n",
       "    }\n",
       "\n",
       "    .dataframe tbody tr th {\n",
       "        vertical-align: top;\n",
       "    }\n",
       "\n",
       "    .dataframe thead th {\n",
       "        text-align: right;\n",
       "    }\n",
       "</style>\n",
       "<table border=\"1\" class=\"dataframe\">\n",
       "  <thead>\n",
       "    <tr style=\"text-align: right;\">\n",
       "      <th></th>\n",
       "      <th>param_featureSelector</th>\n",
       "      <th>mean_test_r2</th>\n",
       "      <th>mean_test_neg_mean_absolute_error</th>\n",
       "      <th>mean_test_neg_mean_squared_error</th>\n",
       "      <th>mean_test_neg_root_mean_squared_error</th>\n",
       "      <th>model</th>\n",
       "      <th>FS</th>\n",
       "    </tr>\n",
       "  </thead>\n",
       "  <tbody>\n",
       "    <tr>\n",
       "      <th>0</th>\n",
       "      <td>SequentialFeatureSelector(estimator=LinearRegr...</td>\n",
       "      <td>0.288884</td>\n",
       "      <td>1.537011</td>\n",
       "      <td>15.490128</td>\n",
       "      <td>3.933598</td>\n",
       "      <td>LR</td>\n",
       "      <td>SFS</td>\n",
       "    </tr>\n",
       "    <tr>\n",
       "      <th>1</th>\n",
       "      <td>SelectKBest(k=13, score_func=&lt;function f_regre...</td>\n",
       "      <td>0.293063</td>\n",
       "      <td>1.583421</td>\n",
       "      <td>15.399740</td>\n",
       "      <td>3.922073</td>\n",
       "      <td>LR</td>\n",
       "      <td>SKB</td>\n",
       "    </tr>\n",
       "    <tr>\n",
       "      <th>2</th>\n",
       "      <td>VarianceThreshold(threshold=0.005)</td>\n",
       "      <td>0.197721</td>\n",
       "      <td>1.653305</td>\n",
       "      <td>17.481865</td>\n",
       "      <td>4.178551</td>\n",
       "      <td>LR</td>\n",
       "      <td>VT</td>\n",
       "    </tr>\n",
       "    <tr>\n",
       "      <th>0</th>\n",
       "      <td>SequentialFeatureSelector(estimator=KNeighbors...</td>\n",
       "      <td>0.900869</td>\n",
       "      <td>0.364038</td>\n",
       "      <td>2.104982</td>\n",
       "      <td>1.396173</td>\n",
       "      <td>KNN</td>\n",
       "      <td>SFS</td>\n",
       "    </tr>\n",
       "    <tr>\n",
       "      <th>1</th>\n",
       "      <td>SelectKBest(k=11, score_func=&lt;function f_regre...</td>\n",
       "      <td>0.893878</td>\n",
       "      <td>0.395421</td>\n",
       "      <td>2.303940</td>\n",
       "      <td>1.502660</td>\n",
       "      <td>KNN</td>\n",
       "      <td>SKB</td>\n",
       "    </tr>\n",
       "    <tr>\n",
       "      <th>2</th>\n",
       "      <td>VarianceThreshold(threshold=0.005)</td>\n",
       "      <td>0.442297</td>\n",
       "      <td>1.001281</td>\n",
       "      <td>12.127617</td>\n",
       "      <td>3.477429</td>\n",
       "      <td>KNN</td>\n",
       "      <td>VT</td>\n",
       "    </tr>\n",
       "    <tr>\n",
       "      <th>0</th>\n",
       "      <td>SequentialFeatureSelector(estimator=DecisionTr...</td>\n",
       "      <td>0.982094</td>\n",
       "      <td>0.082666</td>\n",
       "      <td>0.349982</td>\n",
       "      <td>0.407309</td>\n",
       "      <td>DT</td>\n",
       "      <td>SFS</td>\n",
       "    </tr>\n",
       "    <tr>\n",
       "      <th>1</th>\n",
       "      <td>SelectKBest(k=13, score_func=&lt;function f_regre...</td>\n",
       "      <td>0.976311</td>\n",
       "      <td>0.168692</td>\n",
       "      <td>0.473530</td>\n",
       "      <td>0.591571</td>\n",
       "      <td>DT</td>\n",
       "      <td>SKB</td>\n",
       "    </tr>\n",
       "    <tr>\n",
       "      <th>2</th>\n",
       "      <td>VarianceThreshold(threshold=0.005)</td>\n",
       "      <td>0.982294</td>\n",
       "      <td>0.077673</td>\n",
       "      <td>0.344861</td>\n",
       "      <td>0.398971</td>\n",
       "      <td>DT</td>\n",
       "      <td>VT</td>\n",
       "    </tr>\n",
       "  </tbody>\n",
       "</table>\n",
       "</div>"
      ],
      "text/plain": [
       "                               param_featureSelector  mean_test_r2  \\\n",
       "0  SequentialFeatureSelector(estimator=LinearRegr...      0.288884   \n",
       "1  SelectKBest(k=13, score_func=<function f_regre...      0.293063   \n",
       "2                 VarianceThreshold(threshold=0.005)      0.197721   \n",
       "0  SequentialFeatureSelector(estimator=KNeighbors...      0.900869   \n",
       "1  SelectKBest(k=11, score_func=<function f_regre...      0.893878   \n",
       "2                 VarianceThreshold(threshold=0.005)      0.442297   \n",
       "0  SequentialFeatureSelector(estimator=DecisionTr...      0.982094   \n",
       "1  SelectKBest(k=13, score_func=<function f_regre...      0.976311   \n",
       "2                 VarianceThreshold(threshold=0.005)      0.982294   \n",
       "\n",
       "   mean_test_neg_mean_absolute_error  mean_test_neg_mean_squared_error  \\\n",
       "0                           1.537011                         15.490128   \n",
       "1                           1.583421                         15.399740   \n",
       "2                           1.653305                         17.481865   \n",
       "0                           0.364038                          2.104982   \n",
       "1                           0.395421                          2.303940   \n",
       "2                           1.001281                         12.127617   \n",
       "0                           0.082666                          0.349982   \n",
       "1                           0.168692                          0.473530   \n",
       "2                           0.077673                          0.344861   \n",
       "\n",
       "   mean_test_neg_root_mean_squared_error model   FS  \n",
       "0                               3.933598    LR  SFS  \n",
       "1                               3.922073    LR  SKB  \n",
       "2                               4.178551    LR   VT  \n",
       "0                               1.396173   KNN  SFS  \n",
       "1                               1.502660   KNN  SKB  \n",
       "2                               3.477429   KNN   VT  \n",
       "0                               0.407309    DT  SFS  \n",
       "1                               0.591571    DT  SKB  \n",
       "2                               0.398971    DT   VT  "
      ]
     },
     "execution_count": 79,
     "metadata": {},
     "output_type": "execute_result"
    }
   ],
   "source": [
    "vis_df"
   ]
  },
  {
   "cell_type": "code",
   "execution_count": null,
   "id": "7f675c7f",
   "metadata": {},
   "outputs": [],
   "source": []
  },
  {
   "cell_type": "markdown",
   "id": "a1f17456",
   "metadata": {},
   "source": [
    "### Linear Regression\n",
    " SequentialFeatureSelector(ml_LR, n_features_to_select='auto', scoring='r2')<br>\n",
    "SelectKBest(f_regression, k=13)<br>\n",
    "VarianceThreshold(threshold=0.005)\n",
    "\n",
    "### KNN\n",
    "SequentialFeatureSelector(ml_KNN, n_features_to_select='auto', scoring='r2')<br>\n",
    "SelectKBest(f_regression, k=11)<br>\n",
    "VarianceThreshold(threshold=0.005)\n",
    "\n",
    "### Decision Tree\n",
    "SequentialFeatureSelector(ml_DT, n_features_to_select='auto', scoring='r2')<br>\n",
    "SelectKBest(f_regression, k=13)<br>\n",
    "VarianceThreshold(threshold=0.005)"
   ]
  },
  {
   "cell_type": "markdown",
   "id": "528e0f8e",
   "metadata": {},
   "source": [
    "## R2"
   ]
  },
  {
   "cell_type": "code",
   "execution_count": 80,
   "id": "a7202bfd",
   "metadata": {},
   "outputs": [
    {
     "data": {
      "text/html": [
       "<div>\n",
       "<style scoped>\n",
       "    .dataframe tbody tr th:only-of-type {\n",
       "        vertical-align: middle;\n",
       "    }\n",
       "\n",
       "    .dataframe tbody tr th {\n",
       "        vertical-align: top;\n",
       "    }\n",
       "\n",
       "    .dataframe thead th {\n",
       "        text-align: right;\n",
       "    }\n",
       "</style>\n",
       "<table border=\"1\" class=\"dataframe\">\n",
       "  <thead>\n",
       "    <tr style=\"text-align: right;\">\n",
       "      <th></th>\n",
       "      <th>model</th>\n",
       "      <th>FS</th>\n",
       "      <th>mean_test_r2</th>\n",
       "    </tr>\n",
       "  </thead>\n",
       "  <tbody>\n",
       "    <tr>\n",
       "      <th>0</th>\n",
       "      <td>LR</td>\n",
       "      <td>SFS</td>\n",
       "      <td>0.288884</td>\n",
       "    </tr>\n",
       "    <tr>\n",
       "      <th>1</th>\n",
       "      <td>LR</td>\n",
       "      <td>SKB</td>\n",
       "      <td>0.293063</td>\n",
       "    </tr>\n",
       "    <tr>\n",
       "      <th>2</th>\n",
       "      <td>LR</td>\n",
       "      <td>VT</td>\n",
       "      <td>0.197721</td>\n",
       "    </tr>\n",
       "    <tr>\n",
       "      <th>0</th>\n",
       "      <td>KNN</td>\n",
       "      <td>SFS</td>\n",
       "      <td>0.900869</td>\n",
       "    </tr>\n",
       "    <tr>\n",
       "      <th>1</th>\n",
       "      <td>KNN</td>\n",
       "      <td>SKB</td>\n",
       "      <td>0.893878</td>\n",
       "    </tr>\n",
       "    <tr>\n",
       "      <th>2</th>\n",
       "      <td>KNN</td>\n",
       "      <td>VT</td>\n",
       "      <td>0.442297</td>\n",
       "    </tr>\n",
       "    <tr>\n",
       "      <th>0</th>\n",
       "      <td>DT</td>\n",
       "      <td>SFS</td>\n",
       "      <td>0.982094</td>\n",
       "    </tr>\n",
       "    <tr>\n",
       "      <th>1</th>\n",
       "      <td>DT</td>\n",
       "      <td>SKB</td>\n",
       "      <td>0.976311</td>\n",
       "    </tr>\n",
       "    <tr>\n",
       "      <th>2</th>\n",
       "      <td>DT</td>\n",
       "      <td>VT</td>\n",
       "      <td>0.982294</td>\n",
       "    </tr>\n",
       "  </tbody>\n",
       "</table>\n",
       "</div>"
      ],
      "text/plain": [
       "  model   FS  mean_test_r2\n",
       "0    LR  SFS      0.288884\n",
       "1    LR  SKB      0.293063\n",
       "2    LR   VT      0.197721\n",
       "0   KNN  SFS      0.900869\n",
       "1   KNN  SKB      0.893878\n",
       "2   KNN   VT      0.442297\n",
       "0    DT  SFS      0.982094\n",
       "1    DT  SKB      0.976311\n",
       "2    DT   VT      0.982294"
      ]
     },
     "execution_count": 80,
     "metadata": {},
     "output_type": "execute_result"
    }
   ],
   "source": [
    "vis_df[['model','FS','mean_test_r2']]"
   ]
  },
  {
   "cell_type": "code",
   "execution_count": 81,
   "id": "c65412fb",
   "metadata": {},
   "outputs": [
    {
     "data": {
      "image/png": "[encoded data removed]",
      "text/plain": [
       "<Figure size 1080x720 with 1 Axes>"
      ]
     },
     "metadata": {
      "needs_background": "light"
     },
     "output_type": "display_data"
    }
   ],
   "source": [
    "plt.figure(figsize=(15,10))\n",
    "sns.barplot(data=vis_df, x='model', y='mean_test_r2', hue='FS')\n",
    "plt.title('R2')\n",
    "plt.ylabel('');"
   ]
  },
  {
   "cell_type": "markdown",
   "id": "7812f035",
   "metadata": {},
   "source": [
    "## MAE"
   ]
  },
  {
   "cell_type": "code",
   "execution_count": 82,
   "id": "ef360dcc",
   "metadata": {},
   "outputs": [
    {
     "data": {
      "text/html": [
       "<div>\n",
       "<style scoped>\n",
       "    .dataframe tbody tr th:only-of-type {\n",
       "        vertical-align: middle;\n",
       "    }\n",
       "\n",
       "    .dataframe tbody tr th {\n",
       "        vertical-align: top;\n",
       "    }\n",
       "\n",
       "    .dataframe thead th {\n",
       "        text-align: right;\n",
       "    }\n",
       "</style>\n",
       "<table border=\"1\" class=\"dataframe\">\n",
       "  <thead>\n",
       "    <tr style=\"text-align: right;\">\n",
       "      <th></th>\n",
       "      <th>model</th>\n",
       "      <th>FS</th>\n",
       "      <th>mean_test_neg_mean_absolute_error</th>\n",
       "    </tr>\n",
       "  </thead>\n",
       "  <tbody>\n",
       "    <tr>\n",
       "      <th>0</th>\n",
       "      <td>LR</td>\n",
       "      <td>SFS</td>\n",
       "      <td>1.537011</td>\n",
       "    </tr>\n",
       "    <tr>\n",
       "      <th>1</th>\n",
       "      <td>LR</td>\n",
       "      <td>SKB</td>\n",
       "      <td>1.583421</td>\n",
       "    </tr>\n",
       "    <tr>\n",
       "      <th>2</th>\n",
       "      <td>LR</td>\n",
       "      <td>VT</td>\n",
       "      <td>1.653305</td>\n",
       "    </tr>\n",
       "    <tr>\n",
       "      <th>0</th>\n",
       "      <td>KNN</td>\n",
       "      <td>SFS</td>\n",
       "      <td>0.364038</td>\n",
       "    </tr>\n",
       "    <tr>\n",
       "      <th>1</th>\n",
       "      <td>KNN</td>\n",
       "      <td>SKB</td>\n",
       "      <td>0.395421</td>\n",
       "    </tr>\n",
       "    <tr>\n",
       "      <th>2</th>\n",
       "      <td>KNN</td>\n",
       "      <td>VT</td>\n",
       "      <td>1.001281</td>\n",
       "    </tr>\n",
       "    <tr>\n",
       "      <th>0</th>\n",
       "      <td>DT</td>\n",
       "      <td>SFS</td>\n",
       "      <td>0.082666</td>\n",
       "    </tr>\n",
       "    <tr>\n",
       "      <th>1</th>\n",
       "      <td>DT</td>\n",
       "      <td>SKB</td>\n",
       "      <td>0.168692</td>\n",
       "    </tr>\n",
       "    <tr>\n",
       "      <th>2</th>\n",
       "      <td>DT</td>\n",
       "      <td>VT</td>\n",
       "      <td>0.077673</td>\n",
       "    </tr>\n",
       "  </tbody>\n",
       "</table>\n",
       "</div>"
      ],
      "text/plain": [
       "  model   FS  mean_test_neg_mean_absolute_error\n",
       "0    LR  SFS                           1.537011\n",
       "1    LR  SKB                           1.583421\n",
       "2    LR   VT                           1.653305\n",
       "0   KNN  SFS                           0.364038\n",
       "1   KNN  SKB                           0.395421\n",
       "2   KNN   VT                           1.001281\n",
       "0    DT  SFS                           0.082666\n",
       "1    DT  SKB                           0.168692\n",
       "2    DT   VT                           0.077673"
      ]
     },
     "execution_count": 82,
     "metadata": {},
     "output_type": "execute_result"
    }
   ],
   "source": [
    "vis_df[['model','FS','mean_test_neg_mean_absolute_error']]"
   ]
  },
  {
   "cell_type": "code",
   "execution_count": 83,
   "id": "1352a6d8",
   "metadata": {},
   "outputs": [
    {
     "data": {
      "image/png": "[encoded data removed]",
      "text/plain": [
       "<Figure size 1080x720 with 1 Axes>"
      ]
     },
     "metadata": {
      "needs_background": "light"
     },
     "output_type": "display_data"
    }
   ],
   "source": [
    "plt.figure(figsize=(15,10))\n",
    "sns.barplot(data=vis_df, x='model', y='mean_test_neg_mean_absolute_error', hue='FS')\n",
    "plt.title('MAE')\n",
    "plt.ylabel('');"
   ]
  },
  {
   "cell_type": "markdown",
   "id": "11b2b936",
   "metadata": {},
   "source": [
    "## MSE"
   ]
  },
  {
   "cell_type": "code",
   "execution_count": 84,
   "id": "130db11d",
   "metadata": {},
   "outputs": [
    {
     "data": {
      "text/html": [
       "<div>\n",
       "<style scoped>\n",
       "    .dataframe tbody tr th:only-of-type {\n",
       "        vertical-align: middle;\n",
       "    }\n",
       "\n",
       "    .dataframe tbody tr th {\n",
       "        vertical-align: top;\n",
       "    }\n",
       "\n",
       "    .dataframe thead th {\n",
       "        text-align: right;\n",
       "    }\n",
       "</style>\n",
       "<table border=\"1\" class=\"dataframe\">\n",
       "  <thead>\n",
       "    <tr style=\"text-align: right;\">\n",
       "      <th></th>\n",
       "      <th>model</th>\n",
       "      <th>FS</th>\n",
       "      <th>mean_test_neg_mean_squared_error</th>\n",
       "    </tr>\n",
       "  </thead>\n",
       "  <tbody>\n",
       "    <tr>\n",
       "      <th>0</th>\n",
       "      <td>LR</td>\n",
       "      <td>SFS</td>\n",
       "      <td>15.490128</td>\n",
       "    </tr>\n",
       "    <tr>\n",
       "      <th>1</th>\n",
       "      <td>LR</td>\n",
       "      <td>SKB</td>\n",
       "      <td>15.399740</td>\n",
       "    </tr>\n",
       "    <tr>\n",
       "      <th>2</th>\n",
       "      <td>LR</td>\n",
       "      <td>VT</td>\n",
       "      <td>17.481865</td>\n",
       "    </tr>\n",
       "    <tr>\n",
       "      <th>0</th>\n",
       "      <td>KNN</td>\n",
       "      <td>SFS</td>\n",
       "      <td>2.104982</td>\n",
       "    </tr>\n",
       "    <tr>\n",
       "      <th>1</th>\n",
       "      <td>KNN</td>\n",
       "      <td>SKB</td>\n",
       "      <td>2.303940</td>\n",
       "    </tr>\n",
       "    <tr>\n",
       "      <th>2</th>\n",
       "      <td>KNN</td>\n",
       "      <td>VT</td>\n",
       "      <td>12.127617</td>\n",
       "    </tr>\n",
       "    <tr>\n",
       "      <th>0</th>\n",
       "      <td>DT</td>\n",
       "      <td>SFS</td>\n",
       "      <td>0.349982</td>\n",
       "    </tr>\n",
       "    <tr>\n",
       "      <th>1</th>\n",
       "      <td>DT</td>\n",
       "      <td>SKB</td>\n",
       "      <td>0.473530</td>\n",
       "    </tr>\n",
       "    <tr>\n",
       "      <th>2</th>\n",
       "      <td>DT</td>\n",
       "      <td>VT</td>\n",
       "      <td>0.344861</td>\n",
       "    </tr>\n",
       "  </tbody>\n",
       "</table>\n",
       "</div>"
      ],
      "text/plain": [
       "  model   FS  mean_test_neg_mean_squared_error\n",
       "0    LR  SFS                         15.490128\n",
       "1    LR  SKB                         15.399740\n",
       "2    LR   VT                         17.481865\n",
       "0   KNN  SFS                          2.104982\n",
       "1   KNN  SKB                          2.303940\n",
       "2   KNN   VT                         12.127617\n",
       "0    DT  SFS                          0.349982\n",
       "1    DT  SKB                          0.473530\n",
       "2    DT   VT                          0.344861"
      ]
     },
     "execution_count": 84,
     "metadata": {},
     "output_type": "execute_result"
    }
   ],
   "source": [
    "vis_df[['model','FS','mean_test_neg_mean_squared_error']]"
   ]
  },
  {
   "cell_type": "code",
   "execution_count": 85,
   "id": "de461227",
   "metadata": {},
   "outputs": [
    {
     "data": {
      "image/png": "[encoded data removed]",
      "text/plain": [
       "<Figure size 1080x720 with 1 Axes>"
      ]
     },
     "metadata": {
      "needs_background": "light"
     },
     "output_type": "display_data"
    }
   ],
   "source": [
    "plt.figure(figsize=(15,10))\n",
    "sns.barplot(data=vis_df, x='model', y='mean_test_neg_mean_squared_error', hue='FS')\n",
    "plt.title('MSE')\n",
    "plt.ylabel('');"
   ]
  },
  {
   "cell_type": "markdown",
   "id": "7239d5e4",
   "metadata": {},
   "source": [
    "## RMSE"
   ]
  },
  {
   "cell_type": "code",
   "execution_count": 86,
   "id": "a843e5f3",
   "metadata": {},
   "outputs": [
    {
     "data": {
      "text/html": [
       "<div>\n",
       "<style scoped>\n",
       "    .dataframe tbody tr th:only-of-type {\n",
       "        vertical-align: middle;\n",
       "    }\n",
       "\n",
       "    .dataframe tbody tr th {\n",
       "        vertical-align: top;\n",
       "    }\n",
       "\n",
       "    .dataframe thead th {\n",
       "        text-align: right;\n",
       "    }\n",
       "</style>\n",
       "<table border=\"1\" class=\"dataframe\">\n",
       "  <thead>\n",
       "    <tr style=\"text-align: right;\">\n",
       "      <th></th>\n",
       "      <th>model</th>\n",
       "      <th>FS</th>\n",
       "      <th>mean_test_neg_root_mean_squared_error</th>\n",
       "    </tr>\n",
       "  </thead>\n",
       "  <tbody>\n",
       "    <tr>\n",
       "      <th>0</th>\n",
       "      <td>LR</td>\n",
       "      <td>SFS</td>\n",
       "      <td>3.933598</td>\n",
       "    </tr>\n",
       "    <tr>\n",
       "      <th>1</th>\n",
       "      <td>LR</td>\n",
       "      <td>SKB</td>\n",
       "      <td>3.922073</td>\n",
       "    </tr>\n",
       "    <tr>\n",
       "      <th>2</th>\n",
       "      <td>LR</td>\n",
       "      <td>VT</td>\n",
       "      <td>4.178551</td>\n",
       "    </tr>\n",
       "    <tr>\n",
       "      <th>0</th>\n",
       "      <td>KNN</td>\n",
       "      <td>SFS</td>\n",
       "      <td>1.396173</td>\n",
       "    </tr>\n",
       "    <tr>\n",
       "      <th>1</th>\n",
       "      <td>KNN</td>\n",
       "      <td>SKB</td>\n",
       "      <td>1.502660</td>\n",
       "    </tr>\n",
       "    <tr>\n",
       "      <th>2</th>\n",
       "      <td>KNN</td>\n",
       "      <td>VT</td>\n",
       "      <td>3.477429</td>\n",
       "    </tr>\n",
       "    <tr>\n",
       "      <th>0</th>\n",
       "      <td>DT</td>\n",
       "      <td>SFS</td>\n",
       "      <td>0.407309</td>\n",
       "    </tr>\n",
       "    <tr>\n",
       "      <th>1</th>\n",
       "      <td>DT</td>\n",
       "      <td>SKB</td>\n",
       "      <td>0.591571</td>\n",
       "    </tr>\n",
       "    <tr>\n",
       "      <th>2</th>\n",
       "      <td>DT</td>\n",
       "      <td>VT</td>\n",
       "      <td>0.398971</td>\n",
       "    </tr>\n",
       "  </tbody>\n",
       "</table>\n",
       "</div>"
      ],
      "text/plain": [
       "  model   FS  mean_test_neg_root_mean_squared_error\n",
       "0    LR  SFS                               3.933598\n",
       "1    LR  SKB                               3.922073\n",
       "2    LR   VT                               4.178551\n",
       "0   KNN  SFS                               1.396173\n",
       "1   KNN  SKB                               1.502660\n",
       "2   KNN   VT                               3.477429\n",
       "0    DT  SFS                               0.407309\n",
       "1    DT  SKB                               0.591571\n",
       "2    DT   VT                               0.398971"
      ]
     },
     "execution_count": 86,
     "metadata": {},
     "output_type": "execute_result"
    }
   ],
   "source": [
    "vis_df[['model','FS','mean_test_neg_root_mean_squared_error']]"
   ]
  },
  {
   "cell_type": "code",
   "execution_count": 87,
   "id": "4f17717e",
   "metadata": {
    "scrolled": false
   },
   "outputs": [
    {
     "data": {
      "image/png": "[encoded data removed]",
      "text/plain": [
       "<Figure size 1080x720 with 1 Axes>"
      ]
     },
     "metadata": {
      "needs_background": "light"
     },
     "output_type": "display_data"
    }
   ],
   "source": [
    "plt.figure(figsize=(15,10))\n",
    "sns.barplot(data=vis_df, x='model', y='mean_test_neg_root_mean_squared_error', hue='FS')\n",
    "plt.title('RMSE')\n",
    "plt.ylabel('');"
   ]
  },
  {
   "cell_type": "code",
   "execution_count": null,
   "id": "ab76014b",
   "metadata": {},
   "outputs": [],
   "source": []
  },
  {
   "cell_type": "code",
   "execution_count": null,
   "id": "f8060756",
   "metadata": {},
   "outputs": [],
   "source": []
  },
  {
   "cell_type": "code",
   "execution_count": null,
   "id": "79e0dbbf",
   "metadata": {},
   "outputs": [],
   "source": []
  },
  {
   "cell_type": "code",
   "execution_count": null,
   "id": "bbfb0738",
   "metadata": {},
   "outputs": [],
   "source": []
  },
  {
   "cell_type": "markdown",
   "id": "2c69d583",
   "metadata": {},
   "source": [
    "# LOW LABEL"
   ]
  },
  {
   "cell_type": "code",
   "execution_count": 88,
   "id": "d22e86e9",
   "metadata": {},
   "outputs": [],
   "source": [
    "X = df_low.drop(['LOW'], axis=1)\n",
    "y = df_low.LOW"
   ]
  },
  {
   "cell_type": "code",
   "execution_count": 89,
   "id": "170b5681",
   "metadata": {},
   "outputs": [],
   "source": [
    "from sklearn.compose import make_column_transformer, make_column_selector\n",
    "from sklearn.preprocessing import OneHotEncoder, MinMaxScaler\n",
    "\n",
    "preprocessing = make_column_transformer(\n",
    "    ('drop', ['SYMBOL1']),\n",
    "    (OneHotEncoder(), ['MARKET']),\n",
    "    remainder='passthrough')\n",
    "\n"
   ]
  },
  {
   "cell_type": "markdown",
   "id": "242d0a0c",
   "metadata": {},
   "source": [
    "# Linear regression"
   ]
  },
  {
   "cell_type": "code",
   "execution_count": 90,
   "id": "ced55cc4",
   "metadata": {},
   "outputs": [],
   "source": [
    "from sklearn.linear_model import LinearRegression"
   ]
  },
  {
   "cell_type": "code",
   "execution_count": 91,
   "id": "1194c72f",
   "metadata": {},
   "outputs": [],
   "source": [
    "ml_LR = LinearRegression()"
   ]
  },
  {
   "cell_type": "code",
   "execution_count": 92,
   "id": "21eb9bc4",
   "metadata": {},
   "outputs": [],
   "source": [
    "SFS = SequentialFeatureSelector(ml_LR, n_features_to_select='auto', scoring='r2')\n",
    "params_SFS={\n",
    "    'featureSelector':[SFS]\n",
    "}\n",
    "\n",
    "\n",
    "SKB = SelectKBest(f_regression, k=13)\n",
    "params_SKB={\n",
    "    'featureSelector':[SKB]\n",
    "}\n",
    "\n",
    "VT = VarianceThreshold(threshold=0.005)\n",
    "params_VT = {\n",
    "    'featureSelector':[VT],\n",
    "}\n",
    "\n",
    "params=[params_SFS,params_SKB,params_VT]"
   ]
  },
  {
   "cell_type": "code",
   "execution_count": 93,
   "id": "45ffcf80",
   "metadata": {},
   "outputs": [
    {
     "data": {
      "text/html": [
       "<style>#sk-container-id-4 {color: black;background-color: white;}#sk-container-id-4 pre{padding: 0;}#sk-container-id-4 div.sk-toggleable {background-color: white;}#sk-container-id-4 label.sk-toggleable__label {cursor: pointer;display: block;width: 100%;margin-bottom: 0;padding: 0.3em;box-sizing: border-box;text-align: center;}#sk-container-id-4 label.sk-toggleable__label-arrow:before {content: \"▸\";float: left;margin-right: 0.25em;color: #696969;}#sk-container-id-4 label.sk-toggleable__label-arrow:hover:before {color: black;}#sk-container-id-4 div.sk-estimator:hover label.sk-toggleable__label-arrow:before {color: black;}#sk-container-id-4 div.sk-toggleable__content {max-height: 0;max-width: 0;overflow: hidden;text-align: left;background-color: #f0f8ff;}#sk-container-id-4 div.sk-toggleable__content pre {margin: 0.2em;color: black;border-radius: 0.25em;background-color: #f0f8ff;}#sk-container-id-4 input.sk-toggleable__control:checked~div.sk-toggleable__content {max-height: 200px;max-width: 100%;overflow: auto;}#sk-container-id-4 input.sk-toggleable__control:checked~label.sk-toggleable__label-arrow:before {content: \"▾\";}#sk-container-id-4 div.sk-estimator input.sk-toggleable__control:checked~label.sk-toggleable__label {background-color: #d4ebff;}#sk-container-id-4 div.sk-label input.sk-toggleable__control:checked~label.sk-toggleable__label {background-color: #d4ebff;}#sk-container-id-4 input.sk-hidden--visually {border: 0;clip: rect(1px 1px 1px 1px);clip: rect(1px, 1px, 1px, 1px);height: 1px;margin: -1px;overflow: hidden;padding: 0;position: absolute;width: 1px;}#sk-container-id-4 div.sk-estimator {font-family: monospace;background-color: #f0f8ff;border: 1px dotted black;border-radius: 0.25em;box-sizing: border-box;margin-bottom: 0.5em;}#sk-container-id-4 div.sk-estimator:hover {background-color: #d4ebff;}#sk-container-id-4 div.sk-parallel-item::after {content: \"\";width: 100%;border-bottom: 1px solid gray;flex-grow: 1;}#sk-container-id-4 div.sk-label:hover label.sk-toggleable__label {background-color: #d4ebff;}#sk-container-id-4 div.sk-serial::before {content: \"\";position: absolute;border-left: 1px solid gray;box-sizing: border-box;top: 0;bottom: 0;left: 50%;z-index: 0;}#sk-container-id-4 div.sk-serial {display: flex;flex-direction: column;align-items: center;background-color: white;padding-right: 0.2em;padding-left: 0.2em;position: relative;}#sk-container-id-4 div.sk-item {position: relative;z-index: 1;}#sk-container-id-4 div.sk-parallel {display: flex;align-items: stretch;justify-content: center;background-color: white;position: relative;}#sk-container-id-4 div.sk-item::before, #sk-container-id-4 div.sk-parallel-item::before {content: \"\";position: absolute;border-left: 1px solid gray;box-sizing: border-box;top: 0;bottom: 0;left: 50%;z-index: -1;}#sk-container-id-4 div.sk-parallel-item {display: flex;flex-direction: column;z-index: 1;position: relative;background-color: white;}#sk-container-id-4 div.sk-parallel-item:first-child::after {align-self: flex-end;width: 50%;}#sk-container-id-4 div.sk-parallel-item:last-child::after {align-self: flex-start;width: 50%;}#sk-container-id-4 div.sk-parallel-item:only-child::after {width: 0;}#sk-container-id-4 div.sk-dashed-wrapped {border: 1px dashed gray;margin: 0 0.4em 0.5em 0.4em;box-sizing: border-box;padding-bottom: 0.4em;background-color: white;}#sk-container-id-4 div.sk-label label {font-family: monospace;font-weight: bold;display: inline-block;line-height: 1.2em;}#sk-container-id-4 div.sk-label-container {text-align: center;}#sk-container-id-4 div.sk-container {/* jupyter's `normalize.less` sets `[hidden] { display: none; }` but bootstrap.min.css set `[hidden] { display: none !important; }` so we also need the `!important` here to be able to override the default hidden behavior on the sphinx rendered scikit-learn.org. See: https://github.com/scikit-learn/scikit-learn/issues/21755 */display: inline-block !important;position: relative;}#sk-container-id-4 div.sk-text-repr-fallback {display: none;}</style><div id=\"sk-container-id-4\" class=\"sk-top-container\"><div class=\"sk-text-repr-fallback\"><pre>ColumnTransformer(remainder=&#x27;passthrough&#x27;,\n",
       "                  transformers=[(&#x27;drop&#x27;, &#x27;drop&#x27;, [&#x27;SYMBOL1&#x27;]),\n",
       "                                (&#x27;onehotencoder&#x27;, OneHotEncoder(), [&#x27;MARKET&#x27;])])</pre><b>In a Jupyter environment, please rerun this cell to show the HTML representation or trust the notebook. <br />On GitHub, the HTML representation is unable to render, please try loading this page with nbviewer.org.</b></div><div class=\"sk-container\" hidden><div class=\"sk-item sk-dashed-wrapped\"><div class=\"sk-label-container\"><div class=\"sk-label sk-toggleable\"><input class=\"sk-toggleable__control sk-hidden--visually\" id=\"sk-estimator-id-22\" type=\"checkbox\" ><label for=\"sk-estimator-id-22\" class=\"sk-toggleable__label sk-toggleable__label-arrow\">ColumnTransformer</label><div class=\"sk-toggleable__content\"><pre>ColumnTransformer(remainder=&#x27;passthrough&#x27;,\n",
       "                  transformers=[(&#x27;drop&#x27;, &#x27;drop&#x27;, [&#x27;SYMBOL1&#x27;]),\n",
       "                                (&#x27;onehotencoder&#x27;, OneHotEncoder(), [&#x27;MARKET&#x27;])])</pre></div></div></div><div class=\"sk-parallel\"><div class=\"sk-parallel-item\"><div class=\"sk-item\"><div class=\"sk-label-container\"><div class=\"sk-label sk-toggleable\"><input class=\"sk-toggleable__control sk-hidden--visually\" id=\"sk-estimator-id-23\" type=\"checkbox\" ><label for=\"sk-estimator-id-23\" class=\"sk-toggleable__label sk-toggleable__label-arrow\">drop</label><div class=\"sk-toggleable__content\"><pre>[&#x27;SYMBOL1&#x27;]</pre></div></div></div><div class=\"sk-serial\"><div class=\"sk-item\"><div class=\"sk-estimator sk-toggleable\"><input class=\"sk-toggleable__control sk-hidden--visually\" id=\"sk-estimator-id-24\" type=\"checkbox\" ><label for=\"sk-estimator-id-24\" class=\"sk-toggleable__label sk-toggleable__label-arrow\">drop</label><div class=\"sk-toggleable__content\"><pre>drop</pre></div></div></div></div></div></div><div class=\"sk-parallel-item\"><div class=\"sk-item\"><div class=\"sk-label-container\"><div class=\"sk-label sk-toggleable\"><input class=\"sk-toggleable__control sk-hidden--visually\" id=\"sk-estimator-id-25\" type=\"checkbox\" ><label for=\"sk-estimator-id-25\" class=\"sk-toggleable__label sk-toggleable__label-arrow\">onehotencoder</label><div class=\"sk-toggleable__content\"><pre>[&#x27;MARKET&#x27;]</pre></div></div></div><div class=\"sk-serial\"><div class=\"sk-item\"><div class=\"sk-estimator sk-toggleable\"><input class=\"sk-toggleable__control sk-hidden--visually\" id=\"sk-estimator-id-26\" type=\"checkbox\" ><label for=\"sk-estimator-id-26\" class=\"sk-toggleable__label sk-toggleable__label-arrow\">OneHotEncoder</label><div class=\"sk-toggleable__content\"><pre>OneHotEncoder()</pre></div></div></div></div></div></div><div class=\"sk-parallel-item\"><div class=\"sk-item\"><div class=\"sk-label-container\"><div class=\"sk-label sk-toggleable\"><input class=\"sk-toggleable__control sk-hidden--visually\" id=\"sk-estimator-id-27\" type=\"checkbox\" ><label for=\"sk-estimator-id-27\" class=\"sk-toggleable__label sk-toggleable__label-arrow\">remainder</label><div class=\"sk-toggleable__content\"><pre>[&#x27;SEC_CODE&#x27;, &#x27;VOLUME&#x27;, &#x27;TRADE_QTY&#x27;, &#x27;NO_OF_TRADES&#x27;, &#x27;BEST_ASK_PRICE&#x27;, &#x27;BEST_ASK_QTY&#x27;, &#x27;BEST_BID_PRICE&#x27;, &#x27;BEST_BID_QTY&#x27;, &#x27;YEAR&#x27;, &#x27;MONTH&#x27;, &#x27;DAY&#x27;]</pre></div></div></div><div class=\"sk-serial\"><div class=\"sk-item\"><div class=\"sk-estimator sk-toggleable\"><input class=\"sk-toggleable__control sk-hidden--visually\" id=\"sk-estimator-id-28\" type=\"checkbox\" ><label for=\"sk-estimator-id-28\" class=\"sk-toggleable__label sk-toggleable__label-arrow\">passthrough</label><div class=\"sk-toggleable__content\"><pre>passthrough</pre></div></div></div></div></div></div></div></div></div></div>"
      ],
      "text/plain": [
       "ColumnTransformer(remainder='passthrough',\n",
       "                  transformers=[('drop', 'drop', ['SYMBOL1']),\n",
       "                                ('onehotencoder', OneHotEncoder(), ['MARKET'])])"
      ]
     },
     "execution_count": 93,
     "metadata": {},
     "output_type": "execute_result"
    }
   ],
   "source": [
    "preprocessing.fit(X)"
   ]
  },
  {
   "cell_type": "code",
   "execution_count": 94,
   "id": "70678358",
   "metadata": {},
   "outputs": [
    {
     "data": {
      "text/plain": [
       "array(['onehotencoder__MARKET_1', 'onehotencoder__MARKET_2',\n",
       "       'remainder__SEC_CODE', 'remainder__VOLUME', 'remainder__TRADE_QTY',\n",
       "       'remainder__BEST_BID_QTY', 'remainder__DAY'], dtype=object)"
      ]
     },
     "execution_count": 94,
     "metadata": {},
     "output_type": "execute_result"
    }
   ],
   "source": [
    "preprocessing.get_feature_names_out()[SFS.fit(MinMaxScaler().fit_transform(preprocessing.fit_transform(X)), y).get_support()]"
   ]
  },
  {
   "cell_type": "code",
   "execution_count": 95,
   "id": "e37841ea",
   "metadata": {},
   "outputs": [
    {
     "data": {
      "text/plain": [
       "array(['onehotencoder__MARKET_0', 'onehotencoder__MARKET_1',\n",
       "       'onehotencoder__MARKET_2', 'remainder__SEC_CODE',\n",
       "       'remainder__VOLUME', 'remainder__TRADE_QTY',\n",
       "       'remainder__NO_OF_TRADES', 'remainder__BEST_ASK_PRICE',\n",
       "       'remainder__BEST_ASK_QTY', 'remainder__BEST_BID_PRICE',\n",
       "       'remainder__BEST_BID_QTY', 'remainder__MONTH', 'remainder__DAY'],\n",
       "      dtype=object)"
      ]
     },
     "execution_count": 95,
     "metadata": {},
     "output_type": "execute_result"
    }
   ],
   "source": [
    "preprocessing.get_feature_names_out()[SKB.fit(MinMaxScaler().fit_transform(preprocessing.fit_transform(X)), y).get_support()]"
   ]
  },
  {
   "cell_type": "code",
   "execution_count": 96,
   "id": "3aced6d2",
   "metadata": {},
   "outputs": [
    {
     "data": {
      "text/plain": [
       "array(['onehotencoder__MARKET_0', 'onehotencoder__MARKET_1',\n",
       "       'onehotencoder__MARKET_2', 'remainder__SEC_CODE',\n",
       "       'remainder__MONTH', 'remainder__DAY'], dtype=object)"
      ]
     },
     "execution_count": 96,
     "metadata": {},
     "output_type": "execute_result"
    }
   ],
   "source": [
    "preprocessing.get_feature_names_out()[VT.fit(MinMaxScaler().fit_transform(preprocessing.fit_transform(X)), y).get_support()]"
   ]
  },
  {
   "cell_type": "code",
   "execution_count": 97,
   "id": "33e6c3a9",
   "metadata": {},
   "outputs": [],
   "source": [
    "pipe_LR = Pipeline([('preprocessing',preprocessing), ('scaling', MinMaxScaler()), ('featureSelector',SFS),('regressor',ml_LR)])"
   ]
  },
  {
   "cell_type": "code",
   "execution_count": 98,
   "id": "58375d7d",
   "metadata": {},
   "outputs": [
    {
     "data": {
      "text/plain": [
       "{'preprocessing': ColumnTransformer(remainder='passthrough',\n",
       "                   transformers=[('drop', 'drop', ['SYMBOL1']),\n",
       "                                 ('onehotencoder', OneHotEncoder(), ['MARKET'])]),\n",
       " 'scaling': MinMaxScaler(),\n",
       " 'featureSelector': SequentialFeatureSelector(estimator=LinearRegression(),\n",
       "                           n_features_to_select='auto', scoring='r2'),\n",
       " 'regressor': LinearRegression()}"
      ]
     },
     "execution_count": 98,
     "metadata": {},
     "output_type": "execute_result"
    }
   ],
   "source": [
    "pipe_LR.named_steps"
   ]
  },
  {
   "cell_type": "code",
   "execution_count": 99,
   "id": "a99ff3a0",
   "metadata": {},
   "outputs": [],
   "source": [
    "grid_LR = GridSearchCV(pipe_LR, params, cv=10, scoring=['r2', 'neg_mean_absolute_error','neg_mean_squared_error','neg_root_mean_squared_error'], refit=False, n_jobs=-1)"
   ]
  },
  {
   "cell_type": "code",
   "execution_count": 100,
   "id": "78cc6397",
   "metadata": {},
   "outputs": [],
   "source": [
    "grid_LR.fit(X,y);"
   ]
  },
  {
   "cell_type": "code",
   "execution_count": 101,
   "id": "f25e2290",
   "metadata": {
    "scrolled": true
   },
   "outputs": [
    {
     "data": {
      "text/html": [
       "<div>\n",
       "<style scoped>\n",
       "    .dataframe tbody tr th:only-of-type {\n",
       "        vertical-align: middle;\n",
       "    }\n",
       "\n",
       "    .dataframe tbody tr th {\n",
       "        vertical-align: top;\n",
       "    }\n",
       "\n",
       "    .dataframe thead th {\n",
       "        text-align: right;\n",
       "    }\n",
       "</style>\n",
       "<table border=\"1\" class=\"dataframe\">\n",
       "  <thead>\n",
       "    <tr style=\"text-align: right;\">\n",
       "      <th></th>\n",
       "      <th>mean_fit_time</th>\n",
       "      <th>std_fit_time</th>\n",
       "      <th>mean_score_time</th>\n",
       "      <th>std_score_time</th>\n",
       "      <th>param_featureSelector</th>\n",
       "      <th>params</th>\n",
       "      <th>split0_test_r2</th>\n",
       "      <th>split1_test_r2</th>\n",
       "      <th>split2_test_r2</th>\n",
       "      <th>split3_test_r2</th>\n",
       "      <th>...</th>\n",
       "      <th>split3_test_neg_root_mean_squared_error</th>\n",
       "      <th>split4_test_neg_root_mean_squared_error</th>\n",
       "      <th>split5_test_neg_root_mean_squared_error</th>\n",
       "      <th>split6_test_neg_root_mean_squared_error</th>\n",
       "      <th>split7_test_neg_root_mean_squared_error</th>\n",
       "      <th>split8_test_neg_root_mean_squared_error</th>\n",
       "      <th>split9_test_neg_root_mean_squared_error</th>\n",
       "      <th>mean_test_neg_root_mean_squared_error</th>\n",
       "      <th>std_test_neg_root_mean_squared_error</th>\n",
       "      <th>rank_test_neg_root_mean_squared_error</th>\n",
       "    </tr>\n",
       "  </thead>\n",
       "  <tbody>\n",
       "    <tr>\n",
       "      <th>0</th>\n",
       "      <td>4.515414</td>\n",
       "      <td>0.051327</td>\n",
       "      <td>0.006560</td>\n",
       "      <td>0.003008</td>\n",
       "      <td>SequentialFeatureSelector(estimator=LinearRegr...</td>\n",
       "      <td>{'featureSelector': SequentialFeatureSelector(...</td>\n",
       "      <td>0.287648</td>\n",
       "      <td>0.296744</td>\n",
       "      <td>0.270444</td>\n",
       "      <td>0.272748</td>\n",
       "      <td>...</td>\n",
       "      <td>-3.926647</td>\n",
       "      <td>-3.893556</td>\n",
       "      <td>-3.859240</td>\n",
       "      <td>-3.945803</td>\n",
       "      <td>-3.902960</td>\n",
       "      <td>-3.957593</td>\n",
       "      <td>-4.055049</td>\n",
       "      <td>-3.869476</td>\n",
       "      <td>0.128320</td>\n",
       "      <td>2</td>\n",
       "    </tr>\n",
       "    <tr>\n",
       "      <th>1</th>\n",
       "      <td>0.105846</td>\n",
       "      <td>0.006056</td>\n",
       "      <td>0.013167</td>\n",
       "      <td>0.001201</td>\n",
       "      <td>SelectKBest(k=13, score_func=&lt;function f_regre...</td>\n",
       "      <td>{'featureSelector': SelectKBest(k=13, score_fu...</td>\n",
       "      <td>0.293064</td>\n",
       "      <td>0.301373</td>\n",
       "      <td>0.274126</td>\n",
       "      <td>0.278149</td>\n",
       "      <td>...</td>\n",
       "      <td>-3.912040</td>\n",
       "      <td>-3.884804</td>\n",
       "      <td>-3.843713</td>\n",
       "      <td>-3.929088</td>\n",
       "      <td>-3.896073</td>\n",
       "      <td>-3.956944</td>\n",
       "      <td>-4.040956</td>\n",
       "      <td>-3.858185</td>\n",
       "      <td>0.128937</td>\n",
       "      <td>1</td>\n",
       "    </tr>\n",
       "    <tr>\n",
       "      <th>2</th>\n",
       "      <td>0.077531</td>\n",
       "      <td>0.013616</td>\n",
       "      <td>0.011270</td>\n",
       "      <td>0.003155</td>\n",
       "      <td>VarianceThreshold(threshold=0.005)</td>\n",
       "      <td>{'featureSelector': VarianceThreshold(threshol...</td>\n",
       "      <td>0.202348</td>\n",
       "      <td>0.198857</td>\n",
       "      <td>0.201069</td>\n",
       "      <td>0.199505</td>\n",
       "      <td>...</td>\n",
       "      <td>-4.119635</td>\n",
       "      <td>-4.115442</td>\n",
       "      <td>-4.104032</td>\n",
       "      <td>-4.150262</td>\n",
       "      <td>-4.167670</td>\n",
       "      <td>-4.227080</td>\n",
       "      <td>-4.313726</td>\n",
       "      <td>-4.099136</td>\n",
       "      <td>0.144167</td>\n",
       "      <td>3</td>\n",
       "    </tr>\n",
       "  </tbody>\n",
       "</table>\n",
       "<p>3 rows × 58 columns</p>\n",
       "</div>"
      ],
      "text/plain": [
       "   mean_fit_time  std_fit_time  mean_score_time  std_score_time  \\\n",
       "0       4.515414      0.051327         0.006560        0.003008   \n",
       "1       0.105846      0.006056         0.013167        0.001201   \n",
       "2       0.077531      0.013616         0.011270        0.003155   \n",
       "\n",
       "                               param_featureSelector  \\\n",
       "0  SequentialFeatureSelector(estimator=LinearRegr...   \n",
       "1  SelectKBest(k=13, score_func=<function f_regre...   \n",
       "2                 VarianceThreshold(threshold=0.005)   \n",
       "\n",
       "                                              params  split0_test_r2  \\\n",
       "0  {'featureSelector': SequentialFeatureSelector(...        0.287648   \n",
       "1  {'featureSelector': SelectKBest(k=13, score_fu...        0.293064   \n",
       "2  {'featureSelector': VarianceThreshold(threshol...        0.202348   \n",
       "\n",
       "   split1_test_r2  split2_test_r2  split3_test_r2  ...  \\\n",
       "0        0.296744        0.270444        0.272748  ...   \n",
       "1        0.301373        0.274126        0.278149  ...   \n",
       "2        0.198857        0.201069        0.199505  ...   \n",
       "\n",
       "   split3_test_neg_root_mean_squared_error  \\\n",
       "0                                -3.926647   \n",
       "1                                -3.912040   \n",
       "2                                -4.119635   \n",
       "\n",
       "   split4_test_neg_root_mean_squared_error  \\\n",
       "0                                -3.893556   \n",
       "1                                -3.884804   \n",
       "2                                -4.115442   \n",
       "\n",
       "   split5_test_neg_root_mean_squared_error  \\\n",
       "0                                -3.859240   \n",
       "1                                -3.843713   \n",
       "2                                -4.104032   \n",
       "\n",
       "   split6_test_neg_root_mean_squared_error  \\\n",
       "0                                -3.945803   \n",
       "1                                -3.929088   \n",
       "2                                -4.150262   \n",
       "\n",
       "   split7_test_neg_root_mean_squared_error  \\\n",
       "0                                -3.902960   \n",
       "1                                -3.896073   \n",
       "2                                -4.167670   \n",
       "\n",
       "   split8_test_neg_root_mean_squared_error  \\\n",
       "0                                -3.957593   \n",
       "1                                -3.956944   \n",
       "2                                -4.227080   \n",
       "\n",
       "   split9_test_neg_root_mean_squared_error  \\\n",
       "0                                -4.055049   \n",
       "1                                -4.040956   \n",
       "2                                -4.313726   \n",
       "\n",
       "   mean_test_neg_root_mean_squared_error  \\\n",
       "0                              -3.869476   \n",
       "1                              -3.858185   \n",
       "2                              -4.099136   \n",
       "\n",
       "   std_test_neg_root_mean_squared_error  rank_test_neg_root_mean_squared_error  \n",
       "0                              0.128320                                      2  \n",
       "1                              0.128937                                      1  \n",
       "2                              0.144167                                      3  \n",
       "\n",
       "[3 rows x 58 columns]"
      ]
     },
     "execution_count": 101,
     "metadata": {},
     "output_type": "execute_result"
    }
   ],
   "source": [
    "LR_df = pd.DataFrame(grid_LR.cv_results_)\n",
    "LR_df"
   ]
  },
  {
   "cell_type": "code",
   "execution_count": 102,
   "id": "efda62eb",
   "metadata": {},
   "outputs": [
    {
     "data": {
      "text/plain": [
       "array([SequentialFeatureSelector(estimator=LinearRegression(),\n",
       "                                 n_features_to_select='auto', scoring='r2'),\n",
       "       SelectKBest(k=13, score_func=<function f_regression at 0x0000021638C3CA60>),\n",
       "       VarianceThreshold(threshold=0.005)], dtype=object)"
      ]
     },
     "execution_count": 102,
     "metadata": {},
     "output_type": "execute_result"
    }
   ],
   "source": [
    "LR_df.param_featureSelector.unique()"
   ]
  },
  {
   "cell_type": "code",
   "execution_count": null,
   "id": "5ee7835e",
   "metadata": {},
   "outputs": [],
   "source": []
  },
  {
   "cell_type": "code",
   "execution_count": 103,
   "id": "d368575d",
   "metadata": {},
   "outputs": [
    {
     "data": {
      "text/html": [
       "<div>\n",
       "<style scoped>\n",
       "    .dataframe tbody tr th:only-of-type {\n",
       "        vertical-align: middle;\n",
       "    }\n",
       "\n",
       "    .dataframe tbody tr th {\n",
       "        vertical-align: top;\n",
       "    }\n",
       "\n",
       "    .dataframe thead th {\n",
       "        text-align: right;\n",
       "    }\n",
       "</style>\n",
       "<table border=\"1\" class=\"dataframe\">\n",
       "  <thead>\n",
       "    <tr style=\"text-align: right;\">\n",
       "      <th></th>\n",
       "      <th>param_featureSelector</th>\n",
       "      <th>mean_test_r2</th>\n",
       "      <th>mean_test_neg_mean_absolute_error</th>\n",
       "      <th>mean_test_neg_mean_squared_error</th>\n",
       "      <th>mean_test_neg_root_mean_squared_error</th>\n",
       "    </tr>\n",
       "  </thead>\n",
       "  <tbody>\n",
       "    <tr>\n",
       "      <th>0</th>\n",
       "      <td>SequentialFeatureSelector(estimator=LinearRegr...</td>\n",
       "      <td>0.285513</td>\n",
       "      <td>-1.510751</td>\n",
       "      <td>-14.989307</td>\n",
       "      <td>-3.869476</td>\n",
       "    </tr>\n",
       "    <tr>\n",
       "      <th>1</th>\n",
       "      <td>SelectKBest(k=13, score_func=&lt;function f_regre...</td>\n",
       "      <td>0.289697</td>\n",
       "      <td>-1.556736</td>\n",
       "      <td>-14.902215</td>\n",
       "      <td>-3.858185</td>\n",
       "    </tr>\n",
       "    <tr>\n",
       "      <th>2</th>\n",
       "      <td>VarianceThreshold(threshold=0.005)</td>\n",
       "      <td>0.198344</td>\n",
       "      <td>-1.622545</td>\n",
       "      <td>-16.823703</td>\n",
       "      <td>-4.099136</td>\n",
       "    </tr>\n",
       "  </tbody>\n",
       "</table>\n",
       "</div>"
      ],
      "text/plain": [
       "                               param_featureSelector  mean_test_r2  \\\n",
       "0  SequentialFeatureSelector(estimator=LinearRegr...      0.285513   \n",
       "1  SelectKBest(k=13, score_func=<function f_regre...      0.289697   \n",
       "2                 VarianceThreshold(threshold=0.005)      0.198344   \n",
       "\n",
       "   mean_test_neg_mean_absolute_error  mean_test_neg_mean_squared_error  \\\n",
       "0                          -1.510751                        -14.989307   \n",
       "1                          -1.556736                        -14.902215   \n",
       "2                          -1.622545                        -16.823703   \n",
       "\n",
       "   mean_test_neg_root_mean_squared_error  \n",
       "0                              -3.869476  \n",
       "1                              -3.858185  \n",
       "2                              -4.099136  "
      ]
     },
     "execution_count": 103,
     "metadata": {},
     "output_type": "execute_result"
    }
   ],
   "source": [
    "LR_df[['param_featureSelector', 'mean_test_r2', 'mean_test_neg_mean_absolute_error', 'mean_test_neg_mean_squared_error','mean_test_neg_root_mean_squared_error']]"
   ]
  },
  {
   "cell_type": "markdown",
   "id": "78cde627",
   "metadata": {},
   "source": [
    "# K-neighbors regression"
   ]
  },
  {
   "cell_type": "code",
   "execution_count": 104,
   "id": "dc703b13",
   "metadata": {},
   "outputs": [],
   "source": [
    "from sklearn.neighbors import KNeighborsRegressor"
   ]
  },
  {
   "cell_type": "code",
   "execution_count": 105,
   "id": "d48d0ae2",
   "metadata": {},
   "outputs": [],
   "source": [
    "ml_KNN = KNeighborsRegressor(2)"
   ]
  },
  {
   "cell_type": "code",
   "execution_count": 106,
   "id": "95d73028",
   "metadata": {},
   "outputs": [],
   "source": [
    "n_neighbors_range = range(2)\n",
    "\n",
    "SFS = SequentialFeatureSelector(ml_KNN, n_features_to_select='auto', scoring='r2')\n",
    "params_SFS={\n",
    "    'featureSelector':[SFS]\n",
    "}\n",
    "\n",
    "\n",
    "SKB = SelectKBest(f_regression, k=11)\n",
    "params_SKB={\n",
    "    'featureSelector':[SKB]\n",
    "}\n",
    "\n",
    "VT = VarianceThreshold(threshold=0.005)\n",
    "params_VT = {\n",
    "    'featureSelector':[VT],\n",
    "}\n",
    "\n",
    "params=[params_SFS,params_SKB,params_VT]"
   ]
  },
  {
   "cell_type": "code",
   "execution_count": 107,
   "id": "5ca649a3",
   "metadata": {},
   "outputs": [
    {
     "data": {
      "text/html": [
       "<style>#sk-container-id-5 {color: black;background-color: white;}#sk-container-id-5 pre{padding: 0;}#sk-container-id-5 div.sk-toggleable {background-color: white;}#sk-container-id-5 label.sk-toggleable__label {cursor: pointer;display: block;width: 100%;margin-bottom: 0;padding: 0.3em;box-sizing: border-box;text-align: center;}#sk-container-id-5 label.sk-toggleable__label-arrow:before {content: \"▸\";float: left;margin-right: 0.25em;color: #696969;}#sk-container-id-5 label.sk-toggleable__label-arrow:hover:before {color: black;}#sk-container-id-5 div.sk-estimator:hover label.sk-toggleable__label-arrow:before {color: black;}#sk-container-id-5 div.sk-toggleable__content {max-height: 0;max-width: 0;overflow: hidden;text-align: left;background-color: #f0f8ff;}#sk-container-id-5 div.sk-toggleable__content pre {margin: 0.2em;color: black;border-radius: 0.25em;background-color: #f0f8ff;}#sk-container-id-5 input.sk-toggleable__control:checked~div.sk-toggleable__content {max-height: 200px;max-width: 100%;overflow: auto;}#sk-container-id-5 input.sk-toggleable__control:checked~label.sk-toggleable__label-arrow:before {content: \"▾\";}#sk-container-id-5 div.sk-estimator input.sk-toggleable__control:checked~label.sk-toggleable__label {background-color: #d4ebff;}#sk-container-id-5 div.sk-label input.sk-toggleable__control:checked~label.sk-toggleable__label {background-color: #d4ebff;}#sk-container-id-5 input.sk-hidden--visually {border: 0;clip: rect(1px 1px 1px 1px);clip: rect(1px, 1px, 1px, 1px);height: 1px;margin: -1px;overflow: hidden;padding: 0;position: absolute;width: 1px;}#sk-container-id-5 div.sk-estimator {font-family: monospace;background-color: #f0f8ff;border: 1px dotted black;border-radius: 0.25em;box-sizing: border-box;margin-bottom: 0.5em;}#sk-container-id-5 div.sk-estimator:hover {background-color: #d4ebff;}#sk-container-id-5 div.sk-parallel-item::after {content: \"\";width: 100%;border-bottom: 1px solid gray;flex-grow: 1;}#sk-container-id-5 div.sk-label:hover label.sk-toggleable__label {background-color: #d4ebff;}#sk-container-id-5 div.sk-serial::before {content: \"\";position: absolute;border-left: 1px solid gray;box-sizing: border-box;top: 0;bottom: 0;left: 50%;z-index: 0;}#sk-container-id-5 div.sk-serial {display: flex;flex-direction: column;align-items: center;background-color: white;padding-right: 0.2em;padding-left: 0.2em;position: relative;}#sk-container-id-5 div.sk-item {position: relative;z-index: 1;}#sk-container-id-5 div.sk-parallel {display: flex;align-items: stretch;justify-content: center;background-color: white;position: relative;}#sk-container-id-5 div.sk-item::before, #sk-container-id-5 div.sk-parallel-item::before {content: \"\";position: absolute;border-left: 1px solid gray;box-sizing: border-box;top: 0;bottom: 0;left: 50%;z-index: -1;}#sk-container-id-5 div.sk-parallel-item {display: flex;flex-direction: column;z-index: 1;position: relative;background-color: white;}#sk-container-id-5 div.sk-parallel-item:first-child::after {align-self: flex-end;width: 50%;}#sk-container-id-5 div.sk-parallel-item:last-child::after {align-self: flex-start;width: 50%;}#sk-container-id-5 div.sk-parallel-item:only-child::after {width: 0;}#sk-container-id-5 div.sk-dashed-wrapped {border: 1px dashed gray;margin: 0 0.4em 0.5em 0.4em;box-sizing: border-box;padding-bottom: 0.4em;background-color: white;}#sk-container-id-5 div.sk-label label {font-family: monospace;font-weight: bold;display: inline-block;line-height: 1.2em;}#sk-container-id-5 div.sk-label-container {text-align: center;}#sk-container-id-5 div.sk-container {/* jupyter's `normalize.less` sets `[hidden] { display: none; }` but bootstrap.min.css set `[hidden] { display: none !important; }` so we also need the `!important` here to be able to override the default hidden behavior on the sphinx rendered scikit-learn.org. See: https://github.com/scikit-learn/scikit-learn/issues/21755 */display: inline-block !important;position: relative;}#sk-container-id-5 div.sk-text-repr-fallback {display: none;}</style><div id=\"sk-container-id-5\" class=\"sk-top-container\"><div class=\"sk-text-repr-fallback\"><pre>ColumnTransformer(remainder=&#x27;passthrough&#x27;,\n",
       "                  transformers=[(&#x27;drop&#x27;, &#x27;drop&#x27;, [&#x27;SYMBOL1&#x27;]),\n",
       "                                (&#x27;onehotencoder&#x27;, OneHotEncoder(), [&#x27;MARKET&#x27;])])</pre><b>In a Jupyter environment, please rerun this cell to show the HTML representation or trust the notebook. <br />On GitHub, the HTML representation is unable to render, please try loading this page with nbviewer.org.</b></div><div class=\"sk-container\" hidden><div class=\"sk-item sk-dashed-wrapped\"><div class=\"sk-label-container\"><div class=\"sk-label sk-toggleable\"><input class=\"sk-toggleable__control sk-hidden--visually\" id=\"sk-estimator-id-29\" type=\"checkbox\" ><label for=\"sk-estimator-id-29\" class=\"sk-toggleable__label sk-toggleable__label-arrow\">ColumnTransformer</label><div class=\"sk-toggleable__content\"><pre>ColumnTransformer(remainder=&#x27;passthrough&#x27;,\n",
       "                  transformers=[(&#x27;drop&#x27;, &#x27;drop&#x27;, [&#x27;SYMBOL1&#x27;]),\n",
       "                                (&#x27;onehotencoder&#x27;, OneHotEncoder(), [&#x27;MARKET&#x27;])])</pre></div></div></div><div class=\"sk-parallel\"><div class=\"sk-parallel-item\"><div class=\"sk-item\"><div class=\"sk-label-container\"><div class=\"sk-label sk-toggleable\"><input class=\"sk-toggleable__control sk-hidden--visually\" id=\"sk-estimator-id-30\" type=\"checkbox\" ><label for=\"sk-estimator-id-30\" class=\"sk-toggleable__label sk-toggleable__label-arrow\">drop</label><div class=\"sk-toggleable__content\"><pre>[&#x27;SYMBOL1&#x27;]</pre></div></div></div><div class=\"sk-serial\"><div class=\"sk-item\"><div class=\"sk-estimator sk-toggleable\"><input class=\"sk-toggleable__control sk-hidden--visually\" id=\"sk-estimator-id-31\" type=\"checkbox\" ><label for=\"sk-estimator-id-31\" class=\"sk-toggleable__label sk-toggleable__label-arrow\">drop</label><div class=\"sk-toggleable__content\"><pre>drop</pre></div></div></div></div></div></div><div class=\"sk-parallel-item\"><div class=\"sk-item\"><div class=\"sk-label-container\"><div class=\"sk-label sk-toggleable\"><input class=\"sk-toggleable__control sk-hidden--visually\" id=\"sk-estimator-id-32\" type=\"checkbox\" ><label for=\"sk-estimator-id-32\" class=\"sk-toggleable__label sk-toggleable__label-arrow\">onehotencoder</label><div class=\"sk-toggleable__content\"><pre>[&#x27;MARKET&#x27;]</pre></div></div></div><div class=\"sk-serial\"><div class=\"sk-item\"><div class=\"sk-estimator sk-toggleable\"><input class=\"sk-toggleable__control sk-hidden--visually\" id=\"sk-estimator-id-33\" type=\"checkbox\" ><label for=\"sk-estimator-id-33\" class=\"sk-toggleable__label sk-toggleable__label-arrow\">OneHotEncoder</label><div class=\"sk-toggleable__content\"><pre>OneHotEncoder()</pre></div></div></div></div></div></div><div class=\"sk-parallel-item\"><div class=\"sk-item\"><div class=\"sk-label-container\"><div class=\"sk-label sk-toggleable\"><input class=\"sk-toggleable__control sk-hidden--visually\" id=\"sk-estimator-id-34\" type=\"checkbox\" ><label for=\"sk-estimator-id-34\" class=\"sk-toggleable__label sk-toggleable__label-arrow\">remainder</label><div class=\"sk-toggleable__content\"><pre>[&#x27;SEC_CODE&#x27;, &#x27;VOLUME&#x27;, &#x27;TRADE_QTY&#x27;, &#x27;NO_OF_TRADES&#x27;, &#x27;BEST_ASK_PRICE&#x27;, &#x27;BEST_ASK_QTY&#x27;, &#x27;BEST_BID_PRICE&#x27;, &#x27;BEST_BID_QTY&#x27;, &#x27;YEAR&#x27;, &#x27;MONTH&#x27;, &#x27;DAY&#x27;]</pre></div></div></div><div class=\"sk-serial\"><div class=\"sk-item\"><div class=\"sk-estimator sk-toggleable\"><input class=\"sk-toggleable__control sk-hidden--visually\" id=\"sk-estimator-id-35\" type=\"checkbox\" ><label for=\"sk-estimator-id-35\" class=\"sk-toggleable__label sk-toggleable__label-arrow\">passthrough</label><div class=\"sk-toggleable__content\"><pre>passthrough</pre></div></div></div></div></div></div></div></div></div></div>"
      ],
      "text/plain": [
       "ColumnTransformer(remainder='passthrough',\n",
       "                  transformers=[('drop', 'drop', ['SYMBOL1']),\n",
       "                                ('onehotencoder', OneHotEncoder(), ['MARKET'])])"
      ]
     },
     "execution_count": 107,
     "metadata": {},
     "output_type": "execute_result"
    }
   ],
   "source": [
    "preprocessing.fit(X)"
   ]
  },
  {
   "cell_type": "code",
   "execution_count": 108,
   "id": "3e6764a8",
   "metadata": {},
   "outputs": [
    {
     "data": {
      "text/plain": [
       "array(['onehotencoder__MARKET_0', 'onehotencoder__MARKET_1',\n",
       "       'onehotencoder__MARKET_2', 'remainder__SEC_CODE',\n",
       "       'remainder__BEST_BID_QTY', 'remainder__YEAR', 'remainder__MONTH'],\n",
       "      dtype=object)"
      ]
     },
     "execution_count": 108,
     "metadata": {},
     "output_type": "execute_result"
    }
   ],
   "source": [
    "preprocessing.get_feature_names_out()[SFS.fit(MinMaxScaler().fit_transform(preprocessing.fit_transform(X)), y).get_support()]"
   ]
  },
  {
   "cell_type": "code",
   "execution_count": 109,
   "id": "73cc74d7",
   "metadata": {},
   "outputs": [
    {
     "data": {
      "text/plain": [
       "array(['onehotencoder__MARKET_0', 'onehotencoder__MARKET_1',\n",
       "       'onehotencoder__MARKET_2', 'remainder__SEC_CODE',\n",
       "       'remainder__VOLUME', 'remainder__TRADE_QTY',\n",
       "       'remainder__NO_OF_TRADES', 'remainder__BEST_ASK_PRICE',\n",
       "       'remainder__BEST_ASK_QTY', 'remainder__BEST_BID_PRICE',\n",
       "       'remainder__BEST_BID_QTY'], dtype=object)"
      ]
     },
     "execution_count": 109,
     "metadata": {},
     "output_type": "execute_result"
    }
   ],
   "source": [
    "preprocessing.get_feature_names_out()[SKB.fit(MinMaxScaler().fit_transform(preprocessing.fit_transform(X)), y).get_support()]"
   ]
  },
  {
   "cell_type": "code",
   "execution_count": 110,
   "id": "a7e5d616",
   "metadata": {},
   "outputs": [
    {
     "data": {
      "text/plain": [
       "array(['onehotencoder__MARKET_0', 'onehotencoder__MARKET_1',\n",
       "       'onehotencoder__MARKET_2', 'remainder__SEC_CODE',\n",
       "       'remainder__MONTH', 'remainder__DAY'], dtype=object)"
      ]
     },
     "execution_count": 110,
     "metadata": {},
     "output_type": "execute_result"
    }
   ],
   "source": [
    "preprocessing.get_feature_names_out()[VT.fit(MinMaxScaler().fit_transform(preprocessing.fit_transform(X)), y).get_support()]"
   ]
  },
  {
   "cell_type": "code",
   "execution_count": 111,
   "id": "07bf9fc7",
   "metadata": {},
   "outputs": [],
   "source": [
    "pipe_KNN = Pipeline([('preprocessing', preprocessing),('scaling', MinMaxScaler()), ('featureSelector',SFS),('regressor',ml_KNN)])"
   ]
  },
  {
   "cell_type": "code",
   "execution_count": 112,
   "id": "fc95b28c",
   "metadata": {},
   "outputs": [
    {
     "data": {
      "text/plain": [
       "{'preprocessing': ColumnTransformer(remainder='passthrough',\n",
       "                   transformers=[('drop', 'drop', ['SYMBOL1']),\n",
       "                                 ('onehotencoder', OneHotEncoder(), ['MARKET'])]),\n",
       " 'scaling': MinMaxScaler(),\n",
       " 'featureSelector': SequentialFeatureSelector(estimator=KNeighborsRegressor(n_neighbors=2),\n",
       "                           n_features_to_select='auto', scoring='r2'),\n",
       " 'regressor': KNeighborsRegressor(n_neighbors=2)}"
      ]
     },
     "execution_count": 112,
     "metadata": {},
     "output_type": "execute_result"
    }
   ],
   "source": [
    "pipe_KNN.named_steps"
   ]
  },
  {
   "cell_type": "code",
   "execution_count": 113,
   "id": "d22acbca",
   "metadata": {},
   "outputs": [],
   "source": [
    "grid_KNN = GridSearchCV(pipe_KNN, params, cv=10, scoring=['r2', 'neg_mean_absolute_error','neg_mean_squared_error','neg_root_mean_squared_error'], refit=False, n_jobs=-1)"
   ]
  },
  {
   "cell_type": "code",
   "execution_count": 114,
   "id": "74ea1ad2",
   "metadata": {},
   "outputs": [
    {
     "data": {
      "text/plain": [
       "40.122973918914795"
      ]
     },
     "execution_count": 114,
     "metadata": {},
     "output_type": "execute_result"
    }
   ],
   "source": [
    "import time\n",
    "start = time.time()\n",
    "grid_KNN.fit(X,y);\n",
    "time.time() - start"
   ]
  },
  {
   "cell_type": "code",
   "execution_count": 115,
   "id": "622a677d",
   "metadata": {},
   "outputs": [
    {
     "data": {
      "text/plain": [
       "(75, 81, 86)"
      ]
     },
     "execution_count": 115,
     "metadata": {},
     "output_type": "execute_result"
    }
   ],
   "source": [
    "137-62, 218-137, 304-218"
   ]
  },
  {
   "cell_type": "markdown",
   "id": "568a21cd",
   "metadata": {},
   "source": [
    "n_jobs = False: 38.08821988105774\n",
    "n_jobs =-1 : 19.901278972625732\n",
    "n_jobs =-1 high performance : 8.048777103424072"
   ]
  },
  {
   "cell_type": "code",
   "execution_count": 116,
   "id": "a4311b55",
   "metadata": {},
   "outputs": [],
   "source": [
    "KNN_df = pd.DataFrame(grid_KNN.cv_results_)"
   ]
  },
  {
   "cell_type": "code",
   "execution_count": null,
   "id": "35e5abe1",
   "metadata": {},
   "outputs": [],
   "source": []
  },
  {
   "cell_type": "code",
   "execution_count": null,
   "id": "487848bc",
   "metadata": {},
   "outputs": [],
   "source": []
  },
  {
   "cell_type": "code",
   "execution_count": 117,
   "id": "551778d9",
   "metadata": {},
   "outputs": [
    {
     "data": {
      "text/html": [
       "<div>\n",
       "<style scoped>\n",
       "    .dataframe tbody tr th:only-of-type {\n",
       "        vertical-align: middle;\n",
       "    }\n",
       "\n",
       "    .dataframe tbody tr th {\n",
       "        vertical-align: top;\n",
       "    }\n",
       "\n",
       "    .dataframe thead th {\n",
       "        text-align: right;\n",
       "    }\n",
       "</style>\n",
       "<table border=\"1\" class=\"dataframe\">\n",
       "  <thead>\n",
       "    <tr style=\"text-align: right;\">\n",
       "      <th></th>\n",
       "      <th>param_featureSelector</th>\n",
       "      <th>mean_test_r2</th>\n",
       "      <th>mean_test_neg_mean_absolute_error</th>\n",
       "      <th>mean_test_neg_mean_squared_error</th>\n",
       "      <th>mean_test_neg_root_mean_squared_error</th>\n",
       "    </tr>\n",
       "  </thead>\n",
       "  <tbody>\n",
       "    <tr>\n",
       "      <th>0</th>\n",
       "      <td>SequentialFeatureSelector(estimator=KNeighbors...</td>\n",
       "      <td>0.906367</td>\n",
       "      <td>-0.343928</td>\n",
       "      <td>-1.924223</td>\n",
       "      <td>-1.341079</td>\n",
       "    </tr>\n",
       "    <tr>\n",
       "      <th>1</th>\n",
       "      <td>SelectKBest(k=11, score_func=&lt;function f_regre...</td>\n",
       "      <td>0.894031</td>\n",
       "      <td>-0.388986</td>\n",
       "      <td>-2.213149</td>\n",
       "      <td>-1.473831</td>\n",
       "    </tr>\n",
       "    <tr>\n",
       "      <th>2</th>\n",
       "      <td>VarianceThreshold(threshold=0.005)</td>\n",
       "      <td>0.444449</td>\n",
       "      <td>-0.981975</td>\n",
       "      <td>-11.637083</td>\n",
       "      <td>-3.406200</td>\n",
       "    </tr>\n",
       "  </tbody>\n",
       "</table>\n",
       "</div>"
      ],
      "text/plain": [
       "                               param_featureSelector  mean_test_r2  \\\n",
       "0  SequentialFeatureSelector(estimator=KNeighbors...      0.906367   \n",
       "1  SelectKBest(k=11, score_func=<function f_regre...      0.894031   \n",
       "2                 VarianceThreshold(threshold=0.005)      0.444449   \n",
       "\n",
       "   mean_test_neg_mean_absolute_error  mean_test_neg_mean_squared_error  \\\n",
       "0                          -0.343928                         -1.924223   \n",
       "1                          -0.388986                         -2.213149   \n",
       "2                          -0.981975                        -11.637083   \n",
       "\n",
       "   mean_test_neg_root_mean_squared_error  \n",
       "0                              -1.341079  \n",
       "1                              -1.473831  \n",
       "2                              -3.406200  "
      ]
     },
     "execution_count": 117,
     "metadata": {},
     "output_type": "execute_result"
    }
   ],
   "source": [
    "KNN_df[['param_featureSelector', 'mean_test_r2', 'mean_test_neg_mean_absolute_error', 'mean_test_neg_mean_squared_error','mean_test_neg_root_mean_squared_error']].sort_values(by='mean_test_r2', ascending=False)"
   ]
  },
  {
   "cell_type": "markdown",
   "id": "8a9396f5",
   "metadata": {},
   "source": [
    "# Decision Tree Regressor"
   ]
  },
  {
   "cell_type": "code",
   "execution_count": 118,
   "id": "88630916",
   "metadata": {},
   "outputs": [],
   "source": [
    "from sklearn.tree import DecisionTreeRegressor"
   ]
  },
  {
   "cell_type": "code",
   "execution_count": 119,
   "id": "9a58a93b",
   "metadata": {},
   "outputs": [],
   "source": [
    "ml_DT = DecisionTreeRegressor(random_state=0)"
   ]
  },
  {
   "cell_type": "code",
   "execution_count": 120,
   "id": "3e9d389f",
   "metadata": {},
   "outputs": [],
   "source": [
    "SFS = SequentialFeatureSelector(ml_DT, n_features_to_select='auto', scoring='r2')\n",
    "params_SFS={\n",
    "    'featureSelector':[SFS]\n",
    "}\n",
    "\n",
    "\n",
    "SKB = SelectKBest(f_regression, k=13)\n",
    "params_SKB={\n",
    "    'featureSelector':[SKB]\n",
    "}\n",
    "\n",
    "VT = VarianceThreshold(threshold=0.005)\n",
    "params_VT = {\n",
    "    'featureSelector':[VT],\n",
    "}\n",
    "\n",
    "params=[params_SFS,params_SKB,params_VT]"
   ]
  },
  {
   "cell_type": "code",
   "execution_count": 121,
   "id": "c227121b",
   "metadata": {},
   "outputs": [
    {
     "data": {
      "text/html": [
       "<style>#sk-container-id-6 {color: black;background-color: white;}#sk-container-id-6 pre{padding: 0;}#sk-container-id-6 div.sk-toggleable {background-color: white;}#sk-container-id-6 label.sk-toggleable__label {cursor: pointer;display: block;width: 100%;margin-bottom: 0;padding: 0.3em;box-sizing: border-box;text-align: center;}#sk-container-id-6 label.sk-toggleable__label-arrow:before {content: \"▸\";float: left;margin-right: 0.25em;color: #696969;}#sk-container-id-6 label.sk-toggleable__label-arrow:hover:before {color: black;}#sk-container-id-6 div.sk-estimator:hover label.sk-toggleable__label-arrow:before {color: black;}#sk-container-id-6 div.sk-toggleable__content {max-height: 0;max-width: 0;overflow: hidden;text-align: left;background-color: #f0f8ff;}#sk-container-id-6 div.sk-toggleable__content pre {margin: 0.2em;color: black;border-radius: 0.25em;background-color: #f0f8ff;}#sk-container-id-6 input.sk-toggleable__control:checked~div.sk-toggleable__content {max-height: 200px;max-width: 100%;overflow: auto;}#sk-container-id-6 input.sk-toggleable__control:checked~label.sk-toggleable__label-arrow:before {content: \"▾\";}#sk-container-id-6 div.sk-estimator input.sk-toggleable__control:checked~label.sk-toggleable__label {background-color: #d4ebff;}#sk-container-id-6 div.sk-label input.sk-toggleable__control:checked~label.sk-toggleable__label {background-color: #d4ebff;}#sk-container-id-6 input.sk-hidden--visually {border: 0;clip: rect(1px 1px 1px 1px);clip: rect(1px, 1px, 1px, 1px);height: 1px;margin: -1px;overflow: hidden;padding: 0;position: absolute;width: 1px;}#sk-container-id-6 div.sk-estimator {font-family: monospace;background-color: #f0f8ff;border: 1px dotted black;border-radius: 0.25em;box-sizing: border-box;margin-bottom: 0.5em;}#sk-container-id-6 div.sk-estimator:hover {background-color: #d4ebff;}#sk-container-id-6 div.sk-parallel-item::after {content: \"\";width: 100%;border-bottom: 1px solid gray;flex-grow: 1;}#sk-container-id-6 div.sk-label:hover label.sk-toggleable__label {background-color: #d4ebff;}#sk-container-id-6 div.sk-serial::before {content: \"\";position: absolute;border-left: 1px solid gray;box-sizing: border-box;top: 0;bottom: 0;left: 50%;z-index: 0;}#sk-container-id-6 div.sk-serial {display: flex;flex-direction: column;align-items: center;background-color: white;padding-right: 0.2em;padding-left: 0.2em;position: relative;}#sk-container-id-6 div.sk-item {position: relative;z-index: 1;}#sk-container-id-6 div.sk-parallel {display: flex;align-items: stretch;justify-content: center;background-color: white;position: relative;}#sk-container-id-6 div.sk-item::before, #sk-container-id-6 div.sk-parallel-item::before {content: \"\";position: absolute;border-left: 1px solid gray;box-sizing: border-box;top: 0;bottom: 0;left: 50%;z-index: -1;}#sk-container-id-6 div.sk-parallel-item {display: flex;flex-direction: column;z-index: 1;position: relative;background-color: white;}#sk-container-id-6 div.sk-parallel-item:first-child::after {align-self: flex-end;width: 50%;}#sk-container-id-6 div.sk-parallel-item:last-child::after {align-self: flex-start;width: 50%;}#sk-container-id-6 div.sk-parallel-item:only-child::after {width: 0;}#sk-container-id-6 div.sk-dashed-wrapped {border: 1px dashed gray;margin: 0 0.4em 0.5em 0.4em;box-sizing: border-box;padding-bottom: 0.4em;background-color: white;}#sk-container-id-6 div.sk-label label {font-family: monospace;font-weight: bold;display: inline-block;line-height: 1.2em;}#sk-container-id-6 div.sk-label-container {text-align: center;}#sk-container-id-6 div.sk-container {/* jupyter's `normalize.less` sets `[hidden] { display: none; }` but bootstrap.min.css set `[hidden] { display: none !important; }` so we also need the `!important` here to be able to override the default hidden behavior on the sphinx rendered scikit-learn.org. See: https://github.com/scikit-learn/scikit-learn/issues/21755 */display: inline-block !important;position: relative;}#sk-container-id-6 div.sk-text-repr-fallback {display: none;}</style><div id=\"sk-container-id-6\" class=\"sk-top-container\"><div class=\"sk-text-repr-fallback\"><pre>ColumnTransformer(remainder=&#x27;passthrough&#x27;,\n",
       "                  transformers=[(&#x27;drop&#x27;, &#x27;drop&#x27;, [&#x27;SYMBOL1&#x27;]),\n",
       "                                (&#x27;onehotencoder&#x27;, OneHotEncoder(), [&#x27;MARKET&#x27;])])</pre><b>In a Jupyter environment, please rerun this cell to show the HTML representation or trust the notebook. <br />On GitHub, the HTML representation is unable to render, please try loading this page with nbviewer.org.</b></div><div class=\"sk-container\" hidden><div class=\"sk-item sk-dashed-wrapped\"><div class=\"sk-label-container\"><div class=\"sk-label sk-toggleable\"><input class=\"sk-toggleable__control sk-hidden--visually\" id=\"sk-estimator-id-36\" type=\"checkbox\" ><label for=\"sk-estimator-id-36\" class=\"sk-toggleable__label sk-toggleable__label-arrow\">ColumnTransformer</label><div class=\"sk-toggleable__content\"><pre>ColumnTransformer(remainder=&#x27;passthrough&#x27;,\n",
       "                  transformers=[(&#x27;drop&#x27;, &#x27;drop&#x27;, [&#x27;SYMBOL1&#x27;]),\n",
       "                                (&#x27;onehotencoder&#x27;, OneHotEncoder(), [&#x27;MARKET&#x27;])])</pre></div></div></div><div class=\"sk-parallel\"><div class=\"sk-parallel-item\"><div class=\"sk-item\"><div class=\"sk-label-container\"><div class=\"sk-label sk-toggleable\"><input class=\"sk-toggleable__control sk-hidden--visually\" id=\"sk-estimator-id-37\" type=\"checkbox\" ><label for=\"sk-estimator-id-37\" class=\"sk-toggleable__label sk-toggleable__label-arrow\">drop</label><div class=\"sk-toggleable__content\"><pre>[&#x27;SYMBOL1&#x27;]</pre></div></div></div><div class=\"sk-serial\"><div class=\"sk-item\"><div class=\"sk-estimator sk-toggleable\"><input class=\"sk-toggleable__control sk-hidden--visually\" id=\"sk-estimator-id-38\" type=\"checkbox\" ><label for=\"sk-estimator-id-38\" class=\"sk-toggleable__label sk-toggleable__label-arrow\">drop</label><div class=\"sk-toggleable__content\"><pre>drop</pre></div></div></div></div></div></div><div class=\"sk-parallel-item\"><div class=\"sk-item\"><div class=\"sk-label-container\"><div class=\"sk-label sk-toggleable\"><input class=\"sk-toggleable__control sk-hidden--visually\" id=\"sk-estimator-id-39\" type=\"checkbox\" ><label for=\"sk-estimator-id-39\" class=\"sk-toggleable__label sk-toggleable__label-arrow\">onehotencoder</label><div class=\"sk-toggleable__content\"><pre>[&#x27;MARKET&#x27;]</pre></div></div></div><div class=\"sk-serial\"><div class=\"sk-item\"><div class=\"sk-estimator sk-toggleable\"><input class=\"sk-toggleable__control sk-hidden--visually\" id=\"sk-estimator-id-40\" type=\"checkbox\" ><label for=\"sk-estimator-id-40\" class=\"sk-toggleable__label sk-toggleable__label-arrow\">OneHotEncoder</label><div class=\"sk-toggleable__content\"><pre>OneHotEncoder()</pre></div></div></div></div></div></div><div class=\"sk-parallel-item\"><div class=\"sk-item\"><div class=\"sk-label-container\"><div class=\"sk-label sk-toggleable\"><input class=\"sk-toggleable__control sk-hidden--visually\" id=\"sk-estimator-id-41\" type=\"checkbox\" ><label for=\"sk-estimator-id-41\" class=\"sk-toggleable__label sk-toggleable__label-arrow\">remainder</label><div class=\"sk-toggleable__content\"><pre>[&#x27;SEC_CODE&#x27;, &#x27;VOLUME&#x27;, &#x27;TRADE_QTY&#x27;, &#x27;NO_OF_TRADES&#x27;, &#x27;BEST_ASK_PRICE&#x27;, &#x27;BEST_ASK_QTY&#x27;, &#x27;BEST_BID_PRICE&#x27;, &#x27;BEST_BID_QTY&#x27;, &#x27;YEAR&#x27;, &#x27;MONTH&#x27;, &#x27;DAY&#x27;]</pre></div></div></div><div class=\"sk-serial\"><div class=\"sk-item\"><div class=\"sk-estimator sk-toggleable\"><input class=\"sk-toggleable__control sk-hidden--visually\" id=\"sk-estimator-id-42\" type=\"checkbox\" ><label for=\"sk-estimator-id-42\" class=\"sk-toggleable__label sk-toggleable__label-arrow\">passthrough</label><div class=\"sk-toggleable__content\"><pre>passthrough</pre></div></div></div></div></div></div></div></div></div></div>"
      ],
      "text/plain": [
       "ColumnTransformer(remainder='passthrough',\n",
       "                  transformers=[('drop', 'drop', ['SYMBOL1']),\n",
       "                                ('onehotencoder', OneHotEncoder(), ['MARKET'])])"
      ]
     },
     "execution_count": 121,
     "metadata": {},
     "output_type": "execute_result"
    }
   ],
   "source": [
    "preprocessing.fit(X)"
   ]
  },
  {
   "cell_type": "code",
   "execution_count": 122,
   "id": "a13644ee",
   "metadata": {},
   "outputs": [
    {
     "data": {
      "text/plain": [
       "array(['onehotencoder__MARKET_0', 'onehotencoder__MARKET_2',\n",
       "       'remainder__SEC_CODE', 'remainder__NO_OF_TRADES',\n",
       "       'remainder__YEAR', 'remainder__MONTH', 'remainder__DAY'],\n",
       "      dtype=object)"
      ]
     },
     "execution_count": 122,
     "metadata": {},
     "output_type": "execute_result"
    }
   ],
   "source": [
    "preprocessing.get_feature_names_out()[SFS.fit(MinMaxScaler().fit_transform(preprocessing.fit_transform(X)), y).get_support()]"
   ]
  },
  {
   "cell_type": "code",
   "execution_count": 123,
   "id": "7217bd4e",
   "metadata": {},
   "outputs": [
    {
     "data": {
      "text/plain": [
       "array(['onehotencoder__MARKET_0', 'onehotencoder__MARKET_1',\n",
       "       'onehotencoder__MARKET_2', 'remainder__SEC_CODE',\n",
       "       'remainder__VOLUME', 'remainder__TRADE_QTY',\n",
       "       'remainder__NO_OF_TRADES', 'remainder__BEST_ASK_PRICE',\n",
       "       'remainder__BEST_ASK_QTY', 'remainder__BEST_BID_PRICE',\n",
       "       'remainder__BEST_BID_QTY', 'remainder__MONTH', 'remainder__DAY'],\n",
       "      dtype=object)"
      ]
     },
     "execution_count": 123,
     "metadata": {},
     "output_type": "execute_result"
    }
   ],
   "source": [
    "preprocessing.get_feature_names_out()[SKB.fit(MinMaxScaler().fit_transform(preprocessing.fit_transform(X)), y).get_support()]"
   ]
  },
  {
   "cell_type": "code",
   "execution_count": 124,
   "id": "753c19af",
   "metadata": {},
   "outputs": [
    {
     "data": {
      "text/plain": [
       "array(['onehotencoder__MARKET_0', 'onehotencoder__MARKET_1',\n",
       "       'onehotencoder__MARKET_2', 'remainder__SEC_CODE',\n",
       "       'remainder__MONTH', 'remainder__DAY'], dtype=object)"
      ]
     },
     "execution_count": 124,
     "metadata": {},
     "output_type": "execute_result"
    }
   ],
   "source": [
    "preprocessing.get_feature_names_out()[VT.fit(MinMaxScaler().fit_transform(preprocessing.fit_transform(X)), y).get_support()]"
   ]
  },
  {
   "cell_type": "code",
   "execution_count": 125,
   "id": "25b32909",
   "metadata": {},
   "outputs": [],
   "source": [
    "pipe_DT = Pipeline([('preprocessing',preprocessing),('scaling', MinMaxScaler()),('featureSelector',SFS),('regressor',ml_DT)])"
   ]
  },
  {
   "cell_type": "code",
   "execution_count": 126,
   "id": "1ec44f3c",
   "metadata": {},
   "outputs": [
    {
     "data": {
      "text/plain": [
       "{'preprocessing': ColumnTransformer(remainder='passthrough',\n",
       "                   transformers=[('drop', 'drop', ['SYMBOL1']),\n",
       "                                 ('onehotencoder', OneHotEncoder(), ['MARKET'])]),\n",
       " 'scaling': MinMaxScaler(),\n",
       " 'featureSelector': SequentialFeatureSelector(estimator=DecisionTreeRegressor(random_state=0),\n",
       "                           n_features_to_select='auto', scoring='r2'),\n",
       " 'regressor': DecisionTreeRegressor(random_state=0)}"
      ]
     },
     "execution_count": 126,
     "metadata": {},
     "output_type": "execute_result"
    }
   ],
   "source": [
    "pipe_DT.named_steps"
   ]
  },
  {
   "cell_type": "code",
   "execution_count": 127,
   "id": "85e77ddc",
   "metadata": {},
   "outputs": [],
   "source": [
    "grid_DT = GridSearchCV(pipe_DT, params, cv=10, scoring=['r2', 'neg_mean_absolute_error','neg_mean_squared_error','neg_root_mean_squared_error'], refit=False, n_jobs=-1)"
   ]
  },
  {
   "cell_type": "code",
   "execution_count": 128,
   "id": "699ddd85",
   "metadata": {},
   "outputs": [],
   "source": [
    "grid_DT.fit(X,y);"
   ]
  },
  {
   "cell_type": "code",
   "execution_count": 129,
   "id": "80d3f86a",
   "metadata": {},
   "outputs": [],
   "source": [
    "DT_df = pd.DataFrame(grid_DT.cv_results_)"
   ]
  },
  {
   "cell_type": "code",
   "execution_count": 130,
   "id": "395c9dde",
   "metadata": {},
   "outputs": [
    {
     "data": {
      "text/html": [
       "<div>\n",
       "<style scoped>\n",
       "    .dataframe tbody tr th:only-of-type {\n",
       "        vertical-align: middle;\n",
       "    }\n",
       "\n",
       "    .dataframe tbody tr th {\n",
       "        vertical-align: top;\n",
       "    }\n",
       "\n",
       "    .dataframe thead th {\n",
       "        text-align: right;\n",
       "    }\n",
       "</style>\n",
       "<table border=\"1\" class=\"dataframe\">\n",
       "  <thead>\n",
       "    <tr style=\"text-align: right;\">\n",
       "      <th></th>\n",
       "      <th>param_featureSelector</th>\n",
       "      <th>mean_test_r2</th>\n",
       "      <th>mean_test_neg_mean_absolute_error</th>\n",
       "      <th>mean_test_neg_mean_squared_error</th>\n",
       "      <th>mean_test_neg_root_mean_squared_error</th>\n",
       "    </tr>\n",
       "  </thead>\n",
       "  <tbody>\n",
       "    <tr>\n",
       "      <th>0</th>\n",
       "      <td>SequentialFeatureSelector(estimator=DecisionTr...</td>\n",
       "      <td>0.981389</td>\n",
       "      <td>-0.091812</td>\n",
       "      <td>-0.348135</td>\n",
       "      <td>-0.429547</td>\n",
       "    </tr>\n",
       "    <tr>\n",
       "      <th>1</th>\n",
       "      <td>SelectKBest(k=13, score_func=&lt;function f_regre...</td>\n",
       "      <td>0.975348</td>\n",
       "      <td>-0.161761</td>\n",
       "      <td>-0.473648</td>\n",
       "      <td>-0.590782</td>\n",
       "    </tr>\n",
       "    <tr>\n",
       "      <th>2</th>\n",
       "      <td>VarianceThreshold(threshold=0.005)</td>\n",
       "      <td>0.981885</td>\n",
       "      <td>-0.077796</td>\n",
       "      <td>-0.339944</td>\n",
       "      <td>-0.408561</td>\n",
       "    </tr>\n",
       "  </tbody>\n",
       "</table>\n",
       "</div>"
      ],
      "text/plain": [
       "                               param_featureSelector  mean_test_r2  \\\n",
       "0  SequentialFeatureSelector(estimator=DecisionTr...      0.981389   \n",
       "1  SelectKBest(k=13, score_func=<function f_regre...      0.975348   \n",
       "2                 VarianceThreshold(threshold=0.005)      0.981885   \n",
       "\n",
       "   mean_test_neg_mean_absolute_error  mean_test_neg_mean_squared_error  \\\n",
       "0                          -0.091812                         -0.348135   \n",
       "1                          -0.161761                         -0.473648   \n",
       "2                          -0.077796                         -0.339944   \n",
       "\n",
       "   mean_test_neg_root_mean_squared_error  \n",
       "0                              -0.429547  \n",
       "1                              -0.590782  \n",
       "2                              -0.408561  "
      ]
     },
     "execution_count": 130,
     "metadata": {},
     "output_type": "execute_result"
    }
   ],
   "source": [
    "DT_df[['param_featureSelector', 'mean_test_r2', 'mean_test_neg_mean_absolute_error', 'mean_test_neg_mean_squared_error','mean_test_neg_root_mean_squared_error']]"
   ]
  },
  {
   "cell_type": "markdown",
   "id": "8eb53e80",
   "metadata": {},
   "source": [
    "# Visualisation"
   ]
  },
  {
   "cell_type": "code",
   "execution_count": 131,
   "id": "45b0dfba",
   "metadata": {},
   "outputs": [
    {
     "name": "stderr",
     "output_type": "stream",
     "text": [
      "C:\\Users\\Housam\\anaconda3\\lib\\site-packages\\pandas\\core\\indexing.py:1667: SettingWithCopyWarning: \n",
      "A value is trying to be set on a copy of a slice from a DataFrame.\n",
      "Try using .loc[row_indexer,col_indexer] = value instead\n",
      "\n",
      "See the caveats in the documentation: https://pandas.pydata.org/pandas-docs/stable/user_guide/indexing.html#returning-a-view-versus-a-copy\n",
      "  self.obj[key] = value\n"
     ]
    }
   ],
   "source": [
    "LR_vis = LR_df[['param_featureSelector', 'mean_test_r2', 'mean_test_neg_mean_absolute_error', 'mean_test_neg_mean_squared_error','mean_test_neg_root_mean_squared_error']]\n",
    "LR_vis.loc[:, 'model'] = 'LR'\n",
    "LR_vis.loc[:, 'FS'] = ['SFS', 'SKB', 'VT']\n",
    "\n",
    "KNN_vis = KNN_df[['param_featureSelector', 'mean_test_r2', 'mean_test_neg_mean_absolute_error', 'mean_test_neg_mean_squared_error','mean_test_neg_root_mean_squared_error']]\n",
    "KNN_vis.loc[:, 'model'] = 'KNN'\n",
    "KNN_vis.loc[:, 'FS'] = ['SFS', 'SKB', 'VT']\n",
    "\n",
    "DT_vis = DT_df[['param_featureSelector', 'mean_test_r2', 'mean_test_neg_mean_absolute_error', 'mean_test_neg_mean_squared_error','mean_test_neg_root_mean_squared_error']]\n",
    "DT_vis.loc[:, 'model'] = 'DT'\n",
    "DT_vis.loc[:, 'FS'] = ['SFS', 'SKB', 'VT']\n",
    "\n",
    "vis_df = pd.concat([LR_vis, KNN_vis, DT_vis])"
   ]
  },
  {
   "cell_type": "code",
   "execution_count": 132,
   "id": "581f579e",
   "metadata": {
    "scrolled": true
   },
   "outputs": [
    {
     "data": {
      "text/html": [
       "<div>\n",
       "<style scoped>\n",
       "    .dataframe tbody tr th:only-of-type {\n",
       "        vertical-align: middle;\n",
       "    }\n",
       "\n",
       "    .dataframe tbody tr th {\n",
       "        vertical-align: top;\n",
       "    }\n",
       "\n",
       "    .dataframe thead th {\n",
       "        text-align: right;\n",
       "    }\n",
       "</style>\n",
       "<table border=\"1\" class=\"dataframe\">\n",
       "  <thead>\n",
       "    <tr style=\"text-align: right;\">\n",
       "      <th></th>\n",
       "      <th>param_featureSelector</th>\n",
       "      <th>mean_test_r2</th>\n",
       "      <th>mean_test_neg_mean_absolute_error</th>\n",
       "      <th>mean_test_neg_mean_squared_error</th>\n",
       "      <th>mean_test_neg_root_mean_squared_error</th>\n",
       "      <th>model</th>\n",
       "      <th>FS</th>\n",
       "    </tr>\n",
       "  </thead>\n",
       "  <tbody>\n",
       "    <tr>\n",
       "      <th>0</th>\n",
       "      <td>SequentialFeatureSelector(estimator=LinearRegr...</td>\n",
       "      <td>0.285513</td>\n",
       "      <td>-1.510751</td>\n",
       "      <td>-14.989307</td>\n",
       "      <td>-3.869476</td>\n",
       "      <td>LR</td>\n",
       "      <td>SFS</td>\n",
       "    </tr>\n",
       "    <tr>\n",
       "      <th>1</th>\n",
       "      <td>SelectKBest(k=13, score_func=&lt;function f_regre...</td>\n",
       "      <td>0.289697</td>\n",
       "      <td>-1.556736</td>\n",
       "      <td>-14.902215</td>\n",
       "      <td>-3.858185</td>\n",
       "      <td>LR</td>\n",
       "      <td>SKB</td>\n",
       "    </tr>\n",
       "    <tr>\n",
       "      <th>2</th>\n",
       "      <td>VarianceThreshold(threshold=0.005)</td>\n",
       "      <td>0.198344</td>\n",
       "      <td>-1.622545</td>\n",
       "      <td>-16.823703</td>\n",
       "      <td>-4.099136</td>\n",
       "      <td>LR</td>\n",
       "      <td>VT</td>\n",
       "    </tr>\n",
       "    <tr>\n",
       "      <th>0</th>\n",
       "      <td>SequentialFeatureSelector(estimator=KNeighbors...</td>\n",
       "      <td>0.906367</td>\n",
       "      <td>-0.343928</td>\n",
       "      <td>-1.924223</td>\n",
       "      <td>-1.341079</td>\n",
       "      <td>KNN</td>\n",
       "      <td>SFS</td>\n",
       "    </tr>\n",
       "    <tr>\n",
       "      <th>1</th>\n",
       "      <td>SelectKBest(k=11, score_func=&lt;function f_regre...</td>\n",
       "      <td>0.894031</td>\n",
       "      <td>-0.388986</td>\n",
       "      <td>-2.213149</td>\n",
       "      <td>-1.473831</td>\n",
       "      <td>KNN</td>\n",
       "      <td>SKB</td>\n",
       "    </tr>\n",
       "    <tr>\n",
       "      <th>2</th>\n",
       "      <td>VarianceThreshold(threshold=0.005)</td>\n",
       "      <td>0.444449</td>\n",
       "      <td>-0.981975</td>\n",
       "      <td>-11.637083</td>\n",
       "      <td>-3.406200</td>\n",
       "      <td>KNN</td>\n",
       "      <td>VT</td>\n",
       "    </tr>\n",
       "    <tr>\n",
       "      <th>0</th>\n",
       "      <td>SequentialFeatureSelector(estimator=DecisionTr...</td>\n",
       "      <td>0.981389</td>\n",
       "      <td>-0.091812</td>\n",
       "      <td>-0.348135</td>\n",
       "      <td>-0.429547</td>\n",
       "      <td>DT</td>\n",
       "      <td>SFS</td>\n",
       "    </tr>\n",
       "    <tr>\n",
       "      <th>1</th>\n",
       "      <td>SelectKBest(k=13, score_func=&lt;function f_regre...</td>\n",
       "      <td>0.975348</td>\n",
       "      <td>-0.161761</td>\n",
       "      <td>-0.473648</td>\n",
       "      <td>-0.590782</td>\n",
       "      <td>DT</td>\n",
       "      <td>SKB</td>\n",
       "    </tr>\n",
       "    <tr>\n",
       "      <th>2</th>\n",
       "      <td>VarianceThreshold(threshold=0.005)</td>\n",
       "      <td>0.981885</td>\n",
       "      <td>-0.077796</td>\n",
       "      <td>-0.339944</td>\n",
       "      <td>-0.408561</td>\n",
       "      <td>DT</td>\n",
       "      <td>VT</td>\n",
       "    </tr>\n",
       "  </tbody>\n",
       "</table>\n",
       "</div>"
      ],
      "text/plain": [
       "                               param_featureSelector  mean_test_r2  \\\n",
       "0  SequentialFeatureSelector(estimator=LinearRegr...      0.285513   \n",
       "1  SelectKBest(k=13, score_func=<function f_regre...      0.289697   \n",
       "2                 VarianceThreshold(threshold=0.005)      0.198344   \n",
       "0  SequentialFeatureSelector(estimator=KNeighbors...      0.906367   \n",
       "1  SelectKBest(k=11, score_func=<function f_regre...      0.894031   \n",
       "2                 VarianceThreshold(threshold=0.005)      0.444449   \n",
       "0  SequentialFeatureSelector(estimator=DecisionTr...      0.981389   \n",
       "1  SelectKBest(k=13, score_func=<function f_regre...      0.975348   \n",
       "2                 VarianceThreshold(threshold=0.005)      0.981885   \n",
       "\n",
       "   mean_test_neg_mean_absolute_error  mean_test_neg_mean_squared_error  \\\n",
       "0                          -1.510751                        -14.989307   \n",
       "1                          -1.556736                        -14.902215   \n",
       "2                          -1.622545                        -16.823703   \n",
       "0                          -0.343928                         -1.924223   \n",
       "1                          -0.388986                         -2.213149   \n",
       "2                          -0.981975                        -11.637083   \n",
       "0                          -0.091812                         -0.348135   \n",
       "1                          -0.161761                         -0.473648   \n",
       "2                          -0.077796                         -0.339944   \n",
       "\n",
       "   mean_test_neg_root_mean_squared_error model   FS  \n",
       "0                              -3.869476    LR  SFS  \n",
       "1                              -3.858185    LR  SKB  \n",
       "2                              -4.099136    LR   VT  \n",
       "0                              -1.341079   KNN  SFS  \n",
       "1                              -1.473831   KNN  SKB  \n",
       "2                              -3.406200   KNN   VT  \n",
       "0                              -0.429547    DT  SFS  \n",
       "1                              -0.590782    DT  SKB  \n",
       "2                              -0.408561    DT   VT  "
      ]
     },
     "execution_count": 132,
     "metadata": {},
     "output_type": "execute_result"
    }
   ],
   "source": [
    "vis_df"
   ]
  },
  {
   "cell_type": "code",
   "execution_count": 133,
   "id": "20a755f6",
   "metadata": {},
   "outputs": [],
   "source": [
    "vis_df[['mean_test_r2', 'mean_test_neg_mean_absolute_error', 'mean_test_neg_mean_squared_error','mean_test_neg_root_mean_squared_error']] = vis_df[['mean_test_r2', 'mean_test_neg_mean_absolute_error', 'mean_test_neg_mean_squared_error','mean_test_neg_root_mean_squared_error']].abs()"
   ]
  },
  {
   "cell_type": "code",
   "execution_count": 134,
   "id": "579f6ba0",
   "metadata": {},
   "outputs": [
    {
     "data": {
      "text/html": [
       "<div>\n",
       "<style scoped>\n",
       "    .dataframe tbody tr th:only-of-type {\n",
       "        vertical-align: middle;\n",
       "    }\n",
       "\n",
       "    .dataframe tbody tr th {\n",
       "        vertical-align: top;\n",
       "    }\n",
       "\n",
       "    .dataframe thead th {\n",
       "        text-align: right;\n",
       "    }\n",
       "</style>\n",
       "<table border=\"1\" class=\"dataframe\">\n",
       "  <thead>\n",
       "    <tr style=\"text-align: right;\">\n",
       "      <th></th>\n",
       "      <th>param_featureSelector</th>\n",
       "      <th>mean_test_r2</th>\n",
       "      <th>mean_test_neg_mean_absolute_error</th>\n",
       "      <th>mean_test_neg_mean_squared_error</th>\n",
       "      <th>mean_test_neg_root_mean_squared_error</th>\n",
       "      <th>model</th>\n",
       "      <th>FS</th>\n",
       "    </tr>\n",
       "  </thead>\n",
       "  <tbody>\n",
       "    <tr>\n",
       "      <th>0</th>\n",
       "      <td>SequentialFeatureSelector(estimator=LinearRegr...</td>\n",
       "      <td>0.285513</td>\n",
       "      <td>1.510751</td>\n",
       "      <td>14.989307</td>\n",
       "      <td>3.869476</td>\n",
       "      <td>LR</td>\n",
       "      <td>SFS</td>\n",
       "    </tr>\n",
       "    <tr>\n",
       "      <th>1</th>\n",
       "      <td>SelectKBest(k=13, score_func=&lt;function f_regre...</td>\n",
       "      <td>0.289697</td>\n",
       "      <td>1.556736</td>\n",
       "      <td>14.902215</td>\n",
       "      <td>3.858185</td>\n",
       "      <td>LR</td>\n",
       "      <td>SKB</td>\n",
       "    </tr>\n",
       "    <tr>\n",
       "      <th>2</th>\n",
       "      <td>VarianceThreshold(threshold=0.005)</td>\n",
       "      <td>0.198344</td>\n",
       "      <td>1.622545</td>\n",
       "      <td>16.823703</td>\n",
       "      <td>4.099136</td>\n",
       "      <td>LR</td>\n",
       "      <td>VT</td>\n",
       "    </tr>\n",
       "    <tr>\n",
       "      <th>0</th>\n",
       "      <td>SequentialFeatureSelector(estimator=KNeighbors...</td>\n",
       "      <td>0.906367</td>\n",
       "      <td>0.343928</td>\n",
       "      <td>1.924223</td>\n",
       "      <td>1.341079</td>\n",
       "      <td>KNN</td>\n",
       "      <td>SFS</td>\n",
       "    </tr>\n",
       "    <tr>\n",
       "      <th>1</th>\n",
       "      <td>SelectKBest(k=11, score_func=&lt;function f_regre...</td>\n",
       "      <td>0.894031</td>\n",
       "      <td>0.388986</td>\n",
       "      <td>2.213149</td>\n",
       "      <td>1.473831</td>\n",
       "      <td>KNN</td>\n",
       "      <td>SKB</td>\n",
       "    </tr>\n",
       "    <tr>\n",
       "      <th>2</th>\n",
       "      <td>VarianceThreshold(threshold=0.005)</td>\n",
       "      <td>0.444449</td>\n",
       "      <td>0.981975</td>\n",
       "      <td>11.637083</td>\n",
       "      <td>3.406200</td>\n",
       "      <td>KNN</td>\n",
       "      <td>VT</td>\n",
       "    </tr>\n",
       "    <tr>\n",
       "      <th>0</th>\n",
       "      <td>SequentialFeatureSelector(estimator=DecisionTr...</td>\n",
       "      <td>0.981389</td>\n",
       "      <td>0.091812</td>\n",
       "      <td>0.348135</td>\n",
       "      <td>0.429547</td>\n",
       "      <td>DT</td>\n",
       "      <td>SFS</td>\n",
       "    </tr>\n",
       "    <tr>\n",
       "      <th>1</th>\n",
       "      <td>SelectKBest(k=13, score_func=&lt;function f_regre...</td>\n",
       "      <td>0.975348</td>\n",
       "      <td>0.161761</td>\n",
       "      <td>0.473648</td>\n",
       "      <td>0.590782</td>\n",
       "      <td>DT</td>\n",
       "      <td>SKB</td>\n",
       "    </tr>\n",
       "    <tr>\n",
       "      <th>2</th>\n",
       "      <td>VarianceThreshold(threshold=0.005)</td>\n",
       "      <td>0.981885</td>\n",
       "      <td>0.077796</td>\n",
       "      <td>0.339944</td>\n",
       "      <td>0.408561</td>\n",
       "      <td>DT</td>\n",
       "      <td>VT</td>\n",
       "    </tr>\n",
       "  </tbody>\n",
       "</table>\n",
       "</div>"
      ],
      "text/plain": [
       "                               param_featureSelector  mean_test_r2  \\\n",
       "0  SequentialFeatureSelector(estimator=LinearRegr...      0.285513   \n",
       "1  SelectKBest(k=13, score_func=<function f_regre...      0.289697   \n",
       "2                 VarianceThreshold(threshold=0.005)      0.198344   \n",
       "0  SequentialFeatureSelector(estimator=KNeighbors...      0.906367   \n",
       "1  SelectKBest(k=11, score_func=<function f_regre...      0.894031   \n",
       "2                 VarianceThreshold(threshold=0.005)      0.444449   \n",
       "0  SequentialFeatureSelector(estimator=DecisionTr...      0.981389   \n",
       "1  SelectKBest(k=13, score_func=<function f_regre...      0.975348   \n",
       "2                 VarianceThreshold(threshold=0.005)      0.981885   \n",
       "\n",
       "   mean_test_neg_mean_absolute_error  mean_test_neg_mean_squared_error  \\\n",
       "0                           1.510751                         14.989307   \n",
       "1                           1.556736                         14.902215   \n",
       "2                           1.622545                         16.823703   \n",
       "0                           0.343928                          1.924223   \n",
       "1                           0.388986                          2.213149   \n",
       "2                           0.981975                         11.637083   \n",
       "0                           0.091812                          0.348135   \n",
       "1                           0.161761                          0.473648   \n",
       "2                           0.077796                          0.339944   \n",
       "\n",
       "   mean_test_neg_root_mean_squared_error model   FS  \n",
       "0                               3.869476    LR  SFS  \n",
       "1                               3.858185    LR  SKB  \n",
       "2                               4.099136    LR   VT  \n",
       "0                               1.341079   KNN  SFS  \n",
       "1                               1.473831   KNN  SKB  \n",
       "2                               3.406200   KNN   VT  \n",
       "0                               0.429547    DT  SFS  \n",
       "1                               0.590782    DT  SKB  \n",
       "2                               0.408561    DT   VT  "
      ]
     },
     "execution_count": 134,
     "metadata": {},
     "output_type": "execute_result"
    }
   ],
   "source": [
    "vis_df"
   ]
  },
  {
   "cell_type": "code",
   "execution_count": null,
   "id": "72bc8eb9",
   "metadata": {},
   "outputs": [],
   "source": []
  },
  {
   "cell_type": "markdown",
   "id": "ec793d64",
   "metadata": {},
   "source": [
    "### Linear Regression\n",
    " SequentialFeatureSelector(ml_LR, n_features_to_select='auto', scoring='r2')<br>\n",
    "SelectKBest(f_regression, k=13)<br>\n",
    "VarianceThreshold(threshold=0.005)\n",
    "\n",
    "### KNN\n",
    "SequentialFeatureSelector(ml_KNN, n_features_to_select='auto', scoring='r2')<br>\n",
    "SelectKBest(f_regression, k=11)<br>\n",
    "VarianceThreshold(threshold=0.005)\n",
    "\n",
    "### Decision Tree\n",
    "SequentialFeatureSelector(ml_DT, n_features_to_select='auto', scoring='r2')<br>\n",
    "SelectKBest(f_regression, k=13)<br>\n",
    "VarianceThreshold(threshold=0.005)"
   ]
  },
  {
   "cell_type": "markdown",
   "id": "59cbd902",
   "metadata": {},
   "source": [
    "## R2"
   ]
  },
  {
   "cell_type": "code",
   "execution_count": 135,
   "id": "fed40cc2",
   "metadata": {},
   "outputs": [
    {
     "data": {
      "text/html": [
       "<div>\n",
       "<style scoped>\n",
       "    .dataframe tbody tr th:only-of-type {\n",
       "        vertical-align: middle;\n",
       "    }\n",
       "\n",
       "    .dataframe tbody tr th {\n",
       "        vertical-align: top;\n",
       "    }\n",
       "\n",
       "    .dataframe thead th {\n",
       "        text-align: right;\n",
       "    }\n",
       "</style>\n",
       "<table border=\"1\" class=\"dataframe\">\n",
       "  <thead>\n",
       "    <tr style=\"text-align: right;\">\n",
       "      <th></th>\n",
       "      <th>model</th>\n",
       "      <th>FS</th>\n",
       "      <th>mean_test_r2</th>\n",
       "    </tr>\n",
       "  </thead>\n",
       "  <tbody>\n",
       "    <tr>\n",
       "      <th>0</th>\n",
       "      <td>LR</td>\n",
       "      <td>SFS</td>\n",
       "      <td>0.285513</td>\n",
       "    </tr>\n",
       "    <tr>\n",
       "      <th>1</th>\n",
       "      <td>LR</td>\n",
       "      <td>SKB</td>\n",
       "      <td>0.289697</td>\n",
       "    </tr>\n",
       "    <tr>\n",
       "      <th>2</th>\n",
       "      <td>LR</td>\n",
       "      <td>VT</td>\n",
       "      <td>0.198344</td>\n",
       "    </tr>\n",
       "    <tr>\n",
       "      <th>0</th>\n",
       "      <td>KNN</td>\n",
       "      <td>SFS</td>\n",
       "      <td>0.906367</td>\n",
       "    </tr>\n",
       "    <tr>\n",
       "      <th>1</th>\n",
       "      <td>KNN</td>\n",
       "      <td>SKB</td>\n",
       "      <td>0.894031</td>\n",
       "    </tr>\n",
       "    <tr>\n",
       "      <th>2</th>\n",
       "      <td>KNN</td>\n",
       "      <td>VT</td>\n",
       "      <td>0.444449</td>\n",
       "    </tr>\n",
       "    <tr>\n",
       "      <th>0</th>\n",
       "      <td>DT</td>\n",
       "      <td>SFS</td>\n",
       "      <td>0.981389</td>\n",
       "    </tr>\n",
       "    <tr>\n",
       "      <th>1</th>\n",
       "      <td>DT</td>\n",
       "      <td>SKB</td>\n",
       "      <td>0.975348</td>\n",
       "    </tr>\n",
       "    <tr>\n",
       "      <th>2</th>\n",
       "      <td>DT</td>\n",
       "      <td>VT</td>\n",
       "      <td>0.981885</td>\n",
       "    </tr>\n",
       "  </tbody>\n",
       "</table>\n",
       "</div>"
      ],
      "text/plain": [
       "  model   FS  mean_test_r2\n",
       "0    LR  SFS      0.285513\n",
       "1    LR  SKB      0.289697\n",
       "2    LR   VT      0.198344\n",
       "0   KNN  SFS      0.906367\n",
       "1   KNN  SKB      0.894031\n",
       "2   KNN   VT      0.444449\n",
       "0    DT  SFS      0.981389\n",
       "1    DT  SKB      0.975348\n",
       "2    DT   VT      0.981885"
      ]
     },
     "execution_count": 135,
     "metadata": {},
     "output_type": "execute_result"
    }
   ],
   "source": [
    "vis_df[['model','FS','mean_test_r2']]"
   ]
  },
  {
   "cell_type": "code",
   "execution_count": 136,
   "id": "974049b5",
   "metadata": {},
   "outputs": [
    {
     "data": {
      "image/png": "[encoded data removed]",
      "text/plain": [
       "<Figure size 1080x720 with 1 Axes>"
      ]
     },
     "metadata": {
      "needs_background": "light"
     },
     "output_type": "display_data"
    }
   ],
   "source": [
    "plt.figure(figsize=(15,10))\n",
    "sns.barplot(data=vis_df, x='model', y='mean_test_r2', hue='FS')\n",
    "plt.title('R2')\n",
    "plt.ylabel('');"
   ]
  },
  {
   "cell_type": "markdown",
   "id": "ea348655",
   "metadata": {},
   "source": [
    "## MAE"
   ]
  },
  {
   "cell_type": "code",
   "execution_count": 137,
   "id": "2a0a08b7",
   "metadata": {},
   "outputs": [
    {
     "data": {
      "text/html": [
       "<div>\n",
       "<style scoped>\n",
       "    .dataframe tbody tr th:only-of-type {\n",
       "        vertical-align: middle;\n",
       "    }\n",
       "\n",
       "    .dataframe tbody tr th {\n",
       "        vertical-align: top;\n",
       "    }\n",
       "\n",
       "    .dataframe thead th {\n",
       "        text-align: right;\n",
       "    }\n",
       "</style>\n",
       "<table border=\"1\" class=\"dataframe\">\n",
       "  <thead>\n",
       "    <tr style=\"text-align: right;\">\n",
       "      <th></th>\n",
       "      <th>model</th>\n",
       "      <th>FS</th>\n",
       "      <th>mean_test_neg_mean_absolute_error</th>\n",
       "    </tr>\n",
       "  </thead>\n",
       "  <tbody>\n",
       "    <tr>\n",
       "      <th>0</th>\n",
       "      <td>LR</td>\n",
       "      <td>SFS</td>\n",
       "      <td>1.510751</td>\n",
       "    </tr>\n",
       "    <tr>\n",
       "      <th>1</th>\n",
       "      <td>LR</td>\n",
       "      <td>SKB</td>\n",
       "      <td>1.556736</td>\n",
       "    </tr>\n",
       "    <tr>\n",
       "      <th>2</th>\n",
       "      <td>LR</td>\n",
       "      <td>VT</td>\n",
       "      <td>1.622545</td>\n",
       "    </tr>\n",
       "    <tr>\n",
       "      <th>0</th>\n",
       "      <td>KNN</td>\n",
       "      <td>SFS</td>\n",
       "      <td>0.343928</td>\n",
       "    </tr>\n",
       "    <tr>\n",
       "      <th>1</th>\n",
       "      <td>KNN</td>\n",
       "      <td>SKB</td>\n",
       "      <td>0.388986</td>\n",
       "    </tr>\n",
       "    <tr>\n",
       "      <th>2</th>\n",
       "      <td>KNN</td>\n",
       "      <td>VT</td>\n",
       "      <td>0.981975</td>\n",
       "    </tr>\n",
       "    <tr>\n",
       "      <th>0</th>\n",
       "      <td>DT</td>\n",
       "      <td>SFS</td>\n",
       "      <td>0.091812</td>\n",
       "    </tr>\n",
       "    <tr>\n",
       "      <th>1</th>\n",
       "      <td>DT</td>\n",
       "      <td>SKB</td>\n",
       "      <td>0.161761</td>\n",
       "    </tr>\n",
       "    <tr>\n",
       "      <th>2</th>\n",
       "      <td>DT</td>\n",
       "      <td>VT</td>\n",
       "      <td>0.077796</td>\n",
       "    </tr>\n",
       "  </tbody>\n",
       "</table>\n",
       "</div>"
      ],
      "text/plain": [
       "  model   FS  mean_test_neg_mean_absolute_error\n",
       "0    LR  SFS                           1.510751\n",
       "1    LR  SKB                           1.556736\n",
       "2    LR   VT                           1.622545\n",
       "0   KNN  SFS                           0.343928\n",
       "1   KNN  SKB                           0.388986\n",
       "2   KNN   VT                           0.981975\n",
       "0    DT  SFS                           0.091812\n",
       "1    DT  SKB                           0.161761\n",
       "2    DT   VT                           0.077796"
      ]
     },
     "execution_count": 137,
     "metadata": {},
     "output_type": "execute_result"
    }
   ],
   "source": [
    "vis_df[['model','FS','mean_test_neg_mean_absolute_error']]"
   ]
  },
  {
   "cell_type": "code",
   "execution_count": 138,
   "id": "c30c8cb2",
   "metadata": {},
   "outputs": [
    {
     "data": {
      "image/png": "[encoded data removed]",
      "text/plain": [
       "<Figure size 1080x720 with 1 Axes>"
      ]
     },
     "metadata": {
      "needs_background": "light"
     },
     "output_type": "display_data"
    }
   ],
   "source": [
    "plt.figure(figsize=(15,10))\n",
    "sns.barplot(data=vis_df, x='model', y='mean_test_neg_mean_absolute_error', hue='FS')\n",
    "plt.title('MAE')\n",
    "plt.ylabel('');"
   ]
  },
  {
   "cell_type": "markdown",
   "id": "a0e21ad3",
   "metadata": {},
   "source": [
    "## MSE"
   ]
  },
  {
   "cell_type": "code",
   "execution_count": 139,
   "id": "fe005aa4",
   "metadata": {},
   "outputs": [
    {
     "data": {
      "text/html": [
       "<div>\n",
       "<style scoped>\n",
       "    .dataframe tbody tr th:only-of-type {\n",
       "        vertical-align: middle;\n",
       "    }\n",
       "\n",
       "    .dataframe tbody tr th {\n",
       "        vertical-align: top;\n",
       "    }\n",
       "\n",
       "    .dataframe thead th {\n",
       "        text-align: right;\n",
       "    }\n",
       "</style>\n",
       "<table border=\"1\" class=\"dataframe\">\n",
       "  <thead>\n",
       "    <tr style=\"text-align: right;\">\n",
       "      <th></th>\n",
       "      <th>model</th>\n",
       "      <th>FS</th>\n",
       "      <th>mean_test_neg_mean_squared_error</th>\n",
       "    </tr>\n",
       "  </thead>\n",
       "  <tbody>\n",
       "    <tr>\n",
       "      <th>0</th>\n",
       "      <td>LR</td>\n",
       "      <td>SFS</td>\n",
       "      <td>14.989307</td>\n",
       "    </tr>\n",
       "    <tr>\n",
       "      <th>1</th>\n",
       "      <td>LR</td>\n",
       "      <td>SKB</td>\n",
       "      <td>14.902215</td>\n",
       "    </tr>\n",
       "    <tr>\n",
       "      <th>2</th>\n",
       "      <td>LR</td>\n",
       "      <td>VT</td>\n",
       "      <td>16.823703</td>\n",
       "    </tr>\n",
       "    <tr>\n",
       "      <th>0</th>\n",
       "      <td>KNN</td>\n",
       "      <td>SFS</td>\n",
       "      <td>1.924223</td>\n",
       "    </tr>\n",
       "    <tr>\n",
       "      <th>1</th>\n",
       "      <td>KNN</td>\n",
       "      <td>SKB</td>\n",
       "      <td>2.213149</td>\n",
       "    </tr>\n",
       "    <tr>\n",
       "      <th>2</th>\n",
       "      <td>KNN</td>\n",
       "      <td>VT</td>\n",
       "      <td>11.637083</td>\n",
       "    </tr>\n",
       "    <tr>\n",
       "      <th>0</th>\n",
       "      <td>DT</td>\n",
       "      <td>SFS</td>\n",
       "      <td>0.348135</td>\n",
       "    </tr>\n",
       "    <tr>\n",
       "      <th>1</th>\n",
       "      <td>DT</td>\n",
       "      <td>SKB</td>\n",
       "      <td>0.473648</td>\n",
       "    </tr>\n",
       "    <tr>\n",
       "      <th>2</th>\n",
       "      <td>DT</td>\n",
       "      <td>VT</td>\n",
       "      <td>0.339944</td>\n",
       "    </tr>\n",
       "  </tbody>\n",
       "</table>\n",
       "</div>"
      ],
      "text/plain": [
       "  model   FS  mean_test_neg_mean_squared_error\n",
       "0    LR  SFS                         14.989307\n",
       "1    LR  SKB                         14.902215\n",
       "2    LR   VT                         16.823703\n",
       "0   KNN  SFS                          1.924223\n",
       "1   KNN  SKB                          2.213149\n",
       "2   KNN   VT                         11.637083\n",
       "0    DT  SFS                          0.348135\n",
       "1    DT  SKB                          0.473648\n",
       "2    DT   VT                          0.339944"
      ]
     },
     "execution_count": 139,
     "metadata": {},
     "output_type": "execute_result"
    }
   ],
   "source": [
    "vis_df[['model','FS','mean_test_neg_mean_squared_error']]"
   ]
  },
  {
   "cell_type": "code",
   "execution_count": 140,
   "id": "a8740fe0",
   "metadata": {},
   "outputs": [
    {
     "data": {
      "image/png": "[encoded data removed]",
      "text/plain": [
       "<Figure size 1080x720 with 1 Axes>"
      ]
     },
     "metadata": {
      "needs_background": "light"
     },
     "output_type": "display_data"
    }
   ],
   "source": [
    "plt.figure(figsize=(15,10))\n",
    "sns.barplot(data=vis_df, x='model', y='mean_test_neg_mean_squared_error', hue='FS')\n",
    "plt.title('MSE')\n",
    "plt.ylabel('');"
   ]
  },
  {
   "cell_type": "markdown",
   "id": "fc2436ef",
   "metadata": {},
   "source": [
    "## RMSE"
   ]
  },
  {
   "cell_type": "code",
   "execution_count": 141,
   "id": "8c8147e8",
   "metadata": {},
   "outputs": [
    {
     "data": {
      "text/html": [
       "<div>\n",
       "<style scoped>\n",
       "    .dataframe tbody tr th:only-of-type {\n",
       "        vertical-align: middle;\n",
       "    }\n",
       "\n",
       "    .dataframe tbody tr th {\n",
       "        vertical-align: top;\n",
       "    }\n",
       "\n",
       "    .dataframe thead th {\n",
       "        text-align: right;\n",
       "    }\n",
       "</style>\n",
       "<table border=\"1\" class=\"dataframe\">\n",
       "  <thead>\n",
       "    <tr style=\"text-align: right;\">\n",
       "      <th></th>\n",
       "      <th>model</th>\n",
       "      <th>FS</th>\n",
       "      <th>mean_test_neg_root_mean_squared_error</th>\n",
       "    </tr>\n",
       "  </thead>\n",
       "  <tbody>\n",
       "    <tr>\n",
       "      <th>0</th>\n",
       "      <td>LR</td>\n",
       "      <td>SFS</td>\n",
       "      <td>3.869476</td>\n",
       "    </tr>\n",
       "    <tr>\n",
       "      <th>1</th>\n",
       "      <td>LR</td>\n",
       "      <td>SKB</td>\n",
       "      <td>3.858185</td>\n",
       "    </tr>\n",
       "    <tr>\n",
       "      <th>2</th>\n",
       "      <td>LR</td>\n",
       "      <td>VT</td>\n",
       "      <td>4.099136</td>\n",
       "    </tr>\n",
       "    <tr>\n",
       "      <th>0</th>\n",
       "      <td>KNN</td>\n",
       "      <td>SFS</td>\n",
       "      <td>1.341079</td>\n",
       "    </tr>\n",
       "    <tr>\n",
       "      <th>1</th>\n",
       "      <td>KNN</td>\n",
       "      <td>SKB</td>\n",
       "      <td>1.473831</td>\n",
       "    </tr>\n",
       "    <tr>\n",
       "      <th>2</th>\n",
       "      <td>KNN</td>\n",
       "      <td>VT</td>\n",
       "      <td>3.406200</td>\n",
       "    </tr>\n",
       "    <tr>\n",
       "      <th>0</th>\n",
       "      <td>DT</td>\n",
       "      <td>SFS</td>\n",
       "      <td>0.429547</td>\n",
       "    </tr>\n",
       "    <tr>\n",
       "      <th>1</th>\n",
       "      <td>DT</td>\n",
       "      <td>SKB</td>\n",
       "      <td>0.590782</td>\n",
       "    </tr>\n",
       "    <tr>\n",
       "      <th>2</th>\n",
       "      <td>DT</td>\n",
       "      <td>VT</td>\n",
       "      <td>0.408561</td>\n",
       "    </tr>\n",
       "  </tbody>\n",
       "</table>\n",
       "</div>"
      ],
      "text/plain": [
       "  model   FS  mean_test_neg_root_mean_squared_error\n",
       "0    LR  SFS                               3.869476\n",
       "1    LR  SKB                               3.858185\n",
       "2    LR   VT                               4.099136\n",
       "0   KNN  SFS                               1.341079\n",
       "1   KNN  SKB                               1.473831\n",
       "2   KNN   VT                               3.406200\n",
       "0    DT  SFS                               0.429547\n",
       "1    DT  SKB                               0.590782\n",
       "2    DT   VT                               0.408561"
      ]
     },
     "execution_count": 141,
     "metadata": {},
     "output_type": "execute_result"
    }
   ],
   "source": [
    "vis_df[['model','FS','mean_test_neg_root_mean_squared_error']]"
   ]
  },
  {
   "cell_type": "code",
   "execution_count": 142,
   "id": "2bf67cfb",
   "metadata": {
    "scrolled": false
   },
   "outputs": [
    {
     "data": {
      "image/png": "[encoded data removed]",
      "text/plain": [
       "<Figure size 1080x720 with 1 Axes>"
      ]
     },
     "metadata": {
      "needs_background": "light"
     },
     "output_type": "display_data"
    }
   ],
   "source": [
    "plt.figure(figsize=(15,10))\n",
    "sns.barplot(data=vis_df, x='model', y='mean_test_neg_root_mean_squared_error', hue='FS')\n",
    "plt.title('RMSE')\n",
    "plt.ylabel('');"
   ]
  },
  {
   "cell_type": "code",
   "execution_count": null,
   "id": "cf4c7e48",
   "metadata": {},
   "outputs": [],
   "source": []
  },
  {
   "cell_type": "code",
   "execution_count": null,
   "id": "c1bb8f1d",
   "metadata": {},
   "outputs": [],
   "source": []
  }
 ],
 "metadata": {
  "kernelspec": {
   "display_name": "Python 3 (ipykernel)",
   "language": "python",
   "name": "python3"
  },
  "language_info": {
   "codemirror_mode": {
    "name": "ipython",
    "version": 3
   },
   "file_extension": ".py",
   "mimetype": "text/x-python",
   "name": "python",
   "nbconvert_exporter": "python",
   "pygments_lexer": "ipython3",
   "version": "3.9.7"
  }
 },
 "nbformat": 4,
 "nbformat_minor": 5
}
